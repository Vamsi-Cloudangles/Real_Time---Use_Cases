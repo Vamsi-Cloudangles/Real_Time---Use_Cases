{
 "cells": [
  {
   "cell_type": "code",
   "execution_count": 1,
   "id": "6c9adfe3",
   "metadata": {
    "execution": {
     "iopub.execute_input": "2022-11-12T20:45:58.694708Z",
     "iopub.status.busy": "2022-11-12T20:45:58.693855Z",
     "iopub.status.idle": "2022-11-12T20:45:59.871088Z",
     "shell.execute_reply": "2022-11-12T20:45:59.870137Z"
    },
    "papermill": {
     "duration": 1.209182,
     "end_time": "2022-11-12T20:45:59.873973",
     "exception": false,
     "start_time": "2022-11-12T20:45:58.664791",
     "status": "completed"
    },
    "tags": []
   },
   "outputs": [],
   "source": [
    "import numpy as np\n",
    "import pandas as pd\n",
    "from sklearn.metrics import plot_confusion_matrix \n",
    "import warnings \n",
    "warnings.filterwarnings('ignore')"
   ]
  },
  {
   "cell_type": "code",
   "execution_count": 2,
   "id": "6cdcb8be",
   "metadata": {
    "execution": {
     "iopub.execute_input": "2022-11-12T20:45:59.923003Z",
     "iopub.status.busy": "2022-11-12T20:45:59.922318Z",
     "iopub.status.idle": "2022-11-12T20:45:59.932501Z",
     "shell.execute_reply": "2022-11-12T20:45:59.931323Z"
    },
    "papermill": {
     "duration": 0.038335,
     "end_time": "2022-11-12T20:45:59.935470",
     "exception": false,
     "start_time": "2022-11-12T20:45:59.897135",
     "status": "completed"
    },
    "tags": []
   },
   "outputs": [
    {
     "name": "stdout",
     "output_type": "stream",
     "text": [
      "/kaggle/input/sms-spam-collection-dataset/spam.csv\n"
     ]
    }
   ],
   "source": [
    "import os\n",
    "for dirname, _, filenames in os.walk('/kaggle/input'):\n",
    "    for filename in filenames:\n",
    "        print(os.path.join(dirname, filename))"
   ]
  },
  {
   "cell_type": "code",
   "execution_count": 3,
   "id": "9b63fb9f",
   "metadata": {
    "execution": {
     "iopub.execute_input": "2022-11-12T20:45:59.985073Z",
     "iopub.status.busy": "2022-11-12T20:45:59.984643Z",
     "iopub.status.idle": "2022-11-12T20:46:00.025621Z",
     "shell.execute_reply": "2022-11-12T20:46:00.024576Z"
    },
    "papermill": {
     "duration": 0.068559,
     "end_time": "2022-11-12T20:46:00.028145",
     "exception": false,
     "start_time": "2022-11-12T20:45:59.959586",
     "status": "completed"
    },
    "tags": []
   },
   "outputs": [],
   "source": [
    "df = pd.read_csv('../input/sms-spam-collection-dataset/spam.csv', encoding='latin')"
   ]
  },
  {
   "cell_type": "code",
   "execution_count": 4,
   "id": "3240d162",
   "metadata": {
    "execution": {
     "iopub.execute_input": "2022-11-12T20:46:00.078305Z",
     "iopub.status.busy": "2022-11-12T20:46:00.077573Z",
     "iopub.status.idle": "2022-11-12T20:46:00.104283Z",
     "shell.execute_reply": "2022-11-12T20:46:00.103305Z"
    },
    "papermill": {
     "duration": 0.056501,
     "end_time": "2022-11-12T20:46:00.108630",
     "exception": false,
     "start_time": "2022-11-12T20:46:00.052129",
     "status": "completed"
    },
    "tags": []
   },
   "outputs": [
    {
     "data": {
      "text/html": [
       "<div>\n",
       "<style scoped>\n",
       "    .dataframe tbody tr th:only-of-type {\n",
       "        vertical-align: middle;\n",
       "    }\n",
       "\n",
       "    .dataframe tbody tr th {\n",
       "        vertical-align: top;\n",
       "    }\n",
       "\n",
       "    .dataframe thead th {\n",
       "        text-align: right;\n",
       "    }\n",
       "</style>\n",
       "<table border=\"1\" class=\"dataframe\">\n",
       "  <thead>\n",
       "    <tr style=\"text-align: right;\">\n",
       "      <th></th>\n",
       "      <th>v1</th>\n",
       "      <th>v2</th>\n",
       "      <th>Unnamed: 2</th>\n",
       "      <th>Unnamed: 3</th>\n",
       "      <th>Unnamed: 4</th>\n",
       "    </tr>\n",
       "  </thead>\n",
       "  <tbody>\n",
       "    <tr>\n",
       "      <th>2870</th>\n",
       "      <td>ham</td>\n",
       "      <td>I actually did for the first time in a while. ...</td>\n",
       "      <td>NaN</td>\n",
       "      <td>NaN</td>\n",
       "      <td>NaN</td>\n",
       "    </tr>\n",
       "    <tr>\n",
       "      <th>3008</th>\n",
       "      <td>spam</td>\n",
       "      <td>Update_Now - 12Mths Half Price Orange line ren...</td>\n",
       "      <td>NaN</td>\n",
       "      <td>NaN</td>\n",
       "      <td>NaN</td>\n",
       "    </tr>\n",
       "    <tr>\n",
       "      <th>1482</th>\n",
       "      <td>ham</td>\n",
       "      <td>Ok...</td>\n",
       "      <td>NaN</td>\n",
       "      <td>NaN</td>\n",
       "      <td>NaN</td>\n",
       "    </tr>\n",
       "    <tr>\n",
       "      <th>859</th>\n",
       "      <td>ham</td>\n",
       "      <td>Did he just say somebody is named tampa</td>\n",
       "      <td>NaN</td>\n",
       "      <td>NaN</td>\n",
       "      <td>NaN</td>\n",
       "    </tr>\n",
       "    <tr>\n",
       "      <th>2940</th>\n",
       "      <td>ham</td>\n",
       "      <td>My supervisor find 4 me one lor i thk his stud...</td>\n",
       "      <td>NaN</td>\n",
       "      <td>NaN</td>\n",
       "      <td>NaN</td>\n",
       "    </tr>\n",
       "  </tbody>\n",
       "</table>\n",
       "</div>"
      ],
      "text/plain": [
       "        v1                                                 v2 Unnamed: 2  \\\n",
       "2870   ham  I actually did for the first time in a while. ...        NaN   \n",
       "3008  spam  Update_Now - 12Mths Half Price Orange line ren...        NaN   \n",
       "1482   ham                                              Ok...        NaN   \n",
       "859    ham            Did he just say somebody is named tampa        NaN   \n",
       "2940   ham  My supervisor find 4 me one lor i thk his stud...        NaN   \n",
       "\n",
       "     Unnamed: 3 Unnamed: 4  \n",
       "2870        NaN        NaN  \n",
       "3008        NaN        NaN  \n",
       "1482        NaN        NaN  \n",
       "859         NaN        NaN  \n",
       "2940        NaN        NaN  "
      ]
     },
     "execution_count": 4,
     "metadata": {},
     "output_type": "execute_result"
    }
   ],
   "source": [
    "df.sample(5)"
   ]
  },
  {
   "cell_type": "code",
   "execution_count": 5,
   "id": "b0bfd657",
   "metadata": {
    "execution": {
     "iopub.execute_input": "2022-11-12T20:46:00.163413Z",
     "iopub.status.busy": "2022-11-12T20:46:00.162564Z",
     "iopub.status.idle": "2022-11-12T20:46:00.171028Z",
     "shell.execute_reply": "2022-11-12T20:46:00.169774Z"
    },
    "papermill": {
     "duration": 0.040226,
     "end_time": "2022-11-12T20:46:00.175318",
     "exception": false,
     "start_time": "2022-11-12T20:46:00.135092",
     "status": "completed"
    },
    "tags": []
   },
   "outputs": [
    {
     "data": {
      "text/plain": [
       "(5572, 5)"
      ]
     },
     "execution_count": 5,
     "metadata": {},
     "output_type": "execute_result"
    }
   ],
   "source": [
    "df.shape"
   ]
  },
  {
   "cell_type": "markdown",
   "id": "bec7585a",
   "metadata": {
    "papermill": {
     "duration": 0.02397,
     "end_time": "2022-11-12T20:46:00.233675",
     "exception": false,
     "start_time": "2022-11-12T20:46:00.209705",
     "status": "completed"
    },
    "tags": []
   },
   "source": [
    "1. Data cleaning\n",
    "2. EDA\n",
    "3. Text Preprocessing\n",
    "4. Model building\n",
    "5. Evaluation\n",
    "6. Improvement\n"
   ]
  },
  {
   "cell_type": "markdown",
   "id": "fe1f30ec",
   "metadata": {
    "papermill": {
     "duration": 0.023578,
     "end_time": "2022-11-12T20:46:00.280564",
     "exception": false,
     "start_time": "2022-11-12T20:46:00.256986",
     "status": "completed"
    },
    "tags": []
   },
   "source": [
    "## 1. Data Cleaning"
   ]
  },
  {
   "cell_type": "code",
   "execution_count": 6,
   "id": "a04799cd",
   "metadata": {
    "execution": {
     "iopub.execute_input": "2022-11-12T20:46:00.329399Z",
     "iopub.status.busy": "2022-11-12T20:46:00.328963Z",
     "iopub.status.idle": "2022-11-12T20:46:00.354389Z",
     "shell.execute_reply": "2022-11-12T20:46:00.352711Z"
    },
    "papermill": {
     "duration": 0.053246,
     "end_time": "2022-11-12T20:46:00.356973",
     "exception": false,
     "start_time": "2022-11-12T20:46:00.303727",
     "status": "completed"
    },
    "tags": []
   },
   "outputs": [
    {
     "name": "stdout",
     "output_type": "stream",
     "text": [
      "<class 'pandas.core.frame.DataFrame'>\n",
      "RangeIndex: 5572 entries, 0 to 5571\n",
      "Data columns (total 5 columns):\n",
      " #   Column      Non-Null Count  Dtype \n",
      "---  ------      --------------  ----- \n",
      " 0   v1          5572 non-null   object\n",
      " 1   v2          5572 non-null   object\n",
      " 2   Unnamed: 2  50 non-null     object\n",
      " 3   Unnamed: 3  12 non-null     object\n",
      " 4   Unnamed: 4  6 non-null      object\n",
      "dtypes: object(5)\n",
      "memory usage: 217.8+ KB\n"
     ]
    }
   ],
   "source": [
    "df.info()"
   ]
  },
  {
   "cell_type": "code",
   "execution_count": 7,
   "id": "ba24ec2d",
   "metadata": {
    "execution": {
     "iopub.execute_input": "2022-11-12T20:46:00.407922Z",
     "iopub.status.busy": "2022-11-12T20:46:00.406647Z",
     "iopub.status.idle": "2022-11-12T20:46:00.414516Z",
     "shell.execute_reply": "2022-11-12T20:46:00.413204Z"
    },
    "papermill": {
     "duration": 0.035706,
     "end_time": "2022-11-12T20:46:00.417273",
     "exception": false,
     "start_time": "2022-11-12T20:46:00.381567",
     "status": "completed"
    },
    "tags": []
   },
   "outputs": [],
   "source": [
    "# drop last 3 cols\n",
    "df.drop(columns=['Unnamed: 2','Unnamed: 3','Unnamed: 4'],inplace=True)"
   ]
  },
  {
   "cell_type": "code",
   "execution_count": 8,
   "id": "8dd29408",
   "metadata": {
    "execution": {
     "iopub.execute_input": "2022-11-12T20:46:00.467255Z",
     "iopub.status.busy": "2022-11-12T20:46:00.466825Z",
     "iopub.status.idle": "2022-11-12T20:46:00.479500Z",
     "shell.execute_reply": "2022-11-12T20:46:00.478180Z"
    },
    "papermill": {
     "duration": 0.040425,
     "end_time": "2022-11-12T20:46:00.482072",
     "exception": false,
     "start_time": "2022-11-12T20:46:00.441647",
     "status": "completed"
    },
    "tags": []
   },
   "outputs": [
    {
     "data": {
      "text/html": [
       "<div>\n",
       "<style scoped>\n",
       "    .dataframe tbody tr th:only-of-type {\n",
       "        vertical-align: middle;\n",
       "    }\n",
       "\n",
       "    .dataframe tbody tr th {\n",
       "        vertical-align: top;\n",
       "    }\n",
       "\n",
       "    .dataframe thead th {\n",
       "        text-align: right;\n",
       "    }\n",
       "</style>\n",
       "<table border=\"1\" class=\"dataframe\">\n",
       "  <thead>\n",
       "    <tr style=\"text-align: right;\">\n",
       "      <th></th>\n",
       "      <th>v1</th>\n",
       "      <th>v2</th>\n",
       "    </tr>\n",
       "  </thead>\n",
       "  <tbody>\n",
       "    <tr>\n",
       "      <th>3414</th>\n",
       "      <td>ham</td>\n",
       "      <td>He remains a bro amongst bros</td>\n",
       "    </tr>\n",
       "    <tr>\n",
       "      <th>1265</th>\n",
       "      <td>ham</td>\n",
       "      <td>Im in inperialmusic listening2the weirdest tra...</td>\n",
       "    </tr>\n",
       "    <tr>\n",
       "      <th>3014</th>\n",
       "      <td>ham</td>\n",
       "      <td>&amp;lt;#&amp;gt;  mins but i had to stop somewhere f...</td>\n",
       "    </tr>\n",
       "    <tr>\n",
       "      <th>2799</th>\n",
       "      <td>ham</td>\n",
       "      <td>House-Maid is the murderer, coz the man was mu...</td>\n",
       "    </tr>\n",
       "    <tr>\n",
       "      <th>4624</th>\n",
       "      <td>ham</td>\n",
       "      <td>I'm on the bus. Love you</td>\n",
       "    </tr>\n",
       "  </tbody>\n",
       "</table>\n",
       "</div>"
      ],
      "text/plain": [
       "       v1                                                 v2\n",
       "3414  ham                      He remains a bro amongst bros\n",
       "1265  ham  Im in inperialmusic listening2the weirdest tra...\n",
       "3014  ham   &lt;#&gt;  mins but i had to stop somewhere f...\n",
       "2799  ham  House-Maid is the murderer, coz the man was mu...\n",
       "4624  ham                           I'm on the bus. Love you"
      ]
     },
     "execution_count": 8,
     "metadata": {},
     "output_type": "execute_result"
    }
   ],
   "source": [
    "df.sample(5)"
   ]
  },
  {
   "cell_type": "code",
   "execution_count": 9,
   "id": "2a177e0d",
   "metadata": {
    "execution": {
     "iopub.execute_input": "2022-11-12T20:46:00.533505Z",
     "iopub.status.busy": "2022-11-12T20:46:00.533113Z",
     "iopub.status.idle": "2022-11-12T20:46:00.545441Z",
     "shell.execute_reply": "2022-11-12T20:46:00.544142Z"
    },
    "papermill": {
     "duration": 0.041339,
     "end_time": "2022-11-12T20:46:00.548068",
     "exception": false,
     "start_time": "2022-11-12T20:46:00.506729",
     "status": "completed"
    },
    "tags": []
   },
   "outputs": [
    {
     "data": {
      "text/html": [
       "<div>\n",
       "<style scoped>\n",
       "    .dataframe tbody tr th:only-of-type {\n",
       "        vertical-align: middle;\n",
       "    }\n",
       "\n",
       "    .dataframe tbody tr th {\n",
       "        vertical-align: top;\n",
       "    }\n",
       "\n",
       "    .dataframe thead th {\n",
       "        text-align: right;\n",
       "    }\n",
       "</style>\n",
       "<table border=\"1\" class=\"dataframe\">\n",
       "  <thead>\n",
       "    <tr style=\"text-align: right;\">\n",
       "      <th></th>\n",
       "      <th>target</th>\n",
       "      <th>text</th>\n",
       "    </tr>\n",
       "  </thead>\n",
       "  <tbody>\n",
       "    <tr>\n",
       "      <th>1820</th>\n",
       "      <td>ham</td>\n",
       "      <td>I'll probably be by tomorrow (or even later to...</td>\n",
       "    </tr>\n",
       "    <tr>\n",
       "      <th>2769</th>\n",
       "      <td>spam</td>\n",
       "      <td>Burger King - Wanna play footy at a top stadiu...</td>\n",
       "    </tr>\n",
       "    <tr>\n",
       "      <th>2574</th>\n",
       "      <td>spam</td>\n",
       "      <td>Your next amazing xxx PICSFREE1 video will be ...</td>\n",
       "    </tr>\n",
       "    <tr>\n",
       "      <th>2360</th>\n",
       "      <td>ham</td>\n",
       "      <td>Had the money issue weigh me down but thanks t...</td>\n",
       "    </tr>\n",
       "    <tr>\n",
       "      <th>1153</th>\n",
       "      <td>spam</td>\n",
       "      <td>1000's of girls many local 2 u who r virgins 2...</td>\n",
       "    </tr>\n",
       "  </tbody>\n",
       "</table>\n",
       "</div>"
      ],
      "text/plain": [
       "     target                                               text\n",
       "1820    ham  I'll probably be by tomorrow (or even later to...\n",
       "2769   spam  Burger King - Wanna play footy at a top stadiu...\n",
       "2574   spam  Your next amazing xxx PICSFREE1 video will be ...\n",
       "2360    ham  Had the money issue weigh me down but thanks t...\n",
       "1153   spam  1000's of girls many local 2 u who r virgins 2..."
      ]
     },
     "execution_count": 9,
     "metadata": {},
     "output_type": "execute_result"
    }
   ],
   "source": [
    "# renaming the cols\n",
    "df.rename(columns={'v1':'target','v2':'text'},inplace=True)\n",
    "df.sample(5)"
   ]
  },
  {
   "cell_type": "code",
   "execution_count": 10,
   "id": "05b8f664",
   "metadata": {
    "execution": {
     "iopub.execute_input": "2022-11-12T20:46:00.600177Z",
     "iopub.status.busy": "2022-11-12T20:46:00.599705Z",
     "iopub.status.idle": "2022-11-12T20:46:00.605000Z",
     "shell.execute_reply": "2022-11-12T20:46:00.603563Z"
    },
    "papermill": {
     "duration": 0.035658,
     "end_time": "2022-11-12T20:46:00.608071",
     "exception": false,
     "start_time": "2022-11-12T20:46:00.572413",
     "status": "completed"
    },
    "tags": []
   },
   "outputs": [],
   "source": [
    "from sklearn.preprocessing import LabelEncoder\n",
    "encoder = LabelEncoder()"
   ]
  },
  {
   "cell_type": "code",
   "execution_count": 11,
   "id": "77597d7d",
   "metadata": {
    "execution": {
     "iopub.execute_input": "2022-11-12T20:46:00.657473Z",
     "iopub.status.busy": "2022-11-12T20:46:00.657039Z",
     "iopub.status.idle": "2022-11-12T20:46:00.665730Z",
     "shell.execute_reply": "2022-11-12T20:46:00.663888Z"
    },
    "papermill": {
     "duration": 0.037008,
     "end_time": "2022-11-12T20:46:00.669062",
     "exception": false,
     "start_time": "2022-11-12T20:46:00.632054",
     "status": "completed"
    },
    "tags": []
   },
   "outputs": [],
   "source": [
    "df['target'] = encoder.fit_transform(df['target'])"
   ]
  },
  {
   "cell_type": "code",
   "execution_count": 12,
   "id": "58e9a6c7",
   "metadata": {
    "execution": {
     "iopub.execute_input": "2022-11-12T20:46:00.732783Z",
     "iopub.status.busy": "2022-11-12T20:46:00.732412Z",
     "iopub.status.idle": "2022-11-12T20:46:00.742474Z",
     "shell.execute_reply": "2022-11-12T20:46:00.741332Z"
    },
    "papermill": {
     "duration": 0.041894,
     "end_time": "2022-11-12T20:46:00.744853",
     "exception": false,
     "start_time": "2022-11-12T20:46:00.702959",
     "status": "completed"
    },
    "tags": []
   },
   "outputs": [
    {
     "data": {
      "text/html": [
       "<div>\n",
       "<style scoped>\n",
       "    .dataframe tbody tr th:only-of-type {\n",
       "        vertical-align: middle;\n",
       "    }\n",
       "\n",
       "    .dataframe tbody tr th {\n",
       "        vertical-align: top;\n",
       "    }\n",
       "\n",
       "    .dataframe thead th {\n",
       "        text-align: right;\n",
       "    }\n",
       "</style>\n",
       "<table border=\"1\" class=\"dataframe\">\n",
       "  <thead>\n",
       "    <tr style=\"text-align: right;\">\n",
       "      <th></th>\n",
       "      <th>target</th>\n",
       "      <th>text</th>\n",
       "    </tr>\n",
       "  </thead>\n",
       "  <tbody>\n",
       "    <tr>\n",
       "      <th>0</th>\n",
       "      <td>0</td>\n",
       "      <td>Go until jurong point, crazy.. Available only ...</td>\n",
       "    </tr>\n",
       "    <tr>\n",
       "      <th>1</th>\n",
       "      <td>0</td>\n",
       "      <td>Ok lar... Joking wif u oni...</td>\n",
       "    </tr>\n",
       "    <tr>\n",
       "      <th>2</th>\n",
       "      <td>1</td>\n",
       "      <td>Free entry in 2 a wkly comp to win FA Cup fina...</td>\n",
       "    </tr>\n",
       "    <tr>\n",
       "      <th>3</th>\n",
       "      <td>0</td>\n",
       "      <td>U dun say so early hor... U c already then say...</td>\n",
       "    </tr>\n",
       "    <tr>\n",
       "      <th>4</th>\n",
       "      <td>0</td>\n",
       "      <td>Nah I don't think he goes to usf, he lives aro...</td>\n",
       "    </tr>\n",
       "  </tbody>\n",
       "</table>\n",
       "</div>"
      ],
      "text/plain": [
       "   target                                               text\n",
       "0       0  Go until jurong point, crazy.. Available only ...\n",
       "1       0                      Ok lar... Joking wif u oni...\n",
       "2       1  Free entry in 2 a wkly comp to win FA Cup fina...\n",
       "3       0  U dun say so early hor... U c already then say...\n",
       "4       0  Nah I don't think he goes to usf, he lives aro..."
      ]
     },
     "execution_count": 12,
     "metadata": {},
     "output_type": "execute_result"
    }
   ],
   "source": [
    "df.head()"
   ]
  },
  {
   "cell_type": "code",
   "execution_count": 13,
   "id": "347c8738",
   "metadata": {
    "execution": {
     "iopub.execute_input": "2022-11-12T20:46:00.798834Z",
     "iopub.status.busy": "2022-11-12T20:46:00.798462Z",
     "iopub.status.idle": "2022-11-12T20:46:00.808711Z",
     "shell.execute_reply": "2022-11-12T20:46:00.807467Z"
    },
    "papermill": {
     "duration": 0.038856,
     "end_time": "2022-11-12T20:46:00.811308",
     "exception": false,
     "start_time": "2022-11-12T20:46:00.772452",
     "status": "completed"
    },
    "tags": []
   },
   "outputs": [
    {
     "data": {
      "text/plain": [
       "target    0\n",
       "text      0\n",
       "dtype: int64"
      ]
     },
     "execution_count": 13,
     "metadata": {},
     "output_type": "execute_result"
    }
   ],
   "source": [
    "# missing values\n",
    "df.isnull().sum()"
   ]
  },
  {
   "cell_type": "code",
   "execution_count": 14,
   "id": "5d59fad6",
   "metadata": {
    "execution": {
     "iopub.execute_input": "2022-11-12T20:46:00.862869Z",
     "iopub.status.busy": "2022-11-12T20:46:00.862266Z",
     "iopub.status.idle": "2022-11-12T20:46:00.873605Z",
     "shell.execute_reply": "2022-11-12T20:46:00.872242Z"
    },
    "papermill": {
     "duration": 0.040312,
     "end_time": "2022-11-12T20:46:00.876360",
     "exception": false,
     "start_time": "2022-11-12T20:46:00.836048",
     "status": "completed"
    },
    "tags": []
   },
   "outputs": [
    {
     "data": {
      "text/plain": [
       "403"
      ]
     },
     "execution_count": 14,
     "metadata": {},
     "output_type": "execute_result"
    }
   ],
   "source": [
    "# check for duplicate values\n",
    "df.duplicated().sum()"
   ]
  },
  {
   "cell_type": "code",
   "execution_count": 15,
   "id": "6fe21c43",
   "metadata": {
    "execution": {
     "iopub.execute_input": "2022-11-12T20:46:00.926777Z",
     "iopub.status.busy": "2022-11-12T20:46:00.926396Z",
     "iopub.status.idle": "2022-11-12T20:46:00.935722Z",
     "shell.execute_reply": "2022-11-12T20:46:00.934429Z"
    },
    "papermill": {
     "duration": 0.037709,
     "end_time": "2022-11-12T20:46:00.938274",
     "exception": false,
     "start_time": "2022-11-12T20:46:00.900565",
     "status": "completed"
    },
    "tags": []
   },
   "outputs": [],
   "source": [
    "# remove duplicates\n",
    "df = df.drop_duplicates(keep='first')"
   ]
  },
  {
   "cell_type": "code",
   "execution_count": 16,
   "id": "36d502fe",
   "metadata": {
    "execution": {
     "iopub.execute_input": "2022-11-12T20:46:00.989523Z",
     "iopub.status.busy": "2022-11-12T20:46:00.989124Z",
     "iopub.status.idle": "2022-11-12T20:46:01.000564Z",
     "shell.execute_reply": "2022-11-12T20:46:00.999328Z"
    },
    "papermill": {
     "duration": 0.040618,
     "end_time": "2022-11-12T20:46:01.003125",
     "exception": false,
     "start_time": "2022-11-12T20:46:00.962507",
     "status": "completed"
    },
    "tags": []
   },
   "outputs": [
    {
     "data": {
      "text/plain": [
       "0"
      ]
     },
     "execution_count": 16,
     "metadata": {},
     "output_type": "execute_result"
    }
   ],
   "source": [
    "df.duplicated().sum()"
   ]
  },
  {
   "cell_type": "code",
   "execution_count": 17,
   "id": "deaa9b14",
   "metadata": {
    "execution": {
     "iopub.execute_input": "2022-11-12T20:46:01.054641Z",
     "iopub.status.busy": "2022-11-12T20:46:01.054271Z",
     "iopub.status.idle": "2022-11-12T20:46:01.061201Z",
     "shell.execute_reply": "2022-11-12T20:46:01.060078Z"
    },
    "papermill": {
     "duration": 0.036118,
     "end_time": "2022-11-12T20:46:01.064007",
     "exception": false,
     "start_time": "2022-11-12T20:46:01.027889",
     "status": "completed"
    },
    "tags": []
   },
   "outputs": [
    {
     "data": {
      "text/plain": [
       "(5169, 2)"
      ]
     },
     "execution_count": 17,
     "metadata": {},
     "output_type": "execute_result"
    }
   ],
   "source": [
    "df.shape"
   ]
  },
  {
   "cell_type": "markdown",
   "id": "afb37997",
   "metadata": {
    "papermill": {
     "duration": 0.024742,
     "end_time": "2022-11-12T20:46:01.114071",
     "exception": false,
     "start_time": "2022-11-12T20:46:01.089329",
     "status": "completed"
    },
    "tags": []
   },
   "source": [
    "## 2.EDA"
   ]
  },
  {
   "cell_type": "code",
   "execution_count": 18,
   "id": "266cf4e3",
   "metadata": {
    "execution": {
     "iopub.execute_input": "2022-11-12T20:46:01.166022Z",
     "iopub.status.busy": "2022-11-12T20:46:01.165571Z",
     "iopub.status.idle": "2022-11-12T20:46:01.176980Z",
     "shell.execute_reply": "2022-11-12T20:46:01.175733Z"
    },
    "papermill": {
     "duration": 0.03962,
     "end_time": "2022-11-12T20:46:01.179403",
     "exception": false,
     "start_time": "2022-11-12T20:46:01.139783",
     "status": "completed"
    },
    "tags": []
   },
   "outputs": [
    {
     "data": {
      "text/html": [
       "<div>\n",
       "<style scoped>\n",
       "    .dataframe tbody tr th:only-of-type {\n",
       "        vertical-align: middle;\n",
       "    }\n",
       "\n",
       "    .dataframe tbody tr th {\n",
       "        vertical-align: top;\n",
       "    }\n",
       "\n",
       "    .dataframe thead th {\n",
       "        text-align: right;\n",
       "    }\n",
       "</style>\n",
       "<table border=\"1\" class=\"dataframe\">\n",
       "  <thead>\n",
       "    <tr style=\"text-align: right;\">\n",
       "      <th></th>\n",
       "      <th>target</th>\n",
       "      <th>text</th>\n",
       "    </tr>\n",
       "  </thead>\n",
       "  <tbody>\n",
       "    <tr>\n",
       "      <th>0</th>\n",
       "      <td>0</td>\n",
       "      <td>Go until jurong point, crazy.. Available only ...</td>\n",
       "    </tr>\n",
       "    <tr>\n",
       "      <th>1</th>\n",
       "      <td>0</td>\n",
       "      <td>Ok lar... Joking wif u oni...</td>\n",
       "    </tr>\n",
       "    <tr>\n",
       "      <th>2</th>\n",
       "      <td>1</td>\n",
       "      <td>Free entry in 2 a wkly comp to win FA Cup fina...</td>\n",
       "    </tr>\n",
       "    <tr>\n",
       "      <th>3</th>\n",
       "      <td>0</td>\n",
       "      <td>U dun say so early hor... U c already then say...</td>\n",
       "    </tr>\n",
       "    <tr>\n",
       "      <th>4</th>\n",
       "      <td>0</td>\n",
       "      <td>Nah I don't think he goes to usf, he lives aro...</td>\n",
       "    </tr>\n",
       "  </tbody>\n",
       "</table>\n",
       "</div>"
      ],
      "text/plain": [
       "   target                                               text\n",
       "0       0  Go until jurong point, crazy.. Available only ...\n",
       "1       0                      Ok lar... Joking wif u oni...\n",
       "2       1  Free entry in 2 a wkly comp to win FA Cup fina...\n",
       "3       0  U dun say so early hor... U c already then say...\n",
       "4       0  Nah I don't think he goes to usf, he lives aro..."
      ]
     },
     "execution_count": 18,
     "metadata": {},
     "output_type": "execute_result"
    }
   ],
   "source": [
    "df.head()"
   ]
  },
  {
   "cell_type": "code",
   "execution_count": 19,
   "id": "d09199cd",
   "metadata": {
    "execution": {
     "iopub.execute_input": "2022-11-12T20:46:01.233900Z",
     "iopub.status.busy": "2022-11-12T20:46:01.233505Z",
     "iopub.status.idle": "2022-11-12T20:46:01.242726Z",
     "shell.execute_reply": "2022-11-12T20:46:01.241476Z"
    },
    "papermill": {
     "duration": 0.039271,
     "end_time": "2022-11-12T20:46:01.245073",
     "exception": false,
     "start_time": "2022-11-12T20:46:01.205802",
     "status": "completed"
    },
    "tags": []
   },
   "outputs": [
    {
     "data": {
      "text/plain": [
       "0    4516\n",
       "1     653\n",
       "Name: target, dtype: int64"
      ]
     },
     "execution_count": 19,
     "metadata": {},
     "output_type": "execute_result"
    }
   ],
   "source": [
    "df['target'].value_counts()"
   ]
  },
  {
   "cell_type": "code",
   "execution_count": 20,
   "id": "0e600e83",
   "metadata": {
    "execution": {
     "iopub.execute_input": "2022-11-12T20:46:01.297645Z",
     "iopub.status.busy": "2022-11-12T20:46:01.297259Z",
     "iopub.status.idle": "2022-11-12T20:46:01.445248Z",
     "shell.execute_reply": "2022-11-12T20:46:01.444292Z"
    },
    "papermill": {
     "duration": 0.179205,
     "end_time": "2022-11-12T20:46:01.450198",
     "exception": false,
     "start_time": "2022-11-12T20:46:01.270993",
     "status": "completed"
    },
    "tags": []
   },
   "outputs": [
    {
     "data": {
      "image/png": "[encoded data removed]",
      "text/plain": [
       "<Figure size 432x288 with 1 Axes>"
      ]
     },
     "metadata": {},
     "output_type": "display_data"
    }
   ],
   "source": [
    "import matplotlib.pyplot as plt\n",
    "plt.pie(df['target'].value_counts(), labels=['not spam','spam'],autopct=\"%0.2f\", shadow=True, explode=[0, 0.2], colors=[\"blue\", \"red\"])\n",
    "plt.show()"
   ]
  },
  {
   "cell_type": "markdown",
   "id": "05b4080d",
   "metadata": {
    "papermill": {
     "duration": 0.035612,
     "end_time": "2022-11-12T20:46:01.552144",
     "exception": false,
     "start_time": "2022-11-12T20:46:01.516532",
     "status": "completed"
    },
    "tags": []
   },
   "source": [
    "**Data is imbalanced**"
   ]
  },
  {
   "cell_type": "code",
   "execution_count": 21,
   "id": "31fb081c",
   "metadata": {
    "execution": {
     "iopub.execute_input": "2022-11-12T20:46:01.604268Z",
     "iopub.status.busy": "2022-11-12T20:46:01.603814Z",
     "iopub.status.idle": "2022-11-12T20:46:02.231908Z",
     "shell.execute_reply": "2022-11-12T20:46:02.230601Z"
    },
    "papermill": {
     "duration": 0.657917,
     "end_time": "2022-11-12T20:46:02.235465",
     "exception": false,
     "start_time": "2022-11-12T20:46:01.577548",
     "status": "completed"
    },
    "tags": []
   },
   "outputs": [],
   "source": [
    "import nltk"
   ]
  },
  {
   "cell_type": "code",
   "execution_count": 22,
   "id": "5e3e3b38",
   "metadata": {
    "execution": {
     "iopub.execute_input": "2022-11-12T20:46:02.288439Z",
     "iopub.status.busy": "2022-11-12T20:46:02.288066Z",
     "iopub.status.idle": "2022-11-12T20:46:15.414512Z",
     "shell.execute_reply": "2022-11-12T20:46:15.413172Z"
    },
    "papermill": {
     "duration": 13.155959,
     "end_time": "2022-11-12T20:46:15.417522",
     "exception": false,
     "start_time": "2022-11-12T20:46:02.261563",
     "status": "completed"
    },
    "tags": []
   },
   "outputs": [
    {
     "name": "stdout",
     "output_type": "stream",
     "text": [
      "Requirement already satisfied: nltk in /opt/conda/lib/python3.7/site-packages (3.7)\r\n",
      "Requirement already satisfied: regex>=2021.8.3 in /opt/conda/lib/python3.7/site-packages (from nltk) (2021.11.10)\r\n",
      "Requirement already satisfied: tqdm in /opt/conda/lib/python3.7/site-packages (from nltk) (4.64.0)\r\n",
      "Requirement already satisfied: click in /opt/conda/lib/python3.7/site-packages (from nltk) (8.0.4)\r\n",
      "Requirement already satisfied: joblib in /opt/conda/lib/python3.7/site-packages (from nltk) (1.0.1)\r\n",
      "Requirement already satisfied: importlib-metadata in /opt/conda/lib/python3.7/site-packages (from click->nltk) (4.13.0)\r\n",
      "Requirement already satisfied: typing-extensions>=3.6.4 in /opt/conda/lib/python3.7/site-packages (from importlib-metadata->click->nltk) (4.4.0)\r\n",
      "Requirement already satisfied: zipp>=0.5 in /opt/conda/lib/python3.7/site-packages (from importlib-metadata->click->nltk) (3.8.0)\r\n",
      "\u001b[33mWARNING: Running pip as the 'root' user can result in broken permissions and conflicting behaviour with the system package manager. It is recommended to use a virtual environment instead: https://pip.pypa.io/warnings/venv\u001b[0m\u001b[33m\r\n",
      "\u001b[0m"
     ]
    }
   ],
   "source": [
    "!pip install nltk"
   ]
  },
  {
   "cell_type": "code",
   "execution_count": 23,
   "id": "78b1310a",
   "metadata": {
    "execution": {
     "iopub.execute_input": "2022-11-12T20:46:15.471149Z",
     "iopub.status.busy": "2022-11-12T20:46:15.470671Z",
     "iopub.status.idle": "2022-11-12T20:46:15.831476Z",
     "shell.execute_reply": "2022-11-12T20:46:15.829719Z"
    },
    "papermill": {
     "duration": 0.391142,
     "end_time": "2022-11-12T20:46:15.834489",
     "exception": false,
     "start_time": "2022-11-12T20:46:15.443347",
     "status": "completed"
    },
    "tags": []
   },
   "outputs": [
    {
     "name": "stderr",
     "output_type": "stream",
     "text": [
      "[nltk_data] Downloading package punkt to /usr/share/nltk_data...\n",
      "[nltk_data]   Package punkt is already up-to-date!\n"
     ]
    },
    {
     "data": {
      "text/plain": [
       "True"
      ]
     },
     "execution_count": 23,
     "metadata": {},
     "output_type": "execute_result"
    }
   ],
   "source": [
    "nltk.download('punkt')"
   ]
  },
  {
   "cell_type": "code",
   "execution_count": 24,
   "id": "97bb0360",
   "metadata": {
    "execution": {
     "iopub.execute_input": "2022-11-12T20:46:15.888376Z",
     "iopub.status.busy": "2022-11-12T20:46:15.887906Z",
     "iopub.status.idle": "2022-11-12T20:46:15.898231Z",
     "shell.execute_reply": "2022-11-12T20:46:15.896891Z"
    },
    "papermill": {
     "duration": 0.039288,
     "end_time": "2022-11-12T20:46:15.900482",
     "exception": false,
     "start_time": "2022-11-12T20:46:15.861194",
     "status": "completed"
    },
    "tags": []
   },
   "outputs": [],
   "source": [
    "df['num_characters'] = df['text'].apply(len)"
   ]
  },
  {
   "cell_type": "code",
   "execution_count": 25,
   "id": "f08bd4da",
   "metadata": {
    "execution": {
     "iopub.execute_input": "2022-11-12T20:46:15.956871Z",
     "iopub.status.busy": "2022-11-12T20:46:15.955878Z",
     "iopub.status.idle": "2022-11-12T20:46:15.970138Z",
     "shell.execute_reply": "2022-11-12T20:46:15.968376Z"
    },
    "papermill": {
     "duration": 0.046664,
     "end_time": "2022-11-12T20:46:15.972732",
     "exception": false,
     "start_time": "2022-11-12T20:46:15.926068",
     "status": "completed"
    },
    "tags": []
   },
   "outputs": [
    {
     "data": {
      "text/html": [
       "<div>\n",
       "<style scoped>\n",
       "    .dataframe tbody tr th:only-of-type {\n",
       "        vertical-align: middle;\n",
       "    }\n",
       "\n",
       "    .dataframe tbody tr th {\n",
       "        vertical-align: top;\n",
       "    }\n",
       "\n",
       "    .dataframe thead th {\n",
       "        text-align: right;\n",
       "    }\n",
       "</style>\n",
       "<table border=\"1\" class=\"dataframe\">\n",
       "  <thead>\n",
       "    <tr style=\"text-align: right;\">\n",
       "      <th></th>\n",
       "      <th>target</th>\n",
       "      <th>text</th>\n",
       "      <th>num_characters</th>\n",
       "    </tr>\n",
       "  </thead>\n",
       "  <tbody>\n",
       "    <tr>\n",
       "      <th>0</th>\n",
       "      <td>0</td>\n",
       "      <td>Go until jurong point, crazy.. Available only ...</td>\n",
       "      <td>111</td>\n",
       "    </tr>\n",
       "    <tr>\n",
       "      <th>1</th>\n",
       "      <td>0</td>\n",
       "      <td>Ok lar... Joking wif u oni...</td>\n",
       "      <td>29</td>\n",
       "    </tr>\n",
       "    <tr>\n",
       "      <th>2</th>\n",
       "      <td>1</td>\n",
       "      <td>Free entry in 2 a wkly comp to win FA Cup fina...</td>\n",
       "      <td>155</td>\n",
       "    </tr>\n",
       "    <tr>\n",
       "      <th>3</th>\n",
       "      <td>0</td>\n",
       "      <td>U dun say so early hor... U c already then say...</td>\n",
       "      <td>49</td>\n",
       "    </tr>\n",
       "    <tr>\n",
       "      <th>4</th>\n",
       "      <td>0</td>\n",
       "      <td>Nah I don't think he goes to usf, he lives aro...</td>\n",
       "      <td>61</td>\n",
       "    </tr>\n",
       "  </tbody>\n",
       "</table>\n",
       "</div>"
      ],
      "text/plain": [
       "   target                                               text  num_characters\n",
       "0       0  Go until jurong point, crazy.. Available only ...             111\n",
       "1       0                      Ok lar... Joking wif u oni...              29\n",
       "2       1  Free entry in 2 a wkly comp to win FA Cup fina...             155\n",
       "3       0  U dun say so early hor... U c already then say...              49\n",
       "4       0  Nah I don't think he goes to usf, he lives aro...              61"
      ]
     },
     "execution_count": 25,
     "metadata": {},
     "output_type": "execute_result"
    }
   ],
   "source": [
    "df.head()"
   ]
  },
  {
   "cell_type": "code",
   "execution_count": 26,
   "id": "e715088a",
   "metadata": {
    "execution": {
     "iopub.execute_input": "2022-11-12T20:46:16.031082Z",
     "iopub.status.busy": "2022-11-12T20:46:16.030381Z",
     "iopub.status.idle": "2022-11-12T20:46:17.284897Z",
     "shell.execute_reply": "2022-11-12T20:46:17.283671Z"
    },
    "papermill": {
     "duration": 1.28673,
     "end_time": "2022-11-12T20:46:17.287783",
     "exception": false,
     "start_time": "2022-11-12T20:46:16.001053",
     "status": "completed"
    },
    "tags": []
   },
   "outputs": [],
   "source": [
    "# num of words\n",
    "df['num_words'] = df['text'].apply(lambda x:len(nltk.word_tokenize(x)))"
   ]
  },
  {
   "cell_type": "code",
   "execution_count": 27,
   "id": "d37ad4ac",
   "metadata": {
    "execution": {
     "iopub.execute_input": "2022-11-12T20:46:17.343108Z",
     "iopub.status.busy": "2022-11-12T20:46:17.342692Z",
     "iopub.status.idle": "2022-11-12T20:46:17.354822Z",
     "shell.execute_reply": "2022-11-12T20:46:17.353611Z"
    },
    "papermill": {
     "duration": 0.042287,
     "end_time": "2022-11-12T20:46:17.357388",
     "exception": false,
     "start_time": "2022-11-12T20:46:17.315101",
     "status": "completed"
    },
    "tags": []
   },
   "outputs": [
    {
     "data": {
      "text/html": [
       "<div>\n",
       "<style scoped>\n",
       "    .dataframe tbody tr th:only-of-type {\n",
       "        vertical-align: middle;\n",
       "    }\n",
       "\n",
       "    .dataframe tbody tr th {\n",
       "        vertical-align: top;\n",
       "    }\n",
       "\n",
       "    .dataframe thead th {\n",
       "        text-align: right;\n",
       "    }\n",
       "</style>\n",
       "<table border=\"1\" class=\"dataframe\">\n",
       "  <thead>\n",
       "    <tr style=\"text-align: right;\">\n",
       "      <th></th>\n",
       "      <th>target</th>\n",
       "      <th>text</th>\n",
       "      <th>num_characters</th>\n",
       "      <th>num_words</th>\n",
       "    </tr>\n",
       "  </thead>\n",
       "  <tbody>\n",
       "    <tr>\n",
       "      <th>0</th>\n",
       "      <td>0</td>\n",
       "      <td>Go until jurong point, crazy.. Available only ...</td>\n",
       "      <td>111</td>\n",
       "      <td>24</td>\n",
       "    </tr>\n",
       "    <tr>\n",
       "      <th>1</th>\n",
       "      <td>0</td>\n",
       "      <td>Ok lar... Joking wif u oni...</td>\n",
       "      <td>29</td>\n",
       "      <td>8</td>\n",
       "    </tr>\n",
       "    <tr>\n",
       "      <th>2</th>\n",
       "      <td>1</td>\n",
       "      <td>Free entry in 2 a wkly comp to win FA Cup fina...</td>\n",
       "      <td>155</td>\n",
       "      <td>37</td>\n",
       "    </tr>\n",
       "    <tr>\n",
       "      <th>3</th>\n",
       "      <td>0</td>\n",
       "      <td>U dun say so early hor... U c already then say...</td>\n",
       "      <td>49</td>\n",
       "      <td>13</td>\n",
       "    </tr>\n",
       "    <tr>\n",
       "      <th>4</th>\n",
       "      <td>0</td>\n",
       "      <td>Nah I don't think he goes to usf, he lives aro...</td>\n",
       "      <td>61</td>\n",
       "      <td>15</td>\n",
       "    </tr>\n",
       "  </tbody>\n",
       "</table>\n",
       "</div>"
      ],
      "text/plain": [
       "   target                                               text  num_characters  \\\n",
       "0       0  Go until jurong point, crazy.. Available only ...             111   \n",
       "1       0                      Ok lar... Joking wif u oni...              29   \n",
       "2       1  Free entry in 2 a wkly comp to win FA Cup fina...             155   \n",
       "3       0  U dun say so early hor... U c already then say...              49   \n",
       "4       0  Nah I don't think he goes to usf, he lives aro...              61   \n",
       "\n",
       "   num_words  \n",
       "0         24  \n",
       "1          8  \n",
       "2         37  \n",
       "3         13  \n",
       "4         15  "
      ]
     },
     "execution_count": 27,
     "metadata": {},
     "output_type": "execute_result"
    }
   ],
   "source": [
    "df.head()"
   ]
  },
  {
   "cell_type": "code",
   "execution_count": 28,
   "id": "b71fdab1",
   "metadata": {
    "execution": {
     "iopub.execute_input": "2022-11-12T20:46:17.412127Z",
     "iopub.status.busy": "2022-11-12T20:46:17.411693Z",
     "iopub.status.idle": "2022-11-12T20:46:17.749526Z",
     "shell.execute_reply": "2022-11-12T20:46:17.748431Z"
    },
    "papermill": {
     "duration": 0.36876,
     "end_time": "2022-11-12T20:46:17.752560",
     "exception": false,
     "start_time": "2022-11-12T20:46:17.383800",
     "status": "completed"
    },
    "tags": []
   },
   "outputs": [],
   "source": [
    "df['num_sentences'] = df['text'].apply(lambda x:len(nltk.sent_tokenize(x)))"
   ]
  },
  {
   "cell_type": "code",
   "execution_count": 29,
   "id": "9f8c91aa",
   "metadata": {
    "execution": {
     "iopub.execute_input": "2022-11-12T20:46:17.809290Z",
     "iopub.status.busy": "2022-11-12T20:46:17.808539Z",
     "iopub.status.idle": "2022-11-12T20:46:17.820968Z",
     "shell.execute_reply": "2022-11-12T20:46:17.819995Z"
    },
    "papermill": {
     "duration": 0.043128,
     "end_time": "2022-11-12T20:46:17.823196",
     "exception": false,
     "start_time": "2022-11-12T20:46:17.780068",
     "status": "completed"
    },
    "tags": []
   },
   "outputs": [
    {
     "data": {
      "text/html": [
       "<div>\n",
       "<style scoped>\n",
       "    .dataframe tbody tr th:only-of-type {\n",
       "        vertical-align: middle;\n",
       "    }\n",
       "\n",
       "    .dataframe tbody tr th {\n",
       "        vertical-align: top;\n",
       "    }\n",
       "\n",
       "    .dataframe thead th {\n",
       "        text-align: right;\n",
       "    }\n",
       "</style>\n",
       "<table border=\"1\" class=\"dataframe\">\n",
       "  <thead>\n",
       "    <tr style=\"text-align: right;\">\n",
       "      <th></th>\n",
       "      <th>target</th>\n",
       "      <th>text</th>\n",
       "      <th>num_characters</th>\n",
       "      <th>num_words</th>\n",
       "      <th>num_sentences</th>\n",
       "    </tr>\n",
       "  </thead>\n",
       "  <tbody>\n",
       "    <tr>\n",
       "      <th>0</th>\n",
       "      <td>0</td>\n",
       "      <td>Go until jurong point, crazy.. Available only ...</td>\n",
       "      <td>111</td>\n",
       "      <td>24</td>\n",
       "      <td>2</td>\n",
       "    </tr>\n",
       "    <tr>\n",
       "      <th>1</th>\n",
       "      <td>0</td>\n",
       "      <td>Ok lar... Joking wif u oni...</td>\n",
       "      <td>29</td>\n",
       "      <td>8</td>\n",
       "      <td>2</td>\n",
       "    </tr>\n",
       "    <tr>\n",
       "      <th>2</th>\n",
       "      <td>1</td>\n",
       "      <td>Free entry in 2 a wkly comp to win FA Cup fina...</td>\n",
       "      <td>155</td>\n",
       "      <td>37</td>\n",
       "      <td>2</td>\n",
       "    </tr>\n",
       "    <tr>\n",
       "      <th>3</th>\n",
       "      <td>0</td>\n",
       "      <td>U dun say so early hor... U c already then say...</td>\n",
       "      <td>49</td>\n",
       "      <td>13</td>\n",
       "      <td>1</td>\n",
       "    </tr>\n",
       "    <tr>\n",
       "      <th>4</th>\n",
       "      <td>0</td>\n",
       "      <td>Nah I don't think he goes to usf, he lives aro...</td>\n",
       "      <td>61</td>\n",
       "      <td>15</td>\n",
       "      <td>1</td>\n",
       "    </tr>\n",
       "  </tbody>\n",
       "</table>\n",
       "</div>"
      ],
      "text/plain": [
       "   target                                               text  num_characters  \\\n",
       "0       0  Go until jurong point, crazy.. Available only ...             111   \n",
       "1       0                      Ok lar... Joking wif u oni...              29   \n",
       "2       1  Free entry in 2 a wkly comp to win FA Cup fina...             155   \n",
       "3       0  U dun say so early hor... U c already then say...              49   \n",
       "4       0  Nah I don't think he goes to usf, he lives aro...              61   \n",
       "\n",
       "   num_words  num_sentences  \n",
       "0         24              2  \n",
       "1          8              2  \n",
       "2         37              2  \n",
       "3         13              1  \n",
       "4         15              1  "
      ]
     },
     "execution_count": 29,
     "metadata": {},
     "output_type": "execute_result"
    }
   ],
   "source": [
    "df.head()"
   ]
  },
  {
   "cell_type": "code",
   "execution_count": 30,
   "id": "aa8c4b14",
   "metadata": {
    "execution": {
     "iopub.execute_input": "2022-11-12T20:46:17.880007Z",
     "iopub.status.busy": "2022-11-12T20:46:17.879595Z",
     "iopub.status.idle": "2022-11-12T20:46:17.906663Z",
     "shell.execute_reply": "2022-11-12T20:46:17.905504Z"
    },
    "papermill": {
     "duration": 0.05879,
     "end_time": "2022-11-12T20:46:17.909270",
     "exception": false,
     "start_time": "2022-11-12T20:46:17.850480",
     "status": "completed"
    },
    "tags": []
   },
   "outputs": [
    {
     "data": {
      "text/html": [
       "<div>\n",
       "<style scoped>\n",
       "    .dataframe tbody tr th:only-of-type {\n",
       "        vertical-align: middle;\n",
       "    }\n",
       "\n",
       "    .dataframe tbody tr th {\n",
       "        vertical-align: top;\n",
       "    }\n",
       "\n",
       "    .dataframe thead th {\n",
       "        text-align: right;\n",
       "    }\n",
       "</style>\n",
       "<table border=\"1\" class=\"dataframe\">\n",
       "  <thead>\n",
       "    <tr style=\"text-align: right;\">\n",
       "      <th></th>\n",
       "      <th>num_characters</th>\n",
       "      <th>num_words</th>\n",
       "      <th>num_sentences</th>\n",
       "    </tr>\n",
       "  </thead>\n",
       "  <tbody>\n",
       "    <tr>\n",
       "      <th>count</th>\n",
       "      <td>5169.000000</td>\n",
       "      <td>5169.000000</td>\n",
       "      <td>5169.000000</td>\n",
       "    </tr>\n",
       "    <tr>\n",
       "      <th>mean</th>\n",
       "      <td>78.977945</td>\n",
       "      <td>18.453279</td>\n",
       "      <td>1.947185</td>\n",
       "    </tr>\n",
       "    <tr>\n",
       "      <th>std</th>\n",
       "      <td>58.236293</td>\n",
       "      <td>13.324793</td>\n",
       "      <td>1.362406</td>\n",
       "    </tr>\n",
       "    <tr>\n",
       "      <th>min</th>\n",
       "      <td>2.000000</td>\n",
       "      <td>1.000000</td>\n",
       "      <td>1.000000</td>\n",
       "    </tr>\n",
       "    <tr>\n",
       "      <th>25%</th>\n",
       "      <td>36.000000</td>\n",
       "      <td>9.000000</td>\n",
       "      <td>1.000000</td>\n",
       "    </tr>\n",
       "    <tr>\n",
       "      <th>50%</th>\n",
       "      <td>60.000000</td>\n",
       "      <td>15.000000</td>\n",
       "      <td>1.000000</td>\n",
       "    </tr>\n",
       "    <tr>\n",
       "      <th>75%</th>\n",
       "      <td>117.000000</td>\n",
       "      <td>26.000000</td>\n",
       "      <td>2.000000</td>\n",
       "    </tr>\n",
       "    <tr>\n",
       "      <th>max</th>\n",
       "      <td>910.000000</td>\n",
       "      <td>220.000000</td>\n",
       "      <td>28.000000</td>\n",
       "    </tr>\n",
       "  </tbody>\n",
       "</table>\n",
       "</div>"
      ],
      "text/plain": [
       "       num_characters    num_words  num_sentences\n",
       "count     5169.000000  5169.000000    5169.000000\n",
       "mean        78.977945    18.453279       1.947185\n",
       "std         58.236293    13.324793       1.362406\n",
       "min          2.000000     1.000000       1.000000\n",
       "25%         36.000000     9.000000       1.000000\n",
       "50%         60.000000    15.000000       1.000000\n",
       "75%        117.000000    26.000000       2.000000\n",
       "max        910.000000   220.000000      28.000000"
      ]
     },
     "execution_count": 30,
     "metadata": {},
     "output_type": "execute_result"
    }
   ],
   "source": [
    "df[['num_characters','num_words','num_sentences']].describe()"
   ]
  },
  {
   "cell_type": "code",
   "execution_count": 31,
   "id": "8403d71f",
   "metadata": {
    "execution": {
     "iopub.execute_input": "2022-11-12T20:46:17.966988Z",
     "iopub.status.busy": "2022-11-12T20:46:17.966272Z",
     "iopub.status.idle": "2022-11-12T20:46:18.043696Z",
     "shell.execute_reply": "2022-11-12T20:46:18.042515Z"
    },
    "papermill": {
     "duration": 0.109062,
     "end_time": "2022-11-12T20:46:18.046193",
     "exception": false,
     "start_time": "2022-11-12T20:46:17.937131",
     "status": "completed"
    },
    "tags": []
   },
   "outputs": [
    {
     "data": {
      "text/html": [
       "<div>\n",
       "<style scoped>\n",
       "    .dataframe tbody tr th:only-of-type {\n",
       "        vertical-align: middle;\n",
       "    }\n",
       "\n",
       "    .dataframe tbody tr th {\n",
       "        vertical-align: top;\n",
       "    }\n",
       "\n",
       "    .dataframe thead tr th {\n",
       "        text-align: left;\n",
       "    }\n",
       "\n",
       "    .dataframe thead tr:last-of-type th {\n",
       "        text-align: right;\n",
       "    }\n",
       "</style>\n",
       "<table border=\"1\" class=\"dataframe\">\n",
       "  <thead>\n",
       "    <tr>\n",
       "      <th></th>\n",
       "      <th colspan=\"3\" halign=\"left\">num_characters</th>\n",
       "      <th colspan=\"3\" halign=\"left\">num_words</th>\n",
       "      <th colspan=\"3\" halign=\"left\">num_sentences</th>\n",
       "    </tr>\n",
       "    <tr>\n",
       "      <th></th>\n",
       "      <th>mean</th>\n",
       "      <th>amin</th>\n",
       "      <th>amax</th>\n",
       "      <th>mean</th>\n",
       "      <th>amin</th>\n",
       "      <th>amax</th>\n",
       "      <th>mean</th>\n",
       "      <th>amin</th>\n",
       "      <th>amax</th>\n",
       "    </tr>\n",
       "    <tr>\n",
       "      <th>target</th>\n",
       "      <th></th>\n",
       "      <th></th>\n",
       "      <th></th>\n",
       "      <th></th>\n",
       "      <th></th>\n",
       "      <th></th>\n",
       "      <th></th>\n",
       "      <th></th>\n",
       "      <th></th>\n",
       "    </tr>\n",
       "  </thead>\n",
       "  <tbody>\n",
       "    <tr>\n",
       "      <th>0</th>\n",
       "      <td>70.0</td>\n",
       "      <td>2</td>\n",
       "      <td>910</td>\n",
       "      <td>17.0</td>\n",
       "      <td>1</td>\n",
       "      <td>220</td>\n",
       "      <td>2.0</td>\n",
       "      <td>1</td>\n",
       "      <td>28</td>\n",
       "    </tr>\n",
       "    <tr>\n",
       "      <th>1</th>\n",
       "      <td>138.0</td>\n",
       "      <td>13</td>\n",
       "      <td>224</td>\n",
       "      <td>28.0</td>\n",
       "      <td>2</td>\n",
       "      <td>46</td>\n",
       "      <td>3.0</td>\n",
       "      <td>1</td>\n",
       "      <td>8</td>\n",
       "    </tr>\n",
       "  </tbody>\n",
       "</table>\n",
       "</div>"
      ],
      "text/plain": [
       "       num_characters           num_words           num_sentences          \n",
       "                 mean amin amax      mean amin amax          mean amin amax\n",
       "target                                                                     \n",
       "0                70.0    2  910      17.0    1  220           2.0    1   28\n",
       "1               138.0   13  224      28.0    2   46           3.0    1    8"
      ]
     },
     "execution_count": 31,
     "metadata": {},
     "output_type": "execute_result"
    }
   ],
   "source": [
    "round(df.groupby('target').agg([np.mean,np.min,np.max]))"
   ]
  },
  {
   "cell_type": "code",
   "execution_count": 32,
   "id": "78bc9647",
   "metadata": {
    "execution": {
     "iopub.execute_input": "2022-11-12T20:46:18.101495Z",
     "iopub.status.busy": "2022-11-12T20:46:18.101065Z",
     "iopub.status.idle": "2022-11-12T20:46:18.407982Z",
     "shell.execute_reply": "2022-11-12T20:46:18.406703Z"
    },
    "papermill": {
     "duration": 0.33756,
     "end_time": "2022-11-12T20:46:18.410724",
     "exception": false,
     "start_time": "2022-11-12T20:46:18.073164",
     "status": "completed"
    },
    "tags": []
   },
   "outputs": [
    {
     "data": {
      "image/png": "[encoded data removed]",
      "text/plain": [
       "<Figure size 648x576 with 1 Axes>"
      ]
     },
     "metadata": {
      "needs_background": "light"
     },
     "output_type": "display_data"
    }
   ],
   "source": [
    "avg = df.groupby('target').mean()\n",
    "\n",
    "avg.plot(kind='bar',figsize = (9, 8),title='ham VS spam, in terms of characters, words and sentences', color = ['blue', 'red', 'green'])\n",
    "plt.grid(True)"
   ]
  },
  {
   "cell_type": "markdown",
   "id": "d8d81a78",
   "metadata": {
    "papermill": {
     "duration": 0.028845,
     "end_time": "2022-11-12T20:46:18.468326",
     "exception": false,
     "start_time": "2022-11-12T20:46:18.439481",
     "status": "completed"
    },
    "tags": []
   },
   "source": [
    "We can clearly see that Spam messages have higher number of characters and words on average, when compared to 'Not-Spam' messages"
   ]
  },
  {
   "cell_type": "code",
   "execution_count": 33,
   "id": "69e14f2b",
   "metadata": {
    "execution": {
     "iopub.execute_input": "2022-11-12T20:46:18.526276Z",
     "iopub.status.busy": "2022-11-12T20:46:18.525564Z",
     "iopub.status.idle": "2022-11-12T20:46:18.550672Z",
     "shell.execute_reply": "2022-11-12T20:46:18.549443Z"
    },
    "papermill": {
     "duration": 0.057187,
     "end_time": "2022-11-12T20:46:18.553435",
     "exception": false,
     "start_time": "2022-11-12T20:46:18.496248",
     "status": "completed"
    },
    "tags": []
   },
   "outputs": [
    {
     "data": {
      "text/html": [
       "<div>\n",
       "<style scoped>\n",
       "    .dataframe tbody tr th:only-of-type {\n",
       "        vertical-align: middle;\n",
       "    }\n",
       "\n",
       "    .dataframe tbody tr th {\n",
       "        vertical-align: top;\n",
       "    }\n",
       "\n",
       "    .dataframe thead th {\n",
       "        text-align: right;\n",
       "    }\n",
       "</style>\n",
       "<table border=\"1\" class=\"dataframe\">\n",
       "  <thead>\n",
       "    <tr style=\"text-align: right;\">\n",
       "      <th></th>\n",
       "      <th>num_characters</th>\n",
       "      <th>num_words</th>\n",
       "      <th>num_sentences</th>\n",
       "    </tr>\n",
       "  </thead>\n",
       "  <tbody>\n",
       "    <tr>\n",
       "      <th>count</th>\n",
       "      <td>4516.000000</td>\n",
       "      <td>4516.000000</td>\n",
       "      <td>4516.000000</td>\n",
       "    </tr>\n",
       "    <tr>\n",
       "      <th>mean</th>\n",
       "      <td>70.459256</td>\n",
       "      <td>17.120903</td>\n",
       "      <td>1.799601</td>\n",
       "    </tr>\n",
       "    <tr>\n",
       "      <th>std</th>\n",
       "      <td>56.358207</td>\n",
       "      <td>13.493725</td>\n",
       "      <td>1.278465</td>\n",
       "    </tr>\n",
       "    <tr>\n",
       "      <th>min</th>\n",
       "      <td>2.000000</td>\n",
       "      <td>1.000000</td>\n",
       "      <td>1.000000</td>\n",
       "    </tr>\n",
       "    <tr>\n",
       "      <th>25%</th>\n",
       "      <td>34.000000</td>\n",
       "      <td>8.000000</td>\n",
       "      <td>1.000000</td>\n",
       "    </tr>\n",
       "    <tr>\n",
       "      <th>50%</th>\n",
       "      <td>52.000000</td>\n",
       "      <td>13.000000</td>\n",
       "      <td>1.000000</td>\n",
       "    </tr>\n",
       "    <tr>\n",
       "      <th>75%</th>\n",
       "      <td>90.000000</td>\n",
       "      <td>22.000000</td>\n",
       "      <td>2.000000</td>\n",
       "    </tr>\n",
       "    <tr>\n",
       "      <th>max</th>\n",
       "      <td>910.000000</td>\n",
       "      <td>220.000000</td>\n",
       "      <td>28.000000</td>\n",
       "    </tr>\n",
       "  </tbody>\n",
       "</table>\n",
       "</div>"
      ],
      "text/plain": [
       "       num_characters    num_words  num_sentences\n",
       "count     4516.000000  4516.000000    4516.000000\n",
       "mean        70.459256    17.120903       1.799601\n",
       "std         56.358207    13.493725       1.278465\n",
       "min          2.000000     1.000000       1.000000\n",
       "25%         34.000000     8.000000       1.000000\n",
       "50%         52.000000    13.000000       1.000000\n",
       "75%         90.000000    22.000000       2.000000\n",
       "max        910.000000   220.000000      28.000000"
      ]
     },
     "execution_count": 33,
     "metadata": {},
     "output_type": "execute_result"
    }
   ],
   "source": [
    "# ham\n",
    "df[df['target'] == 0][['num_characters','num_words','num_sentences']].describe()"
   ]
  },
  {
   "cell_type": "code",
   "execution_count": 34,
   "id": "5cfbd25e",
   "metadata": {
    "execution": {
     "iopub.execute_input": "2022-11-12T20:46:18.610364Z",
     "iopub.status.busy": "2022-11-12T20:46:18.609918Z",
     "iopub.status.idle": "2022-11-12T20:46:18.635001Z",
     "shell.execute_reply": "2022-11-12T20:46:18.633744Z"
    },
    "papermill": {
     "duration": 0.056627,
     "end_time": "2022-11-12T20:46:18.637747",
     "exception": false,
     "start_time": "2022-11-12T20:46:18.581120",
     "status": "completed"
    },
    "tags": []
   },
   "outputs": [
    {
     "data": {
      "text/html": [
       "<div>\n",
       "<style scoped>\n",
       "    .dataframe tbody tr th:only-of-type {\n",
       "        vertical-align: middle;\n",
       "    }\n",
       "\n",
       "    .dataframe tbody tr th {\n",
       "        vertical-align: top;\n",
       "    }\n",
       "\n",
       "    .dataframe thead th {\n",
       "        text-align: right;\n",
       "    }\n",
       "</style>\n",
       "<table border=\"1\" class=\"dataframe\">\n",
       "  <thead>\n",
       "    <tr style=\"text-align: right;\">\n",
       "      <th></th>\n",
       "      <th>num_characters</th>\n",
       "      <th>num_words</th>\n",
       "      <th>num_sentences</th>\n",
       "    </tr>\n",
       "  </thead>\n",
       "  <tbody>\n",
       "    <tr>\n",
       "      <th>count</th>\n",
       "      <td>653.000000</td>\n",
       "      <td>653.000000</td>\n",
       "      <td>653.000000</td>\n",
       "    </tr>\n",
       "    <tr>\n",
       "      <th>mean</th>\n",
       "      <td>137.891271</td>\n",
       "      <td>27.667688</td>\n",
       "      <td>2.967841</td>\n",
       "    </tr>\n",
       "    <tr>\n",
       "      <th>std</th>\n",
       "      <td>30.137753</td>\n",
       "      <td>7.008418</td>\n",
       "      <td>1.483201</td>\n",
       "    </tr>\n",
       "    <tr>\n",
       "      <th>min</th>\n",
       "      <td>13.000000</td>\n",
       "      <td>2.000000</td>\n",
       "      <td>1.000000</td>\n",
       "    </tr>\n",
       "    <tr>\n",
       "      <th>25%</th>\n",
       "      <td>132.000000</td>\n",
       "      <td>25.000000</td>\n",
       "      <td>2.000000</td>\n",
       "    </tr>\n",
       "    <tr>\n",
       "      <th>50%</th>\n",
       "      <td>149.000000</td>\n",
       "      <td>29.000000</td>\n",
       "      <td>3.000000</td>\n",
       "    </tr>\n",
       "    <tr>\n",
       "      <th>75%</th>\n",
       "      <td>157.000000</td>\n",
       "      <td>32.000000</td>\n",
       "      <td>4.000000</td>\n",
       "    </tr>\n",
       "    <tr>\n",
       "      <th>max</th>\n",
       "      <td>224.000000</td>\n",
       "      <td>46.000000</td>\n",
       "      <td>8.000000</td>\n",
       "    </tr>\n",
       "  </tbody>\n",
       "</table>\n",
       "</div>"
      ],
      "text/plain": [
       "       num_characters   num_words  num_sentences\n",
       "count      653.000000  653.000000     653.000000\n",
       "mean       137.891271   27.667688       2.967841\n",
       "std         30.137753    7.008418       1.483201\n",
       "min         13.000000    2.000000       1.000000\n",
       "25%        132.000000   25.000000       2.000000\n",
       "50%        149.000000   29.000000       3.000000\n",
       "75%        157.000000   32.000000       4.000000\n",
       "max        224.000000   46.000000       8.000000"
      ]
     },
     "execution_count": 34,
     "metadata": {},
     "output_type": "execute_result"
    }
   ],
   "source": [
    "#spam\n",
    "df[df['target'] == 1][['num_characters','num_words','num_sentences']].describe()"
   ]
  },
  {
   "cell_type": "code",
   "execution_count": 35,
   "id": "a72af0cd",
   "metadata": {
    "execution": {
     "iopub.execute_input": "2022-11-12T20:46:18.695086Z",
     "iopub.status.busy": "2022-11-12T20:46:18.694658Z",
     "iopub.status.idle": "2022-11-12T20:46:18.884777Z",
     "shell.execute_reply": "2022-11-12T20:46:18.883627Z"
    },
    "papermill": {
     "duration": 0.221457,
     "end_time": "2022-11-12T20:46:18.887792",
     "exception": false,
     "start_time": "2022-11-12T20:46:18.666335",
     "status": "completed"
    },
    "tags": []
   },
   "outputs": [],
   "source": [
    "import seaborn as sns"
   ]
  },
  {
   "cell_type": "code",
   "execution_count": 36,
   "id": "8e5d48b4",
   "metadata": {
    "execution": {
     "iopub.execute_input": "2022-11-12T20:46:18.946976Z",
     "iopub.status.busy": "2022-11-12T20:46:18.945822Z",
     "iopub.status.idle": "2022-11-12T20:46:24.028569Z",
     "shell.execute_reply": "2022-11-12T20:46:24.027595Z"
    },
    "papermill": {
     "duration": 5.115684,
     "end_time": "2022-11-12T20:46:24.031571",
     "exception": false,
     "start_time": "2022-11-12T20:46:18.915887",
     "status": "completed"
    },
    "tags": []
   },
   "outputs": [
    {
     "data": {
      "text/plain": [
       "<seaborn.axisgrid.PairGrid at 0x7f71f3a87fd0>"
      ]
     },
     "execution_count": 36,
     "metadata": {},
     "output_type": "execute_result"
    },
    {
     "data": {
      "image/png": "[encoded data removed]",
      "text/plain": [
       "<Figure size 582.375x540 with 12 Axes>"
      ]
     },
     "metadata": {
      "needs_background": "light"
     },
     "output_type": "display_data"
    }
   ],
   "source": [
    "sns.pairplot(df,hue='target')"
   ]
  },
  {
   "cell_type": "code",
   "execution_count": 37,
   "id": "f12fd6fa",
   "metadata": {
    "execution": {
     "iopub.execute_input": "2022-11-12T20:46:24.091750Z",
     "iopub.status.busy": "2022-11-12T20:46:24.091101Z",
     "iopub.status.idle": "2022-11-12T20:46:24.437867Z",
     "shell.execute_reply": "2022-11-12T20:46:24.436718Z"
    },
    "papermill": {
     "duration": 0.379707,
     "end_time": "2022-11-12T20:46:24.440392",
     "exception": false,
     "start_time": "2022-11-12T20:46:24.060685",
     "status": "completed"
    },
    "tags": []
   },
   "outputs": [
    {
     "data": {
      "text/plain": [
       "<AxesSubplot:>"
      ]
     },
     "execution_count": 37,
     "metadata": {},
     "output_type": "execute_result"
    },
    {
     "data": {
      "image/png": "[encoded data removed]",
      "text/plain": [
       "<Figure size 432x288 with 2 Axes>"
      ]
     },
     "metadata": {
      "needs_background": "light"
     },
     "output_type": "display_data"
    }
   ],
   "source": [
    "sns.heatmap(df.corr(),annot=True)"
   ]
  },
  {
   "cell_type": "markdown",
   "id": "2bdd7c7a",
   "metadata": {
    "papermill": {
     "duration": 0.028587,
     "end_time": "2022-11-12T20:46:24.498736",
     "exception": false,
     "start_time": "2022-11-12T20:46:24.470149",
     "status": "completed"
    },
    "tags": []
   },
   "source": [
    "## 3. Data Preprocessing\n",
    "- Lower case\n",
    "- Tokenization\n",
    "- Removing special characters\n",
    "- Removing stop words and punctuation\n",
    "- Stemming"
   ]
  },
  {
   "cell_type": "code",
   "execution_count": 38,
   "id": "b798a1de",
   "metadata": {
    "execution": {
     "iopub.execute_input": "2022-11-12T20:46:24.557666Z",
     "iopub.status.busy": "2022-11-12T20:46:24.557225Z",
     "iopub.status.idle": "2022-11-12T20:46:24.561833Z",
     "shell.execute_reply": "2022-11-12T20:46:24.561032Z"
    },
    "papermill": {
     "duration": 0.036869,
     "end_time": "2022-11-12T20:46:24.564033",
     "exception": false,
     "start_time": "2022-11-12T20:46:24.527164",
     "status": "completed"
    },
    "tags": []
   },
   "outputs": [],
   "source": [
    "from nltk.corpus import stopwords\n",
    "import string"
   ]
  },
  {
   "cell_type": "code",
   "execution_count": 39,
   "id": "8c824486",
   "metadata": {
    "execution": {
     "iopub.execute_input": "2022-11-12T20:46:24.625248Z",
     "iopub.status.busy": "2022-11-12T20:46:24.624496Z",
     "iopub.status.idle": "2022-11-12T20:46:24.628873Z",
     "shell.execute_reply": "2022-11-12T20:46:24.628026Z"
    },
    "papermill": {
     "duration": 0.037889,
     "end_time": "2022-11-12T20:46:24.631036",
     "exception": false,
     "start_time": "2022-11-12T20:46:24.593147",
     "status": "completed"
    },
    "tags": []
   },
   "outputs": [],
   "source": [
    "from nltk.stem.porter import PorterStemmer\n",
    "ps = PorterStemmer()"
   ]
  },
  {
   "cell_type": "code",
   "execution_count": 40,
   "id": "c3152515",
   "metadata": {
    "execution": {
     "iopub.execute_input": "2022-11-12T20:46:24.693208Z",
     "iopub.status.busy": "2022-11-12T20:46:24.692770Z",
     "iopub.status.idle": "2022-11-12T20:46:24.699942Z",
     "shell.execute_reply": "2022-11-12T20:46:24.699078Z"
    },
    "papermill": {
     "duration": 0.041378,
     "end_time": "2022-11-12T20:46:24.702202",
     "exception": false,
     "start_time": "2022-11-12T20:46:24.660824",
     "status": "completed"
    },
    "tags": []
   },
   "outputs": [],
   "source": [
    "def transform_text(text):\n",
    "    text = text.lower()\n",
    "    text = nltk.word_tokenize(text)\n",
    "    \n",
    "    y = []\n",
    "    for i in text:\n",
    "        if i.isalnum():\n",
    "            y.append(i)\n",
    "    \n",
    "    text = y[:]\n",
    "    y.clear()\n",
    "    \n",
    "    for i in text:\n",
    "        if i not in stopwords.words('english') and i not in string.punctuation:\n",
    "            y.append(i)\n",
    "            \n",
    "    text = y[:]\n",
    "    y.clear()\n",
    "    \n",
    "    for i in text:\n",
    "        y.append(ps.stem(i))\n",
    "    \n",
    "            \n",
    "    return \" \".join(y)"
   ]
  },
  {
   "cell_type": "code",
   "execution_count": 41,
   "id": "edd31ee4",
   "metadata": {
    "execution": {
     "iopub.execute_input": "2022-11-12T20:46:24.763222Z",
     "iopub.status.busy": "2022-11-12T20:46:24.762523Z",
     "iopub.status.idle": "2022-11-12T20:46:24.778655Z",
     "shell.execute_reply": "2022-11-12T20:46:24.777833Z"
    },
    "papermill": {
     "duration": 0.049667,
     "end_time": "2022-11-12T20:46:24.781041",
     "exception": false,
     "start_time": "2022-11-12T20:46:24.731374",
     "status": "completed"
    },
    "tags": []
   },
   "outputs": [
    {
     "data": {
      "text/plain": [
       "'gon na home soon want talk stuff anymor tonight k cri enough today'"
      ]
     },
     "execution_count": 41,
     "metadata": {},
     "output_type": "execute_result"
    }
   ],
   "source": [
    "transform_text(\"I'm gonna be home soon and i don't want to talk about this stuff anymore tonight, k? I've cried enough today.\")"
   ]
  },
  {
   "cell_type": "code",
   "execution_count": 42,
   "id": "680a1c0e",
   "metadata": {
    "execution": {
     "iopub.execute_input": "2022-11-12T20:46:24.841880Z",
     "iopub.status.busy": "2022-11-12T20:46:24.841490Z",
     "iopub.status.idle": "2022-11-12T20:46:24.848228Z",
     "shell.execute_reply": "2022-11-12T20:46:24.847165Z"
    },
    "papermill": {
     "duration": 0.040336,
     "end_time": "2022-11-12T20:46:24.850714",
     "exception": false,
     "start_time": "2022-11-12T20:46:24.810378",
     "status": "completed"
    },
    "tags": []
   },
   "outputs": [
    {
     "data": {
      "text/plain": [
       "\"I'm gonna be home soon and i don't want to talk about this stuff anymore tonight, k? I've cried enough today.\""
      ]
     },
     "execution_count": 42,
     "metadata": {},
     "output_type": "execute_result"
    }
   ],
   "source": [
    "df['text'][10]"
   ]
  },
  {
   "cell_type": "code",
   "execution_count": 43,
   "id": "27053ac2",
   "metadata": {
    "execution": {
     "iopub.execute_input": "2022-11-12T20:46:24.910216Z",
     "iopub.status.busy": "2022-11-12T20:46:24.909809Z",
     "iopub.status.idle": "2022-11-12T20:46:24.916174Z",
     "shell.execute_reply": "2022-11-12T20:46:24.915324Z"
    },
    "papermill": {
     "duration": 0.038589,
     "end_time": "2022-11-12T20:46:24.918265",
     "exception": false,
     "start_time": "2022-11-12T20:46:24.879676",
     "status": "completed"
    },
    "tags": []
   },
   "outputs": [
    {
     "data": {
      "text/plain": [
       "'love'"
      ]
     },
     "execution_count": 43,
     "metadata": {},
     "output_type": "execute_result"
    }
   ],
   "source": [
    "ps.stem('loving')"
   ]
  },
  {
   "cell_type": "code",
   "execution_count": 44,
   "id": "ab204bfa",
   "metadata": {
    "execution": {
     "iopub.execute_input": "2022-11-12T20:46:24.978655Z",
     "iopub.status.busy": "2022-11-12T20:46:24.978278Z",
     "iopub.status.idle": "2022-11-12T20:46:38.701467Z",
     "shell.execute_reply": "2022-11-12T20:46:38.700535Z"
    },
    "papermill": {
     "duration": 13.756444,
     "end_time": "2022-11-12T20:46:38.704061",
     "exception": false,
     "start_time": "2022-11-12T20:46:24.947617",
     "status": "completed"
    },
    "tags": []
   },
   "outputs": [],
   "source": [
    "df['transformed_text'] = df['text'].apply(transform_text)"
   ]
  },
  {
   "cell_type": "code",
   "execution_count": 45,
   "id": "b3ef55ff",
   "metadata": {
    "execution": {
     "iopub.execute_input": "2022-11-12T20:46:38.769274Z",
     "iopub.status.busy": "2022-11-12T20:46:38.768591Z",
     "iopub.status.idle": "2022-11-12T20:46:38.782876Z",
     "shell.execute_reply": "2022-11-12T20:46:38.781694Z"
    },
    "papermill": {
     "duration": 0.050738,
     "end_time": "2022-11-12T20:46:38.785431",
     "exception": false,
     "start_time": "2022-11-12T20:46:38.734693",
     "status": "completed"
    },
    "tags": []
   },
   "outputs": [
    {
     "data": {
      "text/html": [
       "<div>\n",
       "<style scoped>\n",
       "    .dataframe tbody tr th:only-of-type {\n",
       "        vertical-align: middle;\n",
       "    }\n",
       "\n",
       "    .dataframe tbody tr th {\n",
       "        vertical-align: top;\n",
       "    }\n",
       "\n",
       "    .dataframe thead th {\n",
       "        text-align: right;\n",
       "    }\n",
       "</style>\n",
       "<table border=\"1\" class=\"dataframe\">\n",
       "  <thead>\n",
       "    <tr style=\"text-align: right;\">\n",
       "      <th></th>\n",
       "      <th>target</th>\n",
       "      <th>text</th>\n",
       "      <th>num_characters</th>\n",
       "      <th>num_words</th>\n",
       "      <th>num_sentences</th>\n",
       "      <th>transformed_text</th>\n",
       "    </tr>\n",
       "  </thead>\n",
       "  <tbody>\n",
       "    <tr>\n",
       "      <th>0</th>\n",
       "      <td>0</td>\n",
       "      <td>Go until jurong point, crazy.. Available only ...</td>\n",
       "      <td>111</td>\n",
       "      <td>24</td>\n",
       "      <td>2</td>\n",
       "      <td>go jurong point crazi avail bugi n great world...</td>\n",
       "    </tr>\n",
       "    <tr>\n",
       "      <th>1</th>\n",
       "      <td>0</td>\n",
       "      <td>Ok lar... Joking wif u oni...</td>\n",
       "      <td>29</td>\n",
       "      <td>8</td>\n",
       "      <td>2</td>\n",
       "      <td>ok lar joke wif u oni</td>\n",
       "    </tr>\n",
       "    <tr>\n",
       "      <th>2</th>\n",
       "      <td>1</td>\n",
       "      <td>Free entry in 2 a wkly comp to win FA Cup fina...</td>\n",
       "      <td>155</td>\n",
       "      <td>37</td>\n",
       "      <td>2</td>\n",
       "      <td>free entri 2 wkli comp win fa cup final tkt 21...</td>\n",
       "    </tr>\n",
       "    <tr>\n",
       "      <th>3</th>\n",
       "      <td>0</td>\n",
       "      <td>U dun say so early hor... U c already then say...</td>\n",
       "      <td>49</td>\n",
       "      <td>13</td>\n",
       "      <td>1</td>\n",
       "      <td>u dun say earli hor u c alreadi say</td>\n",
       "    </tr>\n",
       "    <tr>\n",
       "      <th>4</th>\n",
       "      <td>0</td>\n",
       "      <td>Nah I don't think he goes to usf, he lives aro...</td>\n",
       "      <td>61</td>\n",
       "      <td>15</td>\n",
       "      <td>1</td>\n",
       "      <td>nah think goe usf live around though</td>\n",
       "    </tr>\n",
       "  </tbody>\n",
       "</table>\n",
       "</div>"
      ],
      "text/plain": [
       "   target                                               text  num_characters  \\\n",
       "0       0  Go until jurong point, crazy.. Available only ...             111   \n",
       "1       0                      Ok lar... Joking wif u oni...              29   \n",
       "2       1  Free entry in 2 a wkly comp to win FA Cup fina...             155   \n",
       "3       0  U dun say so early hor... U c already then say...              49   \n",
       "4       0  Nah I don't think he goes to usf, he lives aro...              61   \n",
       "\n",
       "   num_words  num_sentences                                   transformed_text  \n",
       "0         24              2  go jurong point crazi avail bugi n great world...  \n",
       "1          8              2                              ok lar joke wif u oni  \n",
       "2         37              2  free entri 2 wkli comp win fa cup final tkt 21...  \n",
       "3         13              1                u dun say earli hor u c alreadi say  \n",
       "4         15              1               nah think goe usf live around though  "
      ]
     },
     "execution_count": 45,
     "metadata": {},
     "output_type": "execute_result"
    }
   ],
   "source": [
    "df.head()"
   ]
  },
  {
   "cell_type": "code",
   "execution_count": 46,
   "id": "23aba4be",
   "metadata": {
    "execution": {
     "iopub.execute_input": "2022-11-12T20:46:38.854480Z",
     "iopub.status.busy": "2022-11-12T20:46:38.853200Z",
     "iopub.status.idle": "2022-11-12T20:46:38.890639Z",
     "shell.execute_reply": "2022-11-12T20:46:38.889012Z"
    },
    "papermill": {
     "duration": 0.074817,
     "end_time": "2022-11-12T20:46:38.893687",
     "exception": false,
     "start_time": "2022-11-12T20:46:38.818870",
     "status": "completed"
    },
    "tags": []
   },
   "outputs": [],
   "source": [
    "from wordcloud import WordCloud\n",
    "wc = WordCloud(width=500,height=500,min_font_size=10,background_color='white')"
   ]
  },
  {
   "cell_type": "code",
   "execution_count": 47,
   "id": "e6c29a02",
   "metadata": {
    "execution": {
     "iopub.execute_input": "2022-11-12T20:46:38.956726Z",
     "iopub.status.busy": "2022-11-12T20:46:38.956097Z",
     "iopub.status.idle": "2022-11-12T20:46:39.406168Z",
     "shell.execute_reply": "2022-11-12T20:46:39.404849Z"
    },
    "papermill": {
     "duration": 0.484558,
     "end_time": "2022-11-12T20:46:39.408963",
     "exception": false,
     "start_time": "2022-11-12T20:46:38.924405",
     "status": "completed"
    },
    "tags": []
   },
   "outputs": [],
   "source": [
    "spam_wc = wc.generate(df[df['target'] == 1]['transformed_text'].str.cat(sep=\" \"))"
   ]
  },
  {
   "cell_type": "code",
   "execution_count": 48,
   "id": "8c04fc5f",
   "metadata": {
    "execution": {
     "iopub.execute_input": "2022-11-12T20:46:39.472744Z",
     "iopub.status.busy": "2022-11-12T20:46:39.472258Z",
     "iopub.status.idle": "2022-11-12T20:46:39.876483Z",
     "shell.execute_reply": "2022-11-12T20:46:39.874854Z"
    },
    "papermill": {
     "duration": 0.441309,
     "end_time": "2022-11-12T20:46:39.880406",
     "exception": false,
     "start_time": "2022-11-12T20:46:39.439097",
     "status": "completed"
    },
    "tags": []
   },
   "outputs": [
    {
     "data": {
      "text/plain": [
       "<matplotlib.image.AxesImage at 0x7f71f31bf610>"
      ]
     },
     "execution_count": 48,
     "metadata": {},
     "output_type": "execute_result"
    },
    {
     "data": {
      "image/png": "[encoded data removed]",
      "text/plain": [
       "<Figure size 1080x432 with 1 Axes>"
      ]
     },
     "metadata": {
      "needs_background": "light"
     },
     "output_type": "display_data"
    }
   ],
   "source": [
    "plt.figure(figsize=(15,6))\n",
    "plt.imshow(spam_wc)"
   ]
  },
  {
   "cell_type": "code",
   "execution_count": 49,
   "id": "b200b6c2",
   "metadata": {
    "execution": {
     "iopub.execute_input": "2022-11-12T20:46:39.953671Z",
     "iopub.status.busy": "2022-11-12T20:46:39.953257Z",
     "iopub.status.idle": "2022-11-12T20:46:40.855017Z",
     "shell.execute_reply": "2022-11-12T20:46:40.853692Z"
    },
    "papermill": {
     "duration": 0.941915,
     "end_time": "2022-11-12T20:46:40.857827",
     "exception": false,
     "start_time": "2022-11-12T20:46:39.915912",
     "status": "completed"
    },
    "tags": []
   },
   "outputs": [],
   "source": [
    "ham_wc = wc.generate(df[df['target'] == 0]['transformed_text'].str.cat(sep=\" \"))"
   ]
  },
  {
   "cell_type": "code",
   "execution_count": 50,
   "id": "87570e2d",
   "metadata": {
    "execution": {
     "iopub.execute_input": "2022-11-12T20:46:40.926253Z",
     "iopub.status.busy": "2022-11-12T20:46:40.925062Z",
     "iopub.status.idle": "2022-11-12T20:46:41.339617Z",
     "shell.execute_reply": "2022-11-12T20:46:41.338380Z"
    },
    "papermill": {
     "duration": 0.452147,
     "end_time": "2022-11-12T20:46:41.342955",
     "exception": false,
     "start_time": "2022-11-12T20:46:40.890808",
     "status": "completed"
    },
    "tags": []
   },
   "outputs": [
    {
     "data": {
      "text/plain": [
       "<matplotlib.image.AxesImage at 0x7f71f31cb690>"
      ]
     },
     "execution_count": 50,
     "metadata": {},
     "output_type": "execute_result"
    },
    {
     "data": {
      "image/png": "[encoded data removed]",
      "text/plain": [
       "<Figure size 1080x432 with 1 Axes>"
      ]
     },
     "metadata": {
      "needs_background": "light"
     },
     "output_type": "display_data"
    }
   ],
   "source": [
    "plt.figure(figsize=(15,6))\n",
    "plt.imshow(ham_wc)"
   ]
  },
  {
   "cell_type": "code",
   "execution_count": 51,
   "id": "6e13da4e",
   "metadata": {
    "execution": {
     "iopub.execute_input": "2022-11-12T20:46:41.415631Z",
     "iopub.status.busy": "2022-11-12T20:46:41.415189Z",
     "iopub.status.idle": "2022-11-12T20:46:41.430467Z",
     "shell.execute_reply": "2022-11-12T20:46:41.429068Z"
    },
    "papermill": {
     "duration": 0.055032,
     "end_time": "2022-11-12T20:46:41.433070",
     "exception": false,
     "start_time": "2022-11-12T20:46:41.378038",
     "status": "completed"
    },
    "tags": []
   },
   "outputs": [
    {
     "data": {
      "text/html": [
       "<div>\n",
       "<style scoped>\n",
       "    .dataframe tbody tr th:only-of-type {\n",
       "        vertical-align: middle;\n",
       "    }\n",
       "\n",
       "    .dataframe tbody tr th {\n",
       "        vertical-align: top;\n",
       "    }\n",
       "\n",
       "    .dataframe thead th {\n",
       "        text-align: right;\n",
       "    }\n",
       "</style>\n",
       "<table border=\"1\" class=\"dataframe\">\n",
       "  <thead>\n",
       "    <tr style=\"text-align: right;\">\n",
       "      <th></th>\n",
       "      <th>target</th>\n",
       "      <th>text</th>\n",
       "      <th>num_characters</th>\n",
       "      <th>num_words</th>\n",
       "      <th>num_sentences</th>\n",
       "      <th>transformed_text</th>\n",
       "    </tr>\n",
       "  </thead>\n",
       "  <tbody>\n",
       "    <tr>\n",
       "      <th>0</th>\n",
       "      <td>0</td>\n",
       "      <td>Go until jurong point, crazy.. Available only ...</td>\n",
       "      <td>111</td>\n",
       "      <td>24</td>\n",
       "      <td>2</td>\n",
       "      <td>go jurong point crazi avail bugi n great world...</td>\n",
       "    </tr>\n",
       "    <tr>\n",
       "      <th>1</th>\n",
       "      <td>0</td>\n",
       "      <td>Ok lar... Joking wif u oni...</td>\n",
       "      <td>29</td>\n",
       "      <td>8</td>\n",
       "      <td>2</td>\n",
       "      <td>ok lar joke wif u oni</td>\n",
       "    </tr>\n",
       "    <tr>\n",
       "      <th>2</th>\n",
       "      <td>1</td>\n",
       "      <td>Free entry in 2 a wkly comp to win FA Cup fina...</td>\n",
       "      <td>155</td>\n",
       "      <td>37</td>\n",
       "      <td>2</td>\n",
       "      <td>free entri 2 wkli comp win fa cup final tkt 21...</td>\n",
       "    </tr>\n",
       "    <tr>\n",
       "      <th>3</th>\n",
       "      <td>0</td>\n",
       "      <td>U dun say so early hor... U c already then say...</td>\n",
       "      <td>49</td>\n",
       "      <td>13</td>\n",
       "      <td>1</td>\n",
       "      <td>u dun say earli hor u c alreadi say</td>\n",
       "    </tr>\n",
       "    <tr>\n",
       "      <th>4</th>\n",
       "      <td>0</td>\n",
       "      <td>Nah I don't think he goes to usf, he lives aro...</td>\n",
       "      <td>61</td>\n",
       "      <td>15</td>\n",
       "      <td>1</td>\n",
       "      <td>nah think goe usf live around though</td>\n",
       "    </tr>\n",
       "    <tr>\n",
       "      <th>5</th>\n",
       "      <td>1</td>\n",
       "      <td>FreeMsg Hey there darling it's been 3 week's n...</td>\n",
       "      <td>148</td>\n",
       "      <td>39</td>\n",
       "      <td>4</td>\n",
       "      <td>freemsg hey darl 3 week word back like fun sti...</td>\n",
       "    </tr>\n",
       "    <tr>\n",
       "      <th>6</th>\n",
       "      <td>0</td>\n",
       "      <td>Even my brother is not like to speak with me. ...</td>\n",
       "      <td>77</td>\n",
       "      <td>18</td>\n",
       "      <td>2</td>\n",
       "      <td>even brother like speak treat like aid patent</td>\n",
       "    </tr>\n",
       "    <tr>\n",
       "      <th>7</th>\n",
       "      <td>0</td>\n",
       "      <td>As per your request 'Melle Melle (Oru Minnamin...</td>\n",
       "      <td>160</td>\n",
       "      <td>31</td>\n",
       "      <td>2</td>\n",
       "      <td>per request mell oru minnaminungint nurungu ve...</td>\n",
       "    </tr>\n",
       "    <tr>\n",
       "      <th>8</th>\n",
       "      <td>1</td>\n",
       "      <td>WINNER!! As a valued network customer you have...</td>\n",
       "      <td>158</td>\n",
       "      <td>32</td>\n",
       "      <td>5</td>\n",
       "      <td>winner valu network custom select receivea pri...</td>\n",
       "    </tr>\n",
       "    <tr>\n",
       "      <th>9</th>\n",
       "      <td>1</td>\n",
       "      <td>Had your mobile 11 months or more? U R entitle...</td>\n",
       "      <td>154</td>\n",
       "      <td>31</td>\n",
       "      <td>3</td>\n",
       "      <td>mobil 11 month u r entitl updat latest colour ...</td>\n",
       "    </tr>\n",
       "    <tr>\n",
       "      <th>10</th>\n",
       "      <td>0</td>\n",
       "      <td>I'm gonna be home soon and i don't want to tal...</td>\n",
       "      <td>109</td>\n",
       "      <td>28</td>\n",
       "      <td>2</td>\n",
       "      <td>gon na home soon want talk stuff anymor tonigh...</td>\n",
       "    </tr>\n",
       "    <tr>\n",
       "      <th>11</th>\n",
       "      <td>1</td>\n",
       "      <td>SIX chances to win CASH! From 100 to 20,000 po...</td>\n",
       "      <td>136</td>\n",
       "      <td>31</td>\n",
       "      <td>3</td>\n",
       "      <td>six chanc win cash 100 pound txt csh11 send co...</td>\n",
       "    </tr>\n",
       "    <tr>\n",
       "      <th>12</th>\n",
       "      <td>1</td>\n",
       "      <td>URGENT! You have won a 1 week FREE membership ...</td>\n",
       "      <td>156</td>\n",
       "      <td>32</td>\n",
       "      <td>3</td>\n",
       "      <td>urgent 1 week free membership prize jackpot tx...</td>\n",
       "    </tr>\n",
       "    <tr>\n",
       "      <th>13</th>\n",
       "      <td>0</td>\n",
       "      <td>I've been searching for the right words to tha...</td>\n",
       "      <td>196</td>\n",
       "      <td>41</td>\n",
       "      <td>3</td>\n",
       "      <td>search right word thank breather promis wont t...</td>\n",
       "    </tr>\n",
       "    <tr>\n",
       "      <th>14</th>\n",
       "      <td>0</td>\n",
       "      <td>I HAVE A DATE ON SUNDAY WITH WILL!!</td>\n",
       "      <td>35</td>\n",
       "      <td>10</td>\n",
       "      <td>2</td>\n",
       "      <td>date sunday</td>\n",
       "    </tr>\n",
       "    <tr>\n",
       "      <th>15</th>\n",
       "      <td>1</td>\n",
       "      <td>XXXMobileMovieClub: To use your credit, click ...</td>\n",
       "      <td>149</td>\n",
       "      <td>28</td>\n",
       "      <td>2</td>\n",
       "      <td>xxxmobilemovieclub use credit click wap link n...</td>\n",
       "    </tr>\n",
       "    <tr>\n",
       "      <th>16</th>\n",
       "      <td>0</td>\n",
       "      <td>Oh k...i'm watching here:)</td>\n",
       "      <td>26</td>\n",
       "      <td>9</td>\n",
       "      <td>1</td>\n",
       "      <td>oh k watch</td>\n",
       "    </tr>\n",
       "    <tr>\n",
       "      <th>17</th>\n",
       "      <td>0</td>\n",
       "      <td>Eh u remember how 2 spell his name... Yes i di...</td>\n",
       "      <td>81</td>\n",
       "      <td>22</td>\n",
       "      <td>3</td>\n",
       "      <td>eh u rememb 2 spell name ye v naughti make v wet</td>\n",
       "    </tr>\n",
       "    <tr>\n",
       "      <th>18</th>\n",
       "      <td>0</td>\n",
       "      <td>Fine if thatåÕs the way u feel. ThatåÕs the wa...</td>\n",
       "      <td>58</td>\n",
       "      <td>14</td>\n",
       "      <td>2</td>\n",
       "      <td>fine thatåõ way u feel thatåõ way gota b</td>\n",
       "    </tr>\n",
       "    <tr>\n",
       "      <th>19</th>\n",
       "      <td>1</td>\n",
       "      <td>England v Macedonia - dont miss the goals/team...</td>\n",
       "      <td>156</td>\n",
       "      <td>28</td>\n",
       "      <td>2</td>\n",
       "      <td>england v macedonia dont miss news txt ur nati...</td>\n",
       "    </tr>\n",
       "  </tbody>\n",
       "</table>\n",
       "</div>"
      ],
      "text/plain": [
       "    target                                               text  num_characters  \\\n",
       "0        0  Go until jurong point, crazy.. Available only ...             111   \n",
       "1        0                      Ok lar... Joking wif u oni...              29   \n",
       "2        1  Free entry in 2 a wkly comp to win FA Cup fina...             155   \n",
       "3        0  U dun say so early hor... U c already then say...              49   \n",
       "4        0  Nah I don't think he goes to usf, he lives aro...              61   \n",
       "5        1  FreeMsg Hey there darling it's been 3 week's n...             148   \n",
       "6        0  Even my brother is not like to speak with me. ...              77   \n",
       "7        0  As per your request 'Melle Melle (Oru Minnamin...             160   \n",
       "8        1  WINNER!! As a valued network customer you have...             158   \n",
       "9        1  Had your mobile 11 months or more? U R entitle...             154   \n",
       "10       0  I'm gonna be home soon and i don't want to tal...             109   \n",
       "11       1  SIX chances to win CASH! From 100 to 20,000 po...             136   \n",
       "12       1  URGENT! You have won a 1 week FREE membership ...             156   \n",
       "13       0  I've been searching for the right words to tha...             196   \n",
       "14       0                I HAVE A DATE ON SUNDAY WITH WILL!!              35   \n",
       "15       1  XXXMobileMovieClub: To use your credit, click ...             149   \n",
       "16       0                         Oh k...i'm watching here:)              26   \n",
       "17       0  Eh u remember how 2 spell his name... Yes i di...              81   \n",
       "18       0  Fine if thatåÕs the way u feel. ThatåÕs the wa...              58   \n",
       "19       1  England v Macedonia - dont miss the goals/team...             156   \n",
       "\n",
       "    num_words  num_sentences  \\\n",
       "0          24              2   \n",
       "1           8              2   \n",
       "2          37              2   \n",
       "3          13              1   \n",
       "4          15              1   \n",
       "5          39              4   \n",
       "6          18              2   \n",
       "7          31              2   \n",
       "8          32              5   \n",
       "9          31              3   \n",
       "10         28              2   \n",
       "11         31              3   \n",
       "12         32              3   \n",
       "13         41              3   \n",
       "14         10              2   \n",
       "15         28              2   \n",
       "16          9              1   \n",
       "17         22              3   \n",
       "18         14              2   \n",
       "19         28              2   \n",
       "\n",
       "                                     transformed_text  \n",
       "0   go jurong point crazi avail bugi n great world...  \n",
       "1                               ok lar joke wif u oni  \n",
       "2   free entri 2 wkli comp win fa cup final tkt 21...  \n",
       "3                 u dun say earli hor u c alreadi say  \n",
       "4                nah think goe usf live around though  \n",
       "5   freemsg hey darl 3 week word back like fun sti...  \n",
       "6       even brother like speak treat like aid patent  \n",
       "7   per request mell oru minnaminungint nurungu ve...  \n",
       "8   winner valu network custom select receivea pri...  \n",
       "9   mobil 11 month u r entitl updat latest colour ...  \n",
       "10  gon na home soon want talk stuff anymor tonigh...  \n",
       "11  six chanc win cash 100 pound txt csh11 send co...  \n",
       "12  urgent 1 week free membership prize jackpot tx...  \n",
       "13  search right word thank breather promis wont t...  \n",
       "14                                        date sunday  \n",
       "15  xxxmobilemovieclub use credit click wap link n...  \n",
       "16                                         oh k watch  \n",
       "17   eh u rememb 2 spell name ye v naughti make v wet  \n",
       "18           fine thatåõ way u feel thatåõ way gota b  \n",
       "19  england v macedonia dont miss news txt ur nati...  "
      ]
     },
     "execution_count": 51,
     "metadata": {},
     "output_type": "execute_result"
    }
   ],
   "source": [
    "df.head(20)"
   ]
  },
  {
   "cell_type": "code",
   "execution_count": 52,
   "id": "af5caa7f",
   "metadata": {
    "execution": {
     "iopub.execute_input": "2022-11-12T20:46:41.506234Z",
     "iopub.status.busy": "2022-11-12T20:46:41.505585Z",
     "iopub.status.idle": "2022-11-12T20:46:41.514381Z",
     "shell.execute_reply": "2022-11-12T20:46:41.513063Z"
    },
    "papermill": {
     "duration": 0.049055,
     "end_time": "2022-11-12T20:46:41.517284",
     "exception": false,
     "start_time": "2022-11-12T20:46:41.468229",
     "status": "completed"
    },
    "tags": []
   },
   "outputs": [],
   "source": [
    "spam_corpus = []\n",
    "for msg in df[df['target'] == 1]['transformed_text'].tolist():\n",
    "    for word in msg.split():\n",
    "        spam_corpus.append(word)\n",
    "        "
   ]
  },
  {
   "cell_type": "code",
   "execution_count": 53,
   "id": "128b5462",
   "metadata": {
    "execution": {
     "iopub.execute_input": "2022-11-12T20:46:41.592544Z",
     "iopub.status.busy": "2022-11-12T20:46:41.591721Z",
     "iopub.status.idle": "2022-11-12T20:46:41.598244Z",
     "shell.execute_reply": "2022-11-12T20:46:41.597164Z"
    },
    "papermill": {
     "duration": 0.047172,
     "end_time": "2022-11-12T20:46:41.600499",
     "exception": false,
     "start_time": "2022-11-12T20:46:41.553327",
     "status": "completed"
    },
    "tags": []
   },
   "outputs": [
    {
     "data": {
      "text/plain": [
       "9939"
      ]
     },
     "execution_count": 53,
     "metadata": {},
     "output_type": "execute_result"
    }
   ],
   "source": [
    "len(spam_corpus)"
   ]
  },
  {
   "cell_type": "code",
   "execution_count": 54,
   "id": "8fd8a7c0",
   "metadata": {
    "execution": {
     "iopub.execute_input": "2022-11-12T20:46:41.674535Z",
     "iopub.status.busy": "2022-11-12T20:46:41.673597Z",
     "iopub.status.idle": "2022-11-12T20:46:42.064429Z",
     "shell.execute_reply": "2022-11-12T20:46:42.063115Z"
    },
    "papermill": {
     "duration": 0.430069,
     "end_time": "2022-11-12T20:46:42.066807",
     "exception": false,
     "start_time": "2022-11-12T20:46:41.636738",
     "status": "completed"
    },
    "tags": []
   },
   "outputs": [
    {
     "data": {
      "image/png": "[encoded data removed]",
      "text/plain": [
       "<Figure size 432x288 with 1 Axes>"
      ]
     },
     "metadata": {
      "needs_background": "light"
     },
     "output_type": "display_data"
    }
   ],
   "source": [
    "from collections import Counter\n",
    "sns.barplot(pd.DataFrame(Counter(spam_corpus).most_common(30))[0],pd.DataFrame(Counter(spam_corpus).most_common(30))[1])\n",
    "plt.xticks(rotation='vertical')\n",
    "plt.show()"
   ]
  },
  {
   "cell_type": "code",
   "execution_count": 55,
   "id": "dab71abd",
   "metadata": {
    "execution": {
     "iopub.execute_input": "2022-11-12T20:46:42.143949Z",
     "iopub.status.busy": "2022-11-12T20:46:42.142697Z",
     "iopub.status.idle": "2022-11-12T20:46:42.158173Z",
     "shell.execute_reply": "2022-11-12T20:46:42.157301Z"
    },
    "papermill": {
     "duration": 0.05648,
     "end_time": "2022-11-12T20:46:42.160687",
     "exception": false,
     "start_time": "2022-11-12T20:46:42.104207",
     "status": "completed"
    },
    "tags": []
   },
   "outputs": [],
   "source": [
    "ham_corpus = []\n",
    "for msg in df[df['target'] == 0]['transformed_text'].tolist():\n",
    "    for word in msg.split():\n",
    "        ham_corpus.append(word)"
   ]
  },
  {
   "cell_type": "code",
   "execution_count": 56,
   "id": "10a797aa",
   "metadata": {
    "execution": {
     "iopub.execute_input": "2022-11-12T20:46:42.234484Z",
     "iopub.status.busy": "2022-11-12T20:46:42.233851Z",
     "iopub.status.idle": "2022-11-12T20:46:42.241090Z",
     "shell.execute_reply": "2022-11-12T20:46:42.239635Z"
    },
    "papermill": {
     "duration": 0.047387,
     "end_time": "2022-11-12T20:46:42.243516",
     "exception": false,
     "start_time": "2022-11-12T20:46:42.196129",
     "status": "completed"
    },
    "tags": []
   },
   "outputs": [
    {
     "data": {
      "text/plain": [
       "35394"
      ]
     },
     "execution_count": 56,
     "metadata": {},
     "output_type": "execute_result"
    }
   ],
   "source": [
    "len(ham_corpus)"
   ]
  },
  {
   "cell_type": "code",
   "execution_count": 57,
   "id": "78f1adb5",
   "metadata": {
    "execution": {
     "iopub.execute_input": "2022-11-12T20:46:42.318907Z",
     "iopub.status.busy": "2022-11-12T20:46:42.318031Z",
     "iopub.status.idle": "2022-11-12T20:46:42.705876Z",
     "shell.execute_reply": "2022-11-12T20:46:42.704495Z"
    },
    "papermill": {
     "duration": 0.428325,
     "end_time": "2022-11-12T20:46:42.708235",
     "exception": false,
     "start_time": "2022-11-12T20:46:42.279910",
     "status": "completed"
    },
    "tags": []
   },
   "outputs": [
    {
     "data": {
      "image/png": "[encoded data removed]",
      "text/plain": [
       "<Figure size 432x288 with 1 Axes>"
      ]
     },
     "metadata": {
      "needs_background": "light"
     },
     "output_type": "display_data"
    }
   ],
   "source": [
    "from collections import Counter\n",
    "sns.barplot(pd.DataFrame(Counter(ham_corpus).most_common(30))[0],pd.DataFrame(Counter(ham_corpus).most_common(30))[1])\n",
    "plt.xticks(rotation='vertical')\n",
    "plt.show()"
   ]
  },
  {
   "cell_type": "code",
   "execution_count": 58,
   "id": "b2ef7327",
   "metadata": {
    "execution": {
     "iopub.execute_input": "2022-11-12T20:46:42.783813Z",
     "iopub.status.busy": "2022-11-12T20:46:42.783390Z",
     "iopub.status.idle": "2022-11-12T20:46:42.796243Z",
     "shell.execute_reply": "2022-11-12T20:46:42.795369Z"
    },
    "papermill": {
     "duration": 0.053252,
     "end_time": "2022-11-12T20:46:42.798386",
     "exception": false,
     "start_time": "2022-11-12T20:46:42.745134",
     "status": "completed"
    },
    "tags": []
   },
   "outputs": [
    {
     "data": {
      "text/html": [
       "<div>\n",
       "<style scoped>\n",
       "    .dataframe tbody tr th:only-of-type {\n",
       "        vertical-align: middle;\n",
       "    }\n",
       "\n",
       "    .dataframe tbody tr th {\n",
       "        vertical-align: top;\n",
       "    }\n",
       "\n",
       "    .dataframe thead th {\n",
       "        text-align: right;\n",
       "    }\n",
       "</style>\n",
       "<table border=\"1\" class=\"dataframe\">\n",
       "  <thead>\n",
       "    <tr style=\"text-align: right;\">\n",
       "      <th></th>\n",
       "      <th>target</th>\n",
       "      <th>text</th>\n",
       "      <th>num_characters</th>\n",
       "      <th>num_words</th>\n",
       "      <th>num_sentences</th>\n",
       "      <th>transformed_text</th>\n",
       "    </tr>\n",
       "  </thead>\n",
       "  <tbody>\n",
       "    <tr>\n",
       "      <th>0</th>\n",
       "      <td>0</td>\n",
       "      <td>Go until jurong point, crazy.. Available only ...</td>\n",
       "      <td>111</td>\n",
       "      <td>24</td>\n",
       "      <td>2</td>\n",
       "      <td>go jurong point crazi avail bugi n great world...</td>\n",
       "    </tr>\n",
       "    <tr>\n",
       "      <th>1</th>\n",
       "      <td>0</td>\n",
       "      <td>Ok lar... Joking wif u oni...</td>\n",
       "      <td>29</td>\n",
       "      <td>8</td>\n",
       "      <td>2</td>\n",
       "      <td>ok lar joke wif u oni</td>\n",
       "    </tr>\n",
       "    <tr>\n",
       "      <th>2</th>\n",
       "      <td>1</td>\n",
       "      <td>Free entry in 2 a wkly comp to win FA Cup fina...</td>\n",
       "      <td>155</td>\n",
       "      <td>37</td>\n",
       "      <td>2</td>\n",
       "      <td>free entri 2 wkli comp win fa cup final tkt 21...</td>\n",
       "    </tr>\n",
       "    <tr>\n",
       "      <th>3</th>\n",
       "      <td>0</td>\n",
       "      <td>U dun say so early hor... U c already then say...</td>\n",
       "      <td>49</td>\n",
       "      <td>13</td>\n",
       "      <td>1</td>\n",
       "      <td>u dun say earli hor u c alreadi say</td>\n",
       "    </tr>\n",
       "    <tr>\n",
       "      <th>4</th>\n",
       "      <td>0</td>\n",
       "      <td>Nah I don't think he goes to usf, he lives aro...</td>\n",
       "      <td>61</td>\n",
       "      <td>15</td>\n",
       "      <td>1</td>\n",
       "      <td>nah think goe usf live around though</td>\n",
       "    </tr>\n",
       "  </tbody>\n",
       "</table>\n",
       "</div>"
      ],
      "text/plain": [
       "   target                                               text  num_characters  \\\n",
       "0       0  Go until jurong point, crazy.. Available only ...             111   \n",
       "1       0                      Ok lar... Joking wif u oni...              29   \n",
       "2       1  Free entry in 2 a wkly comp to win FA Cup fina...             155   \n",
       "3       0  U dun say so early hor... U c already then say...              49   \n",
       "4       0  Nah I don't think he goes to usf, he lives aro...              61   \n",
       "\n",
       "   num_words  num_sentences                                   transformed_text  \n",
       "0         24              2  go jurong point crazi avail bugi n great world...  \n",
       "1          8              2                              ok lar joke wif u oni  \n",
       "2         37              2  free entri 2 wkli comp win fa cup final tkt 21...  \n",
       "3         13              1                u dun say earli hor u c alreadi say  \n",
       "4         15              1               nah think goe usf live around though  "
      ]
     },
     "execution_count": 58,
     "metadata": {},
     "output_type": "execute_result"
    }
   ],
   "source": [
    "# Text Vectorization\n",
    "# using Bag of Words\n",
    "df.head()"
   ]
  },
  {
   "cell_type": "markdown",
   "id": "e9e81eb2",
   "metadata": {
    "papermill": {
     "duration": 0.037839,
     "end_time": "2022-11-12T20:46:42.872906",
     "exception": false,
     "start_time": "2022-11-12T20:46:42.835067",
     "status": "completed"
    },
    "tags": []
   },
   "source": [
    "## 4. Model Building"
   ]
  },
  {
   "cell_type": "code",
   "execution_count": 59,
   "id": "62130d65",
   "metadata": {
    "execution": {
     "iopub.execute_input": "2022-11-12T20:46:42.949117Z",
     "iopub.status.busy": "2022-11-12T20:46:42.948389Z",
     "iopub.status.idle": "2022-11-12T20:46:42.953458Z",
     "shell.execute_reply": "2022-11-12T20:46:42.952372Z"
    },
    "papermill": {
     "duration": 0.045458,
     "end_time": "2022-11-12T20:46:42.955711",
     "exception": false,
     "start_time": "2022-11-12T20:46:42.910253",
     "status": "completed"
    },
    "tags": []
   },
   "outputs": [],
   "source": [
    "from sklearn.feature_extraction.text import CountVectorizer,TfidfVectorizer\n",
    "cv = CountVectorizer()\n",
    "tfidf = TfidfVectorizer(max_features=3000)"
   ]
  },
  {
   "cell_type": "code",
   "execution_count": 60,
   "id": "90e9b19d",
   "metadata": {
    "execution": {
     "iopub.execute_input": "2022-11-12T20:46:43.031788Z",
     "iopub.status.busy": "2022-11-12T20:46:43.031027Z",
     "iopub.status.idle": "2022-11-12T20:46:43.230730Z",
     "shell.execute_reply": "2022-11-12T20:46:43.229484Z"
    },
    "papermill": {
     "duration": 0.240725,
     "end_time": "2022-11-12T20:46:43.233580",
     "exception": false,
     "start_time": "2022-11-12T20:46:42.992855",
     "status": "completed"
    },
    "tags": []
   },
   "outputs": [],
   "source": [
    "X = tfidf.fit_transform(df['transformed_text']).toarray()"
   ]
  },
  {
   "cell_type": "code",
   "execution_count": 61,
   "id": "87739ecd",
   "metadata": {
    "execution": {
     "iopub.execute_input": "2022-11-12T20:46:43.308367Z",
     "iopub.status.busy": "2022-11-12T20:46:43.307971Z",
     "iopub.status.idle": "2022-11-12T20:46:43.314965Z",
     "shell.execute_reply": "2022-11-12T20:46:43.313770Z"
    },
    "papermill": {
     "duration": 0.04754,
     "end_time": "2022-11-12T20:46:43.317234",
     "exception": false,
     "start_time": "2022-11-12T20:46:43.269694",
     "status": "completed"
    },
    "tags": []
   },
   "outputs": [
    {
     "data": {
      "text/plain": [
       "(5169, 3000)"
      ]
     },
     "execution_count": 61,
     "metadata": {},
     "output_type": "execute_result"
    }
   ],
   "source": [
    "X.shape"
   ]
  },
  {
   "cell_type": "code",
   "execution_count": 62,
   "id": "7319de1e",
   "metadata": {
    "execution": {
     "iopub.execute_input": "2022-11-12T20:46:43.391624Z",
     "iopub.status.busy": "2022-11-12T20:46:43.391217Z",
     "iopub.status.idle": "2022-11-12T20:46:43.396329Z",
     "shell.execute_reply": "2022-11-12T20:46:43.395169Z"
    },
    "papermill": {
     "duration": 0.045538,
     "end_time": "2022-11-12T20:46:43.398813",
     "exception": false,
     "start_time": "2022-11-12T20:46:43.353275",
     "status": "completed"
    },
    "tags": []
   },
   "outputs": [],
   "source": [
    "y = df['target'].values"
   ]
  },
  {
   "cell_type": "code",
   "execution_count": 63,
   "id": "627a795f",
   "metadata": {
    "execution": {
     "iopub.execute_input": "2022-11-12T20:46:43.473843Z",
     "iopub.status.busy": "2022-11-12T20:46:43.473450Z",
     "iopub.status.idle": "2022-11-12T20:46:43.478644Z",
     "shell.execute_reply": "2022-11-12T20:46:43.477177Z"
    },
    "papermill": {
     "duration": 0.045674,
     "end_time": "2022-11-12T20:46:43.481058",
     "exception": false,
     "start_time": "2022-11-12T20:46:43.435384",
     "status": "completed"
    },
    "tags": []
   },
   "outputs": [],
   "source": [
    "from sklearn.model_selection import train_test_split"
   ]
  },
  {
   "cell_type": "code",
   "execution_count": 64,
   "id": "951c9f98",
   "metadata": {
    "execution": {
     "iopub.execute_input": "2022-11-12T20:46:43.556116Z",
     "iopub.status.busy": "2022-11-12T20:46:43.555688Z",
     "iopub.status.idle": "2022-11-12T20:46:43.630777Z",
     "shell.execute_reply": "2022-11-12T20:46:43.629579Z"
    },
    "papermill": {
     "duration": 0.11536,
     "end_time": "2022-11-12T20:46:43.633430",
     "exception": false,
     "start_time": "2022-11-12T20:46:43.518070",
     "status": "completed"
    },
    "tags": []
   },
   "outputs": [],
   "source": [
    "X_train,X_test,y_train,y_test = train_test_split(X,y,test_size=0.2,random_state=2)"
   ]
  },
  {
   "cell_type": "code",
   "execution_count": 65,
   "id": "894ef229",
   "metadata": {
    "execution": {
     "iopub.execute_input": "2022-11-12T20:46:43.708718Z",
     "iopub.status.busy": "2022-11-12T20:46:43.708299Z",
     "iopub.status.idle": "2022-11-12T20:46:43.716433Z",
     "shell.execute_reply": "2022-11-12T20:46:43.715070Z"
    },
    "papermill": {
     "duration": 0.049725,
     "end_time": "2022-11-12T20:46:43.719007",
     "exception": false,
     "start_time": "2022-11-12T20:46:43.669282",
     "status": "completed"
    },
    "tags": []
   },
   "outputs": [],
   "source": [
    "from sklearn.naive_bayes import GaussianNB,MultinomialNB,BernoulliNB\n",
    "from sklearn.metrics import accuracy_score,confusion_matrix,precision_score"
   ]
  },
  {
   "cell_type": "code",
   "execution_count": 66,
   "id": "c29e471c",
   "metadata": {
    "execution": {
     "iopub.execute_input": "2022-11-12T20:46:43.793651Z",
     "iopub.status.busy": "2022-11-12T20:46:43.793232Z",
     "iopub.status.idle": "2022-11-12T20:46:43.798752Z",
     "shell.execute_reply": "2022-11-12T20:46:43.797512Z"
    },
    "papermill": {
     "duration": 0.0459,
     "end_time": "2022-11-12T20:46:43.801432",
     "exception": false,
     "start_time": "2022-11-12T20:46:43.755532",
     "status": "completed"
    },
    "tags": []
   },
   "outputs": [],
   "source": [
    "gnb = GaussianNB()\n",
    "mnb = MultinomialNB()\n",
    "bnb = BernoulliNB()"
   ]
  },
  {
   "cell_type": "code",
   "execution_count": 67,
   "id": "597e7755",
   "metadata": {
    "execution": {
     "iopub.execute_input": "2022-11-12T20:46:43.876134Z",
     "iopub.status.busy": "2022-11-12T20:46:43.875714Z",
     "iopub.status.idle": "2022-11-12T20:46:44.154399Z",
     "shell.execute_reply": "2022-11-12T20:46:44.152285Z"
    },
    "papermill": {
     "duration": 0.319773,
     "end_time": "2022-11-12T20:46:44.157456",
     "exception": false,
     "start_time": "2022-11-12T20:46:43.837683",
     "status": "completed"
    },
    "tags": []
   },
   "outputs": [
    {
     "name": "stdout",
     "output_type": "stream",
     "text": [
      "0.8694390715667312\n",
      "[[788 108]\n",
      " [ 27 111]]\n",
      "0.5068493150684932\n"
     ]
    }
   ],
   "source": [
    "gnb.fit(X_train,y_train)\n",
    "y_pred1 = gnb.predict(X_test)\n",
    "print(accuracy_score(y_test,y_pred1))\n",
    "print(confusion_matrix(y_test,y_pred1))\n",
    "print(precision_score(y_test,y_pred1))"
   ]
  },
  {
   "cell_type": "code",
   "execution_count": 68,
   "id": "70f952d6",
   "metadata": {
    "execution": {
     "iopub.execute_input": "2022-11-12T20:46:44.234580Z",
     "iopub.status.busy": "2022-11-12T20:46:44.234177Z",
     "iopub.status.idle": "2022-11-12T20:46:44.295757Z",
     "shell.execute_reply": "2022-11-12T20:46:44.293942Z"
    },
    "papermill": {
     "duration": 0.106164,
     "end_time": "2022-11-12T20:46:44.301349",
     "exception": false,
     "start_time": "2022-11-12T20:46:44.195185",
     "status": "completed"
    },
    "tags": []
   },
   "outputs": [
    {
     "name": "stdout",
     "output_type": "stream",
     "text": [
      "0.9709864603481625\n",
      "[[896   0]\n",
      " [ 30 108]]\n",
      "1.0\n"
     ]
    }
   ],
   "source": [
    "mnb.fit(X_train,y_train)\n",
    "y_pred2 = mnb.predict(X_test)\n",
    "print(accuracy_score(y_test,y_pred2))\n",
    "print(confusion_matrix(y_test,y_pred2))\n",
    "cm=confusion_matrix(y_test,y_pred2)\n",
    "print(precision_score(y_test,y_pred2))"
   ]
  },
  {
   "cell_type": "code",
   "execution_count": 69,
   "id": "5fd8311d",
   "metadata": {
    "execution": {
     "iopub.execute_input": "2022-11-12T20:46:44.439833Z",
     "iopub.status.busy": "2022-11-12T20:46:44.439410Z",
     "iopub.status.idle": "2022-11-12T20:46:44.700927Z",
     "shell.execute_reply": "2022-11-12T20:46:44.699681Z"
    },
    "papermill": {
     "duration": 0.308527,
     "end_time": "2022-11-12T20:46:44.704276",
     "exception": false,
     "start_time": "2022-11-12T20:46:44.395749",
     "status": "completed"
    },
    "tags": []
   },
   "outputs": [
    {
     "data": {
      "image/png": "[encoded data removed]",
      "text/plain": [
       "<Figure size 576x360 with 2 Axes>"
      ]
     },
     "metadata": {
      "needs_background": "light"
     },
     "output_type": "display_data"
    }
   ],
   "source": [
    "plt.figure(figsize=(8,5))\n",
    "plt.title(\"Confusion Matrix Multinomial Naive Bayes\")\n",
    "sns.heatmap(cm, annot=True, fmt='g')\n",
    "plt.show()"
   ]
  },
  {
   "cell_type": "code",
   "execution_count": 70,
   "id": "6d27f479",
   "metadata": {
    "execution": {
     "iopub.execute_input": "2022-11-12T20:46:44.780567Z",
     "iopub.status.busy": "2022-11-12T20:46:44.779464Z",
     "iopub.status.idle": "2022-11-12T20:46:44.952991Z",
     "shell.execute_reply": "2022-11-12T20:46:44.951598Z"
    },
    "papermill": {
     "duration": 0.215365,
     "end_time": "2022-11-12T20:46:44.957117",
     "exception": false,
     "start_time": "2022-11-12T20:46:44.741752",
     "status": "completed"
    },
    "tags": []
   },
   "outputs": [
    {
     "name": "stdout",
     "output_type": "stream",
     "text": [
      "0.9835589941972921\n",
      "[[895   1]\n",
      " [ 16 122]]\n",
      "0.991869918699187\n"
     ]
    }
   ],
   "source": [
    "bnb.fit(X_train,y_train)\n",
    "y_pred3 = bnb.predict(X_test)\n",
    "print(accuracy_score(y_test,y_pred3))\n",
    "print(confusion_matrix(y_test,y_pred3))\n",
    "print(precision_score(y_test,y_pred3))"
   ]
  },
  {
   "cell_type": "code",
   "execution_count": 71,
   "id": "440d94a3",
   "metadata": {
    "execution": {
     "iopub.execute_input": "2022-11-12T20:46:45.098235Z",
     "iopub.status.busy": "2022-11-12T20:46:45.097808Z",
     "iopub.status.idle": "2022-11-12T20:46:45.103219Z",
     "shell.execute_reply": "2022-11-12T20:46:45.101845Z"
    },
    "papermill": {
     "duration": 0.054039,
     "end_time": "2022-11-12T20:46:45.105668",
     "exception": false,
     "start_time": "2022-11-12T20:46:45.051629",
     "status": "completed"
    },
    "tags": []
   },
   "outputs": [],
   "source": [
    "# tfidf --> MNB"
   ]
  },
  {
   "cell_type": "code",
   "execution_count": 72,
   "id": "d40c53e9",
   "metadata": {
    "execution": {
     "iopub.execute_input": "2022-11-12T20:46:45.182863Z",
     "iopub.status.busy": "2022-11-12T20:46:45.181741Z",
     "iopub.status.idle": "2022-11-12T20:46:45.463759Z",
     "shell.execute_reply": "2022-11-12T20:46:45.462488Z"
    },
    "papermill": {
     "duration": 0.323837,
     "end_time": "2022-11-12T20:46:45.466690",
     "exception": false,
     "start_time": "2022-11-12T20:46:45.142853",
     "status": "completed"
    },
    "tags": []
   },
   "outputs": [],
   "source": [
    "from sklearn.linear_model import LogisticRegression\n",
    "from sklearn.svm import SVC\n",
    "from sklearn.naive_bayes import MultinomialNB\n",
    "from sklearn.tree import DecisionTreeClassifier\n",
    "from sklearn.neighbors import KNeighborsClassifier\n",
    "from sklearn.ensemble import RandomForestClassifier\n",
    "from sklearn.ensemble import AdaBoostClassifier\n",
    "from sklearn.ensemble import BaggingClassifier\n",
    "from sklearn.ensemble import ExtraTreesClassifier\n",
    "from sklearn.ensemble import GradientBoostingClassifier\n",
    "from xgboost import XGBClassifier"
   ]
  },
  {
   "cell_type": "code",
   "execution_count": 73,
   "id": "784ec551",
   "metadata": {
    "execution": {
     "iopub.execute_input": "2022-11-12T20:46:45.543600Z",
     "iopub.status.busy": "2022-11-12T20:46:45.543163Z",
     "iopub.status.idle": "2022-11-12T20:46:45.551352Z",
     "shell.execute_reply": "2022-11-12T20:46:45.550164Z"
    },
    "papermill": {
     "duration": 0.049286,
     "end_time": "2022-11-12T20:46:45.553564",
     "exception": false,
     "start_time": "2022-11-12T20:46:45.504278",
     "status": "completed"
    },
    "tags": []
   },
   "outputs": [],
   "source": [
    "svc = SVC(kernel='sigmoid', gamma=1.0)\n",
    "knc = KNeighborsClassifier()\n",
    "mnb = MultinomialNB()\n",
    "bnb = BernoulliNB()\n",
    "dtc = DecisionTreeClassifier(max_depth=5)\n",
    "lrc = LogisticRegression(solver='liblinear', penalty='l1')\n",
    "rfc = RandomForestClassifier(n_estimators=50, random_state=2)\n",
    "abc = AdaBoostClassifier(n_estimators=50, random_state=2)\n",
    "bc = BaggingClassifier(n_estimators=50, random_state=2)\n",
    "etc = ExtraTreesClassifier(n_estimators=50, random_state=2)\n",
    "gbdt = GradientBoostingClassifier(n_estimators=50,random_state=2)\n",
    "xgb = XGBClassifier(n_estimators=50,random_state=2)"
   ]
  },
  {
   "cell_type": "code",
   "execution_count": 74,
   "id": "fcb3f43a",
   "metadata": {
    "execution": {
     "iopub.execute_input": "2022-11-12T20:46:45.628406Z",
     "iopub.status.busy": "2022-11-12T20:46:45.627669Z",
     "iopub.status.idle": "2022-11-12T20:46:45.633247Z",
     "shell.execute_reply": "2022-11-12T20:46:45.632181Z"
    },
    "papermill": {
     "duration": 0.045762,
     "end_time": "2022-11-12T20:46:45.635707",
     "exception": false,
     "start_time": "2022-11-12T20:46:45.589945",
     "status": "completed"
    },
    "tags": []
   },
   "outputs": [],
   "source": [
    "clfs = {\n",
    "    'SVC' : svc,\n",
    "    'KNN' : knc, \n",
    "    'MNB': mnb,\n",
    "    'BNB': bnb,\n",
    "    'DT': dtc, \n",
    "    'LR': lrc, \n",
    "    'RF': rfc, \n",
    "    'AdaBoost': abc, \n",
    "    'BgC': bc, \n",
    "    'ETC': etc,\n",
    "    'GBDT':gbdt,\n",
    "    'xgb':xgb\n",
    "}"
   ]
  },
  {
   "cell_type": "code",
   "execution_count": 75,
   "id": "1736f96e",
   "metadata": {
    "execution": {
     "iopub.execute_input": "2022-11-12T20:46:45.718625Z",
     "iopub.status.busy": "2022-11-12T20:46:45.717842Z",
     "iopub.status.idle": "2022-11-12T20:46:45.723219Z",
     "shell.execute_reply": "2022-11-12T20:46:45.722397Z"
    },
    "papermill": {
     "duration": 0.053235,
     "end_time": "2022-11-12T20:46:45.725897",
     "exception": false,
     "start_time": "2022-11-12T20:46:45.672662",
     "status": "completed"
    },
    "tags": []
   },
   "outputs": [],
   "source": [
    "def train_classifier(clf,X_train,y_train,X_test,y_test):\n",
    "    clf.fit(X_train,y_train)\n",
    "    y_pred = clf.predict(X_test)\n",
    "    accuracy = accuracy_score(y_test,y_pred)\n",
    "    precision = precision_score(y_test,y_pred)\n",
    "    \n",
    "    return accuracy,precision"
   ]
  },
  {
   "cell_type": "code",
   "execution_count": 76,
   "id": "0f404ae9",
   "metadata": {
    "execution": {
     "iopub.execute_input": "2022-11-12T20:46:45.819141Z",
     "iopub.status.busy": "2022-11-12T20:46:45.818422Z",
     "iopub.status.idle": "2022-11-12T20:46:54.738537Z",
     "shell.execute_reply": "2022-11-12T20:46:54.737297Z"
    },
    "papermill": {
     "duration": 8.968355,
     "end_time": "2022-11-12T20:46:54.741146",
     "exception": false,
     "start_time": "2022-11-12T20:46:45.772791",
     "status": "completed"
    },
    "tags": []
   },
   "outputs": [
    {
     "data": {
      "text/plain": [
       "(0.9758220502901354, 0.9747899159663865)"
      ]
     },
     "execution_count": 76,
     "metadata": {},
     "output_type": "execute_result"
    }
   ],
   "source": [
    "train_classifier(svc,X_train,y_train,X_test,y_test)"
   ]
  },
  {
   "cell_type": "code",
   "execution_count": 77,
   "id": "38e29d9a",
   "metadata": {
    "execution": {
     "iopub.execute_input": "2022-11-12T20:46:54.816727Z",
     "iopub.status.busy": "2022-11-12T20:46:54.816296Z",
     "iopub.status.idle": "2022-11-12T20:49:03.420680Z",
     "shell.execute_reply": "2022-11-12T20:49:03.419500Z"
    },
    "papermill": {
     "duration": 128.647063,
     "end_time": "2022-11-12T20:49:03.424806",
     "exception": false,
     "start_time": "2022-11-12T20:46:54.777743",
     "status": "completed"
    },
    "tags": []
   },
   "outputs": [
    {
     "name": "stdout",
     "output_type": "stream",
     "text": [
      "For  SVC\n",
      "Accuracy -  0.9758220502901354\n",
      "Precision -  0.9747899159663865\n",
      "For  KNN\n",
      "Accuracy -  0.9052224371373307\n",
      "Precision -  1.0\n",
      "For  MNB\n",
      "Accuracy -  0.9709864603481625\n",
      "Precision -  1.0\n",
      "For  BNB\n",
      "Accuracy -  0.9835589941972921\n",
      "Precision -  0.991869918699187\n",
      "For  DT\n",
      "Accuracy -  0.9294003868471954\n",
      "Precision -  0.8282828282828283\n",
      "For  LR\n",
      "Accuracy -  0.9584139264990329\n",
      "Precision -  0.9702970297029703\n",
      "For  RF\n",
      "Accuracy -  0.9748549323017408\n",
      "Precision -  0.9827586206896551\n",
      "For  AdaBoost\n",
      "Accuracy -  0.960348162475822\n",
      "Precision -  0.9292035398230089\n",
      "For  BgC\n",
      "Accuracy -  0.9574468085106383\n",
      "Precision -  0.8671875\n",
      "For  ETC\n",
      "Accuracy -  0.9748549323017408\n",
      "Precision -  0.9745762711864406\n",
      "For  GBDT\n",
      "Accuracy -  0.9477756286266924\n",
      "Precision -  0.92\n",
      "For  xgb\n",
      "Accuracy -  0.971953578336557\n",
      "Precision -  0.943089430894309\n"
     ]
    }
   ],
   "source": [
    "accuracy_scores = []\n",
    "precision_scores = []\n",
    "\n",
    "for name,clf in clfs.items():\n",
    "    \n",
    "    current_accuracy,current_precision = train_classifier(clf, X_train,y_train,X_test,y_test)\n",
    "    \n",
    "    print(\"For \",name)\n",
    "    print(\"Accuracy - \",current_accuracy)\n",
    "    print(\"Precision - \",current_precision)\n",
    "    \n",
    "    accuracy_scores.append(current_accuracy)\n",
    "    precision_scores.append(current_precision)"
   ]
  },
  {
   "cell_type": "code",
   "execution_count": 78,
   "id": "31d8cf11",
   "metadata": {
    "execution": {
     "iopub.execute_input": "2022-11-12T20:49:03.533290Z",
     "iopub.status.busy": "2022-11-12T20:49:03.532035Z",
     "iopub.status.idle": "2022-11-12T20:49:03.540609Z",
     "shell.execute_reply": "2022-11-12T20:49:03.539266Z"
    },
    "papermill": {
     "duration": 0.056268,
     "end_time": "2022-11-12T20:49:03.543588",
     "exception": false,
     "start_time": "2022-11-12T20:49:03.487320",
     "status": "completed"
    },
    "tags": []
   },
   "outputs": [],
   "source": [
    "performance_df = pd.DataFrame({'Algorithm':clfs.keys(),'Accuracy':accuracy_scores,'Precision':precision_scores}).sort_values('Precision',ascending=False)"
   ]
  },
  {
   "cell_type": "code",
   "execution_count": 79,
   "id": "af64e687",
   "metadata": {
    "execution": {
     "iopub.execute_input": "2022-11-12T20:49:03.670040Z",
     "iopub.status.busy": "2022-11-12T20:49:03.669563Z",
     "iopub.status.idle": "2022-11-12T20:49:03.685669Z",
     "shell.execute_reply": "2022-11-12T20:49:03.684458Z"
    },
    "papermill": {
     "duration": 0.083797,
     "end_time": "2022-11-12T20:49:03.688568",
     "exception": false,
     "start_time": "2022-11-12T20:49:03.604771",
     "status": "completed"
    },
    "tags": []
   },
   "outputs": [
    {
     "data": {
      "text/html": [
       "<div>\n",
       "<style scoped>\n",
       "    .dataframe tbody tr th:only-of-type {\n",
       "        vertical-align: middle;\n",
       "    }\n",
       "\n",
       "    .dataframe tbody tr th {\n",
       "        vertical-align: top;\n",
       "    }\n",
       "\n",
       "    .dataframe thead th {\n",
       "        text-align: right;\n",
       "    }\n",
       "</style>\n",
       "<table border=\"1\" class=\"dataframe\">\n",
       "  <thead>\n",
       "    <tr style=\"text-align: right;\">\n",
       "      <th></th>\n",
       "      <th>Algorithm</th>\n",
       "      <th>Accuracy</th>\n",
       "      <th>Precision</th>\n",
       "    </tr>\n",
       "  </thead>\n",
       "  <tbody>\n",
       "    <tr>\n",
       "      <th>1</th>\n",
       "      <td>KNN</td>\n",
       "      <td>0.905222</td>\n",
       "      <td>1.000000</td>\n",
       "    </tr>\n",
       "    <tr>\n",
       "      <th>2</th>\n",
       "      <td>MNB</td>\n",
       "      <td>0.970986</td>\n",
       "      <td>1.000000</td>\n",
       "    </tr>\n",
       "    <tr>\n",
       "      <th>3</th>\n",
       "      <td>BNB</td>\n",
       "      <td>0.983559</td>\n",
       "      <td>0.991870</td>\n",
       "    </tr>\n",
       "    <tr>\n",
       "      <th>6</th>\n",
       "      <td>RF</td>\n",
       "      <td>0.974855</td>\n",
       "      <td>0.982759</td>\n",
       "    </tr>\n",
       "    <tr>\n",
       "      <th>0</th>\n",
       "      <td>SVC</td>\n",
       "      <td>0.975822</td>\n",
       "      <td>0.974790</td>\n",
       "    </tr>\n",
       "    <tr>\n",
       "      <th>9</th>\n",
       "      <td>ETC</td>\n",
       "      <td>0.974855</td>\n",
       "      <td>0.974576</td>\n",
       "    </tr>\n",
       "    <tr>\n",
       "      <th>5</th>\n",
       "      <td>LR</td>\n",
       "      <td>0.958414</td>\n",
       "      <td>0.970297</td>\n",
       "    </tr>\n",
       "    <tr>\n",
       "      <th>11</th>\n",
       "      <td>xgb</td>\n",
       "      <td>0.971954</td>\n",
       "      <td>0.943089</td>\n",
       "    </tr>\n",
       "    <tr>\n",
       "      <th>7</th>\n",
       "      <td>AdaBoost</td>\n",
       "      <td>0.960348</td>\n",
       "      <td>0.929204</td>\n",
       "    </tr>\n",
       "    <tr>\n",
       "      <th>10</th>\n",
       "      <td>GBDT</td>\n",
       "      <td>0.947776</td>\n",
       "      <td>0.920000</td>\n",
       "    </tr>\n",
       "    <tr>\n",
       "      <th>8</th>\n",
       "      <td>BgC</td>\n",
       "      <td>0.957447</td>\n",
       "      <td>0.867188</td>\n",
       "    </tr>\n",
       "    <tr>\n",
       "      <th>4</th>\n",
       "      <td>DT</td>\n",
       "      <td>0.929400</td>\n",
       "      <td>0.828283</td>\n",
       "    </tr>\n",
       "  </tbody>\n",
       "</table>\n",
       "</div>"
      ],
      "text/plain": [
       "   Algorithm  Accuracy  Precision\n",
       "1        KNN  0.905222   1.000000\n",
       "2        MNB  0.970986   1.000000\n",
       "3        BNB  0.983559   0.991870\n",
       "6         RF  0.974855   0.982759\n",
       "0        SVC  0.975822   0.974790\n",
       "9        ETC  0.974855   0.974576\n",
       "5         LR  0.958414   0.970297\n",
       "11       xgb  0.971954   0.943089\n",
       "7   AdaBoost  0.960348   0.929204\n",
       "10      GBDT  0.947776   0.920000\n",
       "8        BgC  0.957447   0.867188\n",
       "4         DT  0.929400   0.828283"
      ]
     },
     "execution_count": 79,
     "metadata": {},
     "output_type": "execute_result"
    }
   ],
   "source": [
    "performance_df"
   ]
  },
  {
   "cell_type": "code",
   "execution_count": 80,
   "id": "094a6825",
   "metadata": {
    "execution": {
     "iopub.execute_input": "2022-11-12T20:49:03.776895Z",
     "iopub.status.busy": "2022-11-12T20:49:03.776408Z",
     "iopub.status.idle": "2022-11-12T20:49:03.785987Z",
     "shell.execute_reply": "2022-11-12T20:49:03.784535Z"
    },
    "papermill": {
     "duration": 0.057674,
     "end_time": "2022-11-12T20:49:03.788567",
     "exception": false,
     "start_time": "2022-11-12T20:49:03.730893",
     "status": "completed"
    },
    "tags": []
   },
   "outputs": [],
   "source": [
    "performance_df1 = pd.melt(performance_df, id_vars = \"Algorithm\")"
   ]
  },
  {
   "cell_type": "code",
   "execution_count": 81,
   "id": "2ee0be0a",
   "metadata": {
    "execution": {
     "iopub.execute_input": "2022-11-12T20:49:03.870565Z",
     "iopub.status.busy": "2022-11-12T20:49:03.870085Z",
     "iopub.status.idle": "2022-11-12T20:49:03.884191Z",
     "shell.execute_reply": "2022-11-12T20:49:03.882861Z"
    },
    "papermill": {
     "duration": 0.057358,
     "end_time": "2022-11-12T20:49:03.886579",
     "exception": false,
     "start_time": "2022-11-12T20:49:03.829221",
     "status": "completed"
    },
    "tags": []
   },
   "outputs": [
    {
     "data": {
      "text/html": [
       "<div>\n",
       "<style scoped>\n",
       "    .dataframe tbody tr th:only-of-type {\n",
       "        vertical-align: middle;\n",
       "    }\n",
       "\n",
       "    .dataframe tbody tr th {\n",
       "        vertical-align: top;\n",
       "    }\n",
       "\n",
       "    .dataframe thead th {\n",
       "        text-align: right;\n",
       "    }\n",
       "</style>\n",
       "<table border=\"1\" class=\"dataframe\">\n",
       "  <thead>\n",
       "    <tr style=\"text-align: right;\">\n",
       "      <th></th>\n",
       "      <th>Algorithm</th>\n",
       "      <th>variable</th>\n",
       "      <th>value</th>\n",
       "    </tr>\n",
       "  </thead>\n",
       "  <tbody>\n",
       "    <tr>\n",
       "      <th>0</th>\n",
       "      <td>KNN</td>\n",
       "      <td>Accuracy</td>\n",
       "      <td>0.905222</td>\n",
       "    </tr>\n",
       "    <tr>\n",
       "      <th>1</th>\n",
       "      <td>MNB</td>\n",
       "      <td>Accuracy</td>\n",
       "      <td>0.970986</td>\n",
       "    </tr>\n",
       "    <tr>\n",
       "      <th>2</th>\n",
       "      <td>BNB</td>\n",
       "      <td>Accuracy</td>\n",
       "      <td>0.983559</td>\n",
       "    </tr>\n",
       "    <tr>\n",
       "      <th>3</th>\n",
       "      <td>RF</td>\n",
       "      <td>Accuracy</td>\n",
       "      <td>0.974855</td>\n",
       "    </tr>\n",
       "    <tr>\n",
       "      <th>4</th>\n",
       "      <td>SVC</td>\n",
       "      <td>Accuracy</td>\n",
       "      <td>0.975822</td>\n",
       "    </tr>\n",
       "    <tr>\n",
       "      <th>5</th>\n",
       "      <td>ETC</td>\n",
       "      <td>Accuracy</td>\n",
       "      <td>0.974855</td>\n",
       "    </tr>\n",
       "    <tr>\n",
       "      <th>6</th>\n",
       "      <td>LR</td>\n",
       "      <td>Accuracy</td>\n",
       "      <td>0.958414</td>\n",
       "    </tr>\n",
       "    <tr>\n",
       "      <th>7</th>\n",
       "      <td>xgb</td>\n",
       "      <td>Accuracy</td>\n",
       "      <td>0.971954</td>\n",
       "    </tr>\n",
       "    <tr>\n",
       "      <th>8</th>\n",
       "      <td>AdaBoost</td>\n",
       "      <td>Accuracy</td>\n",
       "      <td>0.960348</td>\n",
       "    </tr>\n",
       "    <tr>\n",
       "      <th>9</th>\n",
       "      <td>GBDT</td>\n",
       "      <td>Accuracy</td>\n",
       "      <td>0.947776</td>\n",
       "    </tr>\n",
       "    <tr>\n",
       "      <th>10</th>\n",
       "      <td>BgC</td>\n",
       "      <td>Accuracy</td>\n",
       "      <td>0.957447</td>\n",
       "    </tr>\n",
       "    <tr>\n",
       "      <th>11</th>\n",
       "      <td>DT</td>\n",
       "      <td>Accuracy</td>\n",
       "      <td>0.929400</td>\n",
       "    </tr>\n",
       "    <tr>\n",
       "      <th>12</th>\n",
       "      <td>KNN</td>\n",
       "      <td>Precision</td>\n",
       "      <td>1.000000</td>\n",
       "    </tr>\n",
       "    <tr>\n",
       "      <th>13</th>\n",
       "      <td>MNB</td>\n",
       "      <td>Precision</td>\n",
       "      <td>1.000000</td>\n",
       "    </tr>\n",
       "    <tr>\n",
       "      <th>14</th>\n",
       "      <td>BNB</td>\n",
       "      <td>Precision</td>\n",
       "      <td>0.991870</td>\n",
       "    </tr>\n",
       "    <tr>\n",
       "      <th>15</th>\n",
       "      <td>RF</td>\n",
       "      <td>Precision</td>\n",
       "      <td>0.982759</td>\n",
       "    </tr>\n",
       "    <tr>\n",
       "      <th>16</th>\n",
       "      <td>SVC</td>\n",
       "      <td>Precision</td>\n",
       "      <td>0.974790</td>\n",
       "    </tr>\n",
       "    <tr>\n",
       "      <th>17</th>\n",
       "      <td>ETC</td>\n",
       "      <td>Precision</td>\n",
       "      <td>0.974576</td>\n",
       "    </tr>\n",
       "    <tr>\n",
       "      <th>18</th>\n",
       "      <td>LR</td>\n",
       "      <td>Precision</td>\n",
       "      <td>0.970297</td>\n",
       "    </tr>\n",
       "    <tr>\n",
       "      <th>19</th>\n",
       "      <td>xgb</td>\n",
       "      <td>Precision</td>\n",
       "      <td>0.943089</td>\n",
       "    </tr>\n",
       "    <tr>\n",
       "      <th>20</th>\n",
       "      <td>AdaBoost</td>\n",
       "      <td>Precision</td>\n",
       "      <td>0.929204</td>\n",
       "    </tr>\n",
       "    <tr>\n",
       "      <th>21</th>\n",
       "      <td>GBDT</td>\n",
       "      <td>Precision</td>\n",
       "      <td>0.920000</td>\n",
       "    </tr>\n",
       "    <tr>\n",
       "      <th>22</th>\n",
       "      <td>BgC</td>\n",
       "      <td>Precision</td>\n",
       "      <td>0.867188</td>\n",
       "    </tr>\n",
       "    <tr>\n",
       "      <th>23</th>\n",
       "      <td>DT</td>\n",
       "      <td>Precision</td>\n",
       "      <td>0.828283</td>\n",
       "    </tr>\n",
       "  </tbody>\n",
       "</table>\n",
       "</div>"
      ],
      "text/plain": [
       "   Algorithm   variable     value\n",
       "0        KNN   Accuracy  0.905222\n",
       "1        MNB   Accuracy  0.970986\n",
       "2        BNB   Accuracy  0.983559\n",
       "3         RF   Accuracy  0.974855\n",
       "4        SVC   Accuracy  0.975822\n",
       "5        ETC   Accuracy  0.974855\n",
       "6         LR   Accuracy  0.958414\n",
       "7        xgb   Accuracy  0.971954\n",
       "8   AdaBoost   Accuracy  0.960348\n",
       "9       GBDT   Accuracy  0.947776\n",
       "10       BgC   Accuracy  0.957447\n",
       "11        DT   Accuracy  0.929400\n",
       "12       KNN  Precision  1.000000\n",
       "13       MNB  Precision  1.000000\n",
       "14       BNB  Precision  0.991870\n",
       "15        RF  Precision  0.982759\n",
       "16       SVC  Precision  0.974790\n",
       "17       ETC  Precision  0.974576\n",
       "18        LR  Precision  0.970297\n",
       "19       xgb  Precision  0.943089\n",
       "20  AdaBoost  Precision  0.929204\n",
       "21      GBDT  Precision  0.920000\n",
       "22       BgC  Precision  0.867188\n",
       "23        DT  Precision  0.828283"
      ]
     },
     "execution_count": 81,
     "metadata": {},
     "output_type": "execute_result"
    }
   ],
   "source": [
    "performance_df1"
   ]
  },
  {
   "cell_type": "code",
   "execution_count": 82,
   "id": "cb051c43",
   "metadata": {
    "execution": {
     "iopub.execute_input": "2022-11-12T20:49:03.967657Z",
     "iopub.status.busy": "2022-11-12T20:49:03.967261Z",
     "iopub.status.idle": "2022-11-12T20:49:04.467423Z",
     "shell.execute_reply": "2022-11-12T20:49:04.466211Z"
    },
    "papermill": {
     "duration": 0.544475,
     "end_time": "2022-11-12T20:49:04.470189",
     "exception": false,
     "start_time": "2022-11-12T20:49:03.925714",
     "status": "completed"
    },
    "tags": []
   },
   "outputs": [
    {
     "data": {
      "image/png": "[encoded data removed]",
      "text/plain": [
       "<Figure size 441.75x360 with 1 Axes>"
      ]
     },
     "metadata": {
      "needs_background": "light"
     },
     "output_type": "display_data"
    }
   ],
   "source": [
    "sns.catplot(x = 'Algorithm', y='value', \n",
    "               hue = 'variable',data=performance_df1, kind='bar',height=5)\n",
    "plt.ylim(0.5,1.0)\n",
    "plt.xticks(rotation='vertical')\n",
    "\n",
    "plt.show()"
   ]
  },
  {
   "cell_type": "code",
   "execution_count": 83,
   "id": "87e08fc5",
   "metadata": {
    "execution": {
     "iopub.execute_input": "2022-11-12T20:49:04.549619Z",
     "iopub.status.busy": "2022-11-12T20:49:04.549195Z",
     "iopub.status.idle": "2022-11-12T20:49:04.553901Z",
     "shell.execute_reply": "2022-11-12T20:49:04.552816Z"
    },
    "papermill": {
     "duration": 0.047025,
     "end_time": "2022-11-12T20:49:04.556533",
     "exception": false,
     "start_time": "2022-11-12T20:49:04.509508",
     "status": "completed"
    },
    "tags": []
   },
   "outputs": [],
   "source": [
    "# model improve\n",
    "# 1. Change the max_features parameter of TfIdf"
   ]
  },
  {
   "cell_type": "code",
   "execution_count": 84,
   "id": "59f67396",
   "metadata": {
    "execution": {
     "iopub.execute_input": "2022-11-12T20:49:04.642134Z",
     "iopub.status.busy": "2022-11-12T20:49:04.640868Z",
     "iopub.status.idle": "2022-11-12T20:49:04.649557Z",
     "shell.execute_reply": "2022-11-12T20:49:04.648310Z"
    },
    "papermill": {
     "duration": 0.05392,
     "end_time": "2022-11-12T20:49:04.652303",
     "exception": false,
     "start_time": "2022-11-12T20:49:04.598383",
     "status": "completed"
    },
    "tags": []
   },
   "outputs": [],
   "source": [
    "temp_df = pd.DataFrame({'Algorithm':clfs.keys(),'Accuracy_max_ft_3000':accuracy_scores,'Precision_max_ft_3000':precision_scores}).sort_values('Precision_max_ft_3000',ascending=False)"
   ]
  },
  {
   "cell_type": "code",
   "execution_count": 85,
   "id": "fa0d8d00",
   "metadata": {
    "execution": {
     "iopub.execute_input": "2022-11-12T20:49:04.738311Z",
     "iopub.status.busy": "2022-11-12T20:49:04.737644Z",
     "iopub.status.idle": "2022-11-12T20:49:04.744894Z",
     "shell.execute_reply": "2022-11-12T20:49:04.744013Z"
    },
    "papermill": {
     "duration": 0.051851,
     "end_time": "2022-11-12T20:49:04.747201",
     "exception": false,
     "start_time": "2022-11-12T20:49:04.695350",
     "status": "completed"
    },
    "tags": []
   },
   "outputs": [],
   "source": [
    "temp_df = pd.DataFrame({'Algorithm':clfs.keys(),'Accuracy_scaling':accuracy_scores,'Precision_scaling':precision_scores}).sort_values('Precision_scaling',ascending=False)"
   ]
  },
  {
   "cell_type": "code",
   "execution_count": 86,
   "id": "8f8d8cc4",
   "metadata": {
    "execution": {
     "iopub.execute_input": "2022-11-12T20:49:04.827296Z",
     "iopub.status.busy": "2022-11-12T20:49:04.826871Z",
     "iopub.status.idle": "2022-11-12T20:49:04.842117Z",
     "shell.execute_reply": "2022-11-12T20:49:04.841208Z"
    },
    "papermill": {
     "duration": 0.058249,
     "end_time": "2022-11-12T20:49:04.844167",
     "exception": false,
     "start_time": "2022-11-12T20:49:04.785918",
     "status": "completed"
    },
    "tags": []
   },
   "outputs": [],
   "source": [
    "new_df = performance_df.merge(temp_df,on='Algorithm')"
   ]
  },
  {
   "cell_type": "code",
   "execution_count": 87,
   "id": "26fec577",
   "metadata": {
    "execution": {
     "iopub.execute_input": "2022-11-12T20:49:04.925322Z",
     "iopub.status.busy": "2022-11-12T20:49:04.924013Z",
     "iopub.status.idle": "2022-11-12T20:49:04.932813Z",
     "shell.execute_reply": "2022-11-12T20:49:04.931755Z"
    },
    "papermill": {
     "duration": 0.051354,
     "end_time": "2022-11-12T20:49:04.935681",
     "exception": false,
     "start_time": "2022-11-12T20:49:04.884327",
     "status": "completed"
    },
    "tags": []
   },
   "outputs": [],
   "source": [
    "new_df_scaled = new_df.merge(temp_df,on='Algorithm')"
   ]
  },
  {
   "cell_type": "code",
   "execution_count": 88,
   "id": "9e0ee707",
   "metadata": {
    "execution": {
     "iopub.execute_input": "2022-11-12T20:49:05.095617Z",
     "iopub.status.busy": "2022-11-12T20:49:05.094304Z",
     "iopub.status.idle": "2022-11-12T20:49:05.102233Z",
     "shell.execute_reply": "2022-11-12T20:49:05.100878Z"
    },
    "papermill": {
     "duration": 0.127379,
     "end_time": "2022-11-12T20:49:05.104990",
     "exception": false,
     "start_time": "2022-11-12T20:49:04.977611",
     "status": "completed"
    },
    "tags": []
   },
   "outputs": [],
   "source": [
    "temp_df = pd.DataFrame({'Algorithm':clfs.keys(),'Accuracy_num_chars':accuracy_scores,'Precision_num_chars':precision_scores}).sort_values('Precision_num_chars',ascending=False)"
   ]
  },
  {
   "cell_type": "code",
   "execution_count": 89,
   "id": "e98f631a",
   "metadata": {
    "execution": {
     "iopub.execute_input": "2022-11-12T20:49:05.190454Z",
     "iopub.status.busy": "2022-11-12T20:49:05.189719Z",
     "iopub.status.idle": "2022-11-12T20:49:05.211697Z",
     "shell.execute_reply": "2022-11-12T20:49:05.210326Z"
    },
    "papermill": {
     "duration": 0.066041,
     "end_time": "2022-11-12T20:49:05.214226",
     "exception": false,
     "start_time": "2022-11-12T20:49:05.148185",
     "status": "completed"
    },
    "tags": []
   },
   "outputs": [
    {
     "data": {
      "text/html": [
       "<div>\n",
       "<style scoped>\n",
       "    .dataframe tbody tr th:only-of-type {\n",
       "        vertical-align: middle;\n",
       "    }\n",
       "\n",
       "    .dataframe tbody tr th {\n",
       "        vertical-align: top;\n",
       "    }\n",
       "\n",
       "    .dataframe thead th {\n",
       "        text-align: right;\n",
       "    }\n",
       "</style>\n",
       "<table border=\"1\" class=\"dataframe\">\n",
       "  <thead>\n",
       "    <tr style=\"text-align: right;\">\n",
       "      <th></th>\n",
       "      <th>Algorithm</th>\n",
       "      <th>Accuracy</th>\n",
       "      <th>Precision</th>\n",
       "      <th>Accuracy_scaling_x</th>\n",
       "      <th>Precision_scaling_x</th>\n",
       "      <th>Accuracy_scaling_y</th>\n",
       "      <th>Precision_scaling_y</th>\n",
       "      <th>Accuracy_num_chars</th>\n",
       "      <th>Precision_num_chars</th>\n",
       "    </tr>\n",
       "  </thead>\n",
       "  <tbody>\n",
       "    <tr>\n",
       "      <th>0</th>\n",
       "      <td>KNN</td>\n",
       "      <td>0.905222</td>\n",
       "      <td>1.000000</td>\n",
       "      <td>0.905222</td>\n",
       "      <td>1.000000</td>\n",
       "      <td>0.905222</td>\n",
       "      <td>1.000000</td>\n",
       "      <td>0.905222</td>\n",
       "      <td>1.000000</td>\n",
       "    </tr>\n",
       "    <tr>\n",
       "      <th>1</th>\n",
       "      <td>MNB</td>\n",
       "      <td>0.970986</td>\n",
       "      <td>1.000000</td>\n",
       "      <td>0.970986</td>\n",
       "      <td>1.000000</td>\n",
       "      <td>0.970986</td>\n",
       "      <td>1.000000</td>\n",
       "      <td>0.970986</td>\n",
       "      <td>1.000000</td>\n",
       "    </tr>\n",
       "    <tr>\n",
       "      <th>2</th>\n",
       "      <td>BNB</td>\n",
       "      <td>0.983559</td>\n",
       "      <td>0.991870</td>\n",
       "      <td>0.983559</td>\n",
       "      <td>0.991870</td>\n",
       "      <td>0.983559</td>\n",
       "      <td>0.991870</td>\n",
       "      <td>0.983559</td>\n",
       "      <td>0.991870</td>\n",
       "    </tr>\n",
       "    <tr>\n",
       "      <th>3</th>\n",
       "      <td>RF</td>\n",
       "      <td>0.974855</td>\n",
       "      <td>0.982759</td>\n",
       "      <td>0.974855</td>\n",
       "      <td>0.982759</td>\n",
       "      <td>0.974855</td>\n",
       "      <td>0.982759</td>\n",
       "      <td>0.974855</td>\n",
       "      <td>0.982759</td>\n",
       "    </tr>\n",
       "    <tr>\n",
       "      <th>4</th>\n",
       "      <td>SVC</td>\n",
       "      <td>0.975822</td>\n",
       "      <td>0.974790</td>\n",
       "      <td>0.975822</td>\n",
       "      <td>0.974790</td>\n",
       "      <td>0.975822</td>\n",
       "      <td>0.974790</td>\n",
       "      <td>0.975822</td>\n",
       "      <td>0.974790</td>\n",
       "    </tr>\n",
       "    <tr>\n",
       "      <th>5</th>\n",
       "      <td>ETC</td>\n",
       "      <td>0.974855</td>\n",
       "      <td>0.974576</td>\n",
       "      <td>0.974855</td>\n",
       "      <td>0.974576</td>\n",
       "      <td>0.974855</td>\n",
       "      <td>0.974576</td>\n",
       "      <td>0.974855</td>\n",
       "      <td>0.974576</td>\n",
       "    </tr>\n",
       "    <tr>\n",
       "      <th>6</th>\n",
       "      <td>LR</td>\n",
       "      <td>0.958414</td>\n",
       "      <td>0.970297</td>\n",
       "      <td>0.958414</td>\n",
       "      <td>0.970297</td>\n",
       "      <td>0.958414</td>\n",
       "      <td>0.970297</td>\n",
       "      <td>0.958414</td>\n",
       "      <td>0.970297</td>\n",
       "    </tr>\n",
       "    <tr>\n",
       "      <th>7</th>\n",
       "      <td>xgb</td>\n",
       "      <td>0.971954</td>\n",
       "      <td>0.943089</td>\n",
       "      <td>0.971954</td>\n",
       "      <td>0.943089</td>\n",
       "      <td>0.971954</td>\n",
       "      <td>0.943089</td>\n",
       "      <td>0.971954</td>\n",
       "      <td>0.943089</td>\n",
       "    </tr>\n",
       "    <tr>\n",
       "      <th>8</th>\n",
       "      <td>AdaBoost</td>\n",
       "      <td>0.960348</td>\n",
       "      <td>0.929204</td>\n",
       "      <td>0.960348</td>\n",
       "      <td>0.929204</td>\n",
       "      <td>0.960348</td>\n",
       "      <td>0.929204</td>\n",
       "      <td>0.960348</td>\n",
       "      <td>0.929204</td>\n",
       "    </tr>\n",
       "    <tr>\n",
       "      <th>9</th>\n",
       "      <td>GBDT</td>\n",
       "      <td>0.947776</td>\n",
       "      <td>0.920000</td>\n",
       "      <td>0.947776</td>\n",
       "      <td>0.920000</td>\n",
       "      <td>0.947776</td>\n",
       "      <td>0.920000</td>\n",
       "      <td>0.947776</td>\n",
       "      <td>0.920000</td>\n",
       "    </tr>\n",
       "    <tr>\n",
       "      <th>10</th>\n",
       "      <td>BgC</td>\n",
       "      <td>0.957447</td>\n",
       "      <td>0.867188</td>\n",
       "      <td>0.957447</td>\n",
       "      <td>0.867188</td>\n",
       "      <td>0.957447</td>\n",
       "      <td>0.867188</td>\n",
       "      <td>0.957447</td>\n",
       "      <td>0.867188</td>\n",
       "    </tr>\n",
       "    <tr>\n",
       "      <th>11</th>\n",
       "      <td>DT</td>\n",
       "      <td>0.929400</td>\n",
       "      <td>0.828283</td>\n",
       "      <td>0.929400</td>\n",
       "      <td>0.828283</td>\n",
       "      <td>0.929400</td>\n",
       "      <td>0.828283</td>\n",
       "      <td>0.929400</td>\n",
       "      <td>0.828283</td>\n",
       "    </tr>\n",
       "  </tbody>\n",
       "</table>\n",
       "</div>"
      ],
      "text/plain": [
       "   Algorithm  Accuracy  Precision  Accuracy_scaling_x  Precision_scaling_x  \\\n",
       "0        KNN  0.905222   1.000000            0.905222             1.000000   \n",
       "1        MNB  0.970986   1.000000            0.970986             1.000000   \n",
       "2        BNB  0.983559   0.991870            0.983559             0.991870   \n",
       "3         RF  0.974855   0.982759            0.974855             0.982759   \n",
       "4        SVC  0.975822   0.974790            0.975822             0.974790   \n",
       "5        ETC  0.974855   0.974576            0.974855             0.974576   \n",
       "6         LR  0.958414   0.970297            0.958414             0.970297   \n",
       "7        xgb  0.971954   0.943089            0.971954             0.943089   \n",
       "8   AdaBoost  0.960348   0.929204            0.960348             0.929204   \n",
       "9       GBDT  0.947776   0.920000            0.947776             0.920000   \n",
       "10       BgC  0.957447   0.867188            0.957447             0.867188   \n",
       "11        DT  0.929400   0.828283            0.929400             0.828283   \n",
       "\n",
       "    Accuracy_scaling_y  Precision_scaling_y  Accuracy_num_chars  \\\n",
       "0             0.905222             1.000000            0.905222   \n",
       "1             0.970986             1.000000            0.970986   \n",
       "2             0.983559             0.991870            0.983559   \n",
       "3             0.974855             0.982759            0.974855   \n",
       "4             0.975822             0.974790            0.975822   \n",
       "5             0.974855             0.974576            0.974855   \n",
       "6             0.958414             0.970297            0.958414   \n",
       "7             0.971954             0.943089            0.971954   \n",
       "8             0.960348             0.929204            0.960348   \n",
       "9             0.947776             0.920000            0.947776   \n",
       "10            0.957447             0.867188            0.957447   \n",
       "11            0.929400             0.828283            0.929400   \n",
       "\n",
       "    Precision_num_chars  \n",
       "0              1.000000  \n",
       "1              1.000000  \n",
       "2              0.991870  \n",
       "3              0.982759  \n",
       "4              0.974790  \n",
       "5              0.974576  \n",
       "6              0.970297  \n",
       "7              0.943089  \n",
       "8              0.929204  \n",
       "9              0.920000  \n",
       "10             0.867188  \n",
       "11             0.828283  "
      ]
     },
     "execution_count": 89,
     "metadata": {},
     "output_type": "execute_result"
    }
   ],
   "source": [
    "new_df_scaled.merge(temp_df,on='Algorithm')"
   ]
  },
  {
   "cell_type": "code",
   "execution_count": 90,
   "id": "e7d9ca95",
   "metadata": {
    "execution": {
     "iopub.execute_input": "2022-11-12T20:49:05.294059Z",
     "iopub.status.busy": "2022-11-12T20:49:05.293411Z",
     "iopub.status.idle": "2022-11-12T20:49:05.298615Z",
     "shell.execute_reply": "2022-11-12T20:49:05.297863Z"
    },
    "papermill": {
     "duration": 0.047659,
     "end_time": "2022-11-12T20:49:05.300780",
     "exception": false,
     "start_time": "2022-11-12T20:49:05.253121",
     "status": "completed"
    },
    "tags": []
   },
   "outputs": [],
   "source": [
    "# Applying stacking\n",
    "estimators=[('svm', svc), ('nb', mnb), ('bnb', bnb)]\n",
    "final_estimator=RandomForestClassifier()"
   ]
  },
  {
   "cell_type": "code",
   "execution_count": 91,
   "id": "73bfe2fe",
   "metadata": {
    "execution": {
     "iopub.execute_input": "2022-11-12T20:49:05.381493Z",
     "iopub.status.busy": "2022-11-12T20:49:05.380821Z",
     "iopub.status.idle": "2022-11-12T20:49:05.385716Z",
     "shell.execute_reply": "2022-11-12T20:49:05.384947Z"
    },
    "papermill": {
     "duration": 0.047983,
     "end_time": "2022-11-12T20:49:05.388012",
     "exception": false,
     "start_time": "2022-11-12T20:49:05.340029",
     "status": "completed"
    },
    "tags": []
   },
   "outputs": [],
   "source": [
    "from sklearn.ensemble import StackingClassifier"
   ]
  },
  {
   "cell_type": "code",
   "execution_count": 92,
   "id": "1441a564",
   "metadata": {
    "execution": {
     "iopub.execute_input": "2022-11-12T20:49:05.467841Z",
     "iopub.status.busy": "2022-11-12T20:49:05.467175Z",
     "iopub.status.idle": "2022-11-12T20:49:05.472427Z",
     "shell.execute_reply": "2022-11-12T20:49:05.471456Z"
    },
    "papermill": {
     "duration": 0.048201,
     "end_time": "2022-11-12T20:49:05.474638",
     "exception": false,
     "start_time": "2022-11-12T20:49:05.426437",
     "status": "completed"
    },
    "tags": []
   },
   "outputs": [],
   "source": [
    "clf = StackingClassifier(estimators=estimators, final_estimator=final_estimator)"
   ]
  },
  {
   "cell_type": "code",
   "execution_count": 93,
   "id": "2c8a36f5",
   "metadata": {
    "execution": {
     "iopub.execute_input": "2022-11-12T20:49:05.556709Z",
     "iopub.status.busy": "2022-11-12T20:49:05.555670Z",
     "iopub.status.idle": "2022-11-12T20:49:47.925827Z",
     "shell.execute_reply": "2022-11-12T20:49:47.924157Z"
    },
    "papermill": {
     "duration": 42.494518,
     "end_time": "2022-11-12T20:49:48.008877",
     "exception": false,
     "start_time": "2022-11-12T20:49:05.514359",
     "status": "completed"
    },
    "tags": []
   },
   "outputs": [
    {
     "name": "stdout",
     "output_type": "stream",
     "text": [
      "Accuracy 0.9864603481624759\n",
      "Precision 0.9769230769230769\n"
     ]
    }
   ],
   "source": [
    "clf.fit(X_train,y_train)\n",
    "y_pred = clf.predict(X_test)\n",
    "print(\"Accuracy\",accuracy_score(y_test,y_pred))\n",
    "print(\"Precision\",precision_score(y_test,y_pred))"
   ]
  },
  {
   "cell_type": "code",
   "execution_count": 94,
   "id": "9772c78c",
   "metadata": {
    "execution": {
     "iopub.execute_input": "2022-11-12T20:49:48.089740Z",
     "iopub.status.busy": "2022-11-12T20:49:48.089363Z",
     "iopub.status.idle": "2022-11-12T20:49:48.095259Z",
     "shell.execute_reply": "2022-11-12T20:49:48.094028Z"
    },
    "papermill": {
     "duration": 0.049625,
     "end_time": "2022-11-12T20:49:48.097739",
     "exception": false,
     "start_time": "2022-11-12T20:49:48.048114",
     "status": "completed"
    },
    "tags": []
   },
   "outputs": [],
   "source": [
    "# Voting Classifier\n",
    "svc = SVC(kernel='sigmoid', gamma=1.0,probability=True)\n",
    "mnb = MultinomialNB()\n",
    "etc = ExtraTreesClassifier(n_estimators=50, random_state=2)\n",
    "\n",
    "from sklearn.ensemble import VotingClassifier"
   ]
  },
  {
   "cell_type": "code",
   "execution_count": 95,
   "id": "f73c5167",
   "metadata": {
    "execution": {
     "iopub.execute_input": "2022-11-12T20:49:48.180413Z",
     "iopub.status.busy": "2022-11-12T20:49:48.180025Z",
     "iopub.status.idle": "2022-11-12T20:49:48.185858Z",
     "shell.execute_reply": "2022-11-12T20:49:48.184033Z"
    },
    "papermill": {
     "duration": 0.051419,
     "end_time": "2022-11-12T20:49:48.188277",
     "exception": false,
     "start_time": "2022-11-12T20:49:48.136858",
     "status": "completed"
    },
    "tags": []
   },
   "outputs": [],
   "source": [
    "voting = VotingClassifier(estimators=[('svm', svc), ('nb', mnb), ('bnb', bnb)],voting='soft')"
   ]
  },
  {
   "cell_type": "code",
   "execution_count": 96,
   "id": "da343f92",
   "metadata": {
    "execution": {
     "iopub.execute_input": "2022-11-12T20:49:48.273443Z",
     "iopub.status.busy": "2022-11-12T20:49:48.273016Z",
     "iopub.status.idle": "2022-11-12T20:50:28.838159Z",
     "shell.execute_reply": "2022-11-12T20:50:28.836595Z"
    },
    "papermill": {
     "duration": 40.716367,
     "end_time": "2022-11-12T20:50:28.945856",
     "exception": false,
     "start_time": "2022-11-12T20:49:48.229489",
     "status": "completed"
    },
    "tags": []
   },
   "outputs": [
    {
     "data": {
      "text/plain": [
       "VotingClassifier(estimators=[('svm',\n",
       "                              SVC(gamma=1.0, kernel='sigmoid',\n",
       "                                  probability=True)),\n",
       "                             ('nb', MultinomialNB()), ('bnb', BernoulliNB())],\n",
       "                 voting='soft')"
      ]
     },
     "execution_count": 96,
     "metadata": {},
     "output_type": "execute_result"
    }
   ],
   "source": [
    "voting.fit(X_train,y_train)"
   ]
  },
  {
   "cell_type": "code",
   "execution_count": 97,
   "id": "3dbbe2d7",
   "metadata": {
    "execution": {
     "iopub.execute_input": "2022-11-12T20:50:29.035470Z",
     "iopub.status.busy": "2022-11-12T20:50:29.035058Z",
     "iopub.status.idle": "2022-11-12T20:50:30.437194Z",
     "shell.execute_reply": "2022-11-12T20:50:30.435996Z"
    },
    "papermill": {
     "duration": 1.450796,
     "end_time": "2022-11-12T20:50:30.441298",
     "exception": false,
     "start_time": "2022-11-12T20:50:28.990502",
     "status": "completed"
    },
    "tags": []
   },
   "outputs": [
    {
     "name": "stdout",
     "output_type": "stream",
     "text": [
      "Accuracy 0.9835589941972921\n",
      "Precision 1.0\n"
     ]
    }
   ],
   "source": [
    "y_pred = voting.predict(X_test)\n",
    "print(\"Accuracy\",accuracy_score(y_test,y_pred))\n",
    "print(\"Precision\",precision_score(y_test,y_pred))"
   ]
  },
  {
   "cell_type": "code",
   "execution_count": 98,
   "id": "3ade77a4",
   "metadata": {
    "execution": {
     "iopub.execute_input": "2022-11-12T20:50:30.594839Z",
     "iopub.status.busy": "2022-11-12T20:50:30.594425Z",
     "iopub.status.idle": "2022-11-12T20:50:30.601389Z",
     "shell.execute_reply": "2022-11-12T20:50:30.599957Z"
    },
    "papermill": {
     "duration": 0.053574,
     "end_time": "2022-11-12T20:50:30.603742",
     "exception": false,
     "start_time": "2022-11-12T20:50:30.550168",
     "status": "completed"
    },
    "tags": []
   },
   "outputs": [],
   "source": [
    "conf_m = confusion_matrix(y_test,y_pred)"
   ]
  },
  {
   "cell_type": "code",
   "execution_count": 99,
   "id": "5d2dbf6c",
   "metadata": {
    "execution": {
     "iopub.execute_input": "2022-11-12T20:50:30.686655Z",
     "iopub.status.busy": "2022-11-12T20:50:30.685586Z",
     "iopub.status.idle": "2022-11-12T20:50:30.952389Z",
     "shell.execute_reply": "2022-11-12T20:50:30.950706Z"
    },
    "papermill": {
     "duration": 0.311691,
     "end_time": "2022-11-12T20:50:30.955747",
     "exception": false,
     "start_time": "2022-11-12T20:50:30.644056",
     "status": "completed"
    },
    "tags": []
   },
   "outputs": [
    {
     "data": {
      "image/png": "[encoded data removed]",
      "text/plain": [
       "<Figure size 576x360 with 2 Axes>"
      ]
     },
     "metadata": {
      "needs_background": "light"
     },
     "output_type": "display_data"
    }
   ],
   "source": [
    "plt.figure(figsize=(8,5))\n",
    "plt.title(\"Confusion Matrix for voting classifier\")\n",
    "sns.heatmap(conf_m, annot=True, fmt='g')\n",
    "plt.show()"
   ]
  },
  {
   "cell_type": "code",
   "execution_count": 100,
   "id": "9bd933af",
   "metadata": {
    "execution": {
     "iopub.execute_input": "2022-11-12T20:50:31.044065Z",
     "iopub.status.busy": "2022-11-12T20:50:31.043374Z",
     "iopub.status.idle": "2022-11-12T20:50:31.079323Z",
     "shell.execute_reply": "2022-11-12T20:50:31.078205Z"
    },
    "papermill": {
     "duration": 0.081164,
     "end_time": "2022-11-12T20:50:31.082266",
     "exception": false,
     "start_time": "2022-11-12T20:50:31.001102",
     "status": "completed"
    },
    "tags": []
   },
   "outputs": [],
   "source": [
    "import pickle\n",
    "pickle.dump(tfidf,open('vectorizer.pkl','wb'))\n",
    "pickle.dump(voting,open('model.pkl','wb'))"
   ]
  },
  {
   "cell_type": "code",
   "execution_count": 101,
   "id": "ad4f2670",
   "metadata": {
    "execution": {
     "iopub.execute_input": "2022-11-12T20:50:31.164855Z",
     "iopub.status.busy": "2022-11-12T20:50:31.164241Z",
     "iopub.status.idle": "2022-11-12T20:50:31.175426Z",
     "shell.execute_reply": "2022-11-12T20:50:31.174235Z"
    },
    "papermill": {
     "duration": 0.05444,
     "end_time": "2022-11-12T20:50:31.177680",
     "exception": false,
     "start_time": "2022-11-12T20:50:31.123240",
     "status": "completed"
    },
    "tags": []
   },
   "outputs": [
    {
     "data": {
      "text/plain": [
       "array([[0., 0., 0., ..., 0., 0., 0.]])"
      ]
     },
     "execution_count": 101,
     "metadata": {},
     "output_type": "execute_result"
    }
   ],
   "source": [
    "prediction_text=transform_text(\"Hey, lets watch a movie tonight\")\n",
    "prediction_text=[prediction_text]\n",
    "prediction = tfidf.transform(prediction_text).toarray()\n",
    "prediction.reshape(1,-1)"
   ]
  },
  {
   "cell_type": "code",
   "execution_count": 102,
   "id": "59a33d9e",
   "metadata": {
    "execution": {
     "iopub.execute_input": "2022-11-12T20:50:31.261595Z",
     "iopub.status.busy": "2022-11-12T20:50:31.260821Z",
     "iopub.status.idle": "2022-11-12T20:50:31.272652Z",
     "shell.execute_reply": "2022-11-12T20:50:31.271163Z"
    },
    "papermill": {
     "duration": 0.056919,
     "end_time": "2022-11-12T20:50:31.275201",
     "exception": false,
     "start_time": "2022-11-12T20:50:31.218282",
     "status": "completed"
    },
    "tags": []
   },
   "outputs": [
    {
     "data": {
      "text/plain": [
       "array([0])"
      ]
     },
     "execution_count": 102,
     "metadata": {},
     "output_type": "execute_result"
    }
   ],
   "source": [
    "voting.predict(prediction)"
   ]
  },
  {
   "cell_type": "code",
   "execution_count": null,
   "id": "5cdb36dd",
   "metadata": {
    "papermill": {
     "duration": 0.04181,
     "end_time": "2022-11-12T20:50:31.360848",
     "exception": false,
     "start_time": "2022-11-12T20:50:31.319038",
     "status": "completed"
    },
    "tags": []
   },
   "outputs": [],
   "source": []
  }
 ],
 "metadata": {
  "kernelspec": {
   "display_name": "Python 3",
   "language": "python",
   "name": "python3"
  },
  "language_info": {
   "codemirror_mode": {
    "name": "ipython",
    "version": 3
   },
   "file_extension": ".py",
   "mimetype": "text/x-python",
   "name": "python",
   "nbconvert_exporter": "python",
   "pygments_lexer": "ipython3",
   "version": "3.7.12"
  },
  "papermill": {
   "default_parameters": {},
   "duration": 282.872493,
   "end_time": "2022-11-12T20:50:32.427280",
   "environment_variables": {},
   "exception": null,
   "input_path": "__notebook__.ipynb",
   "output_path": "__notebook__.ipynb",
   "parameters": {},
   "start_time": "2022-11-12T20:45:49.554787",
   "version": "2.3.4"
  }
 },
 "nbformat": 4,
 "nbformat_minor": 5
}
