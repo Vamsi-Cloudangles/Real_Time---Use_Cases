{
 "cells": [
  {
   "cell_type": "code",
   "execution_count": 8,
   "id": "d2640090",
   "metadata": {},
   "outputs": [],
   "source": [
    "import pandas as pd\n",
    "from sklearn.preprocessing import LabelEncoder\n",
    "le = LabelEncoder()\n",
    "from sklearn.model_selection import train_test_split\n",
    "import sklearn.linear_model as sl\n",
    "lr = sl.LinearRegression()\n",
    "import sklearn.tree as tree\n",
    "dtr = tree.DecisionTreeRegressor()\n",
    "import sklearn.ensemble as se\n",
    "rfr = se.RandomForestRegressor(random_state = 42)\n",
    "import sklearn.metrics as mt\n",
    "import math\n",
    "import pickle\n"
   ]
  },
  {
   "cell_type": "code",
   "execution_count": 2,
   "id": "6708732d",
   "metadata": {},
   "outputs": [],
   "source": [
    "dataset = pd.read_csv(\"dataset.csv\")"
   ]
  },
  {
   "cell_type": "code",
   "execution_count": 3,
   "id": "45b3bdc8",
   "metadata": {},
   "outputs": [],
   "source": [
    "duplicate = dataset[dataset.duplicated()]\n",
    "for i in duplicate.index:\n",
    "        print(\"index\", i) \n",
    "        dataset.drop(index = [i], inplace = True)\n",
    "        dataset.reset_index()\n",
    "dataset.drop(columns = 'SI.NO', axis = 1, inplace = True)\n",
    "for col in dataset.select_dtypes(include=\"object\").columns:\n",
    "        dataset[col] = le.fit_transform(dataset[col])"
   ]
  },
  {
   "cell_type": "code",
   "execution_count": 6,
   "id": "e8a25dc5",
   "metadata": {},
   "outputs": [],
   "source": [
    "x = dataset.drop(['price'], axis = 1)\n",
    "y = dataset['price']\n",
    "x_train, x_test, y_train, y_test = train_test_split(x, y, test_size=0.33, random_state = 0)"
   ]
  },
  {
   "cell_type": "code",
   "execution_count": 9,
   "id": "fd1cb58f",
   "metadata": {},
   "outputs": [],
   "source": [
    "score = []\n",
    "model = [lr, dtr, rfr]\n",
    "    \n",
    "lr.fit(x_train,y_train)\n",
    "lrs = lr.score(x_test, y_test)\n",
    "score.append(lrs)\n",
    "\n",
    "dtr.fit(x_train,y_train)\n",
    "dtrs = dtr.score(x_test, y_test)\n",
    "score.append(dtrs)\n",
    "\n",
    "rfr.fit(x_train,y_train)\n",
    "rfrs = rfr.score(x_test, y_test)\n",
    "score.append(rfrs)\n",
    "\n",
    "max_score = max(score)\n",
    "for i in range(len(score)):\n",
    "    if score[i] == max_score:\n",
    "        best_model = model[i]\n",
    "        \n",
    "y_predict = best_model.predict(x_test)\n",
    "MSE = mt.mean_squared_error(y_test, y_predict)\n",
    "RMSE = math.sqrt(MSE)\n",
    "MAE = mt.mean_absolute_error(y_test,y_predict)\n",
    "\n",
    "print(\"Before Hyperparameter Tuning: \")\n",
    "print(model ,\":\" ,score)\n",
    "print(best_model)"
   ]
  },
  {
   "cell_type": "code",
   "execution_count": null,
   "id": "4b6f54d9",
   "metadata": {},
   "outputs": [],
   "source": []
  },
  {
   "cell_type": "code",
   "execution_count": null,
   "id": "6dc9880d",
   "metadata": {},
   "outputs": [],
   "source": []
  }
 ],
 "metadata": {
  "kernelspec": {
   "display_name": "Python 3 (ipykernel)",
   "language": "python",
   "name": "python3"
  },
  "language_info": {
   "codemirror_mode": {
    "name": "ipython",
    "version": 3
   },
   "file_extension": ".py",
   "mimetype": "text/x-python",
   "name": "python",
   "nbconvert_exporter": "python",
   "pygments_lexer": "ipython3",
   "version": "3.10.9"
  },
  "vscode": {
   "interpreter": {
    "hash": "8afbd0e56037f69f8bb1b5ace69929148ce61fdf47b9d6513cfbdb148241aa79"
   }
  }
 },
 "nbformat": 4,
 "nbformat_minor": 5
}
