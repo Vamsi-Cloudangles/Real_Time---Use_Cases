{
 "cells": [
  {
   "cell_type": "code",
   "execution_count": 1,
   "id": "d2640090",
   "metadata": {},
   "outputs": [],
   "source": [
    "import pandas as pd\n",
    "import numpy as np\n",
    "from sklearn.preprocessing import LabelEncoder\n",
    "le = LabelEncoder()\n",
    "from sklearn.model_selection import train_test_split\n",
    "import sklearn.linear_model as sl\n",
    "lr = sl.LinearRegression()\n",
    "import sklearn.tree as tree\n",
    "dtr = tree.DecisionTreeRegressor()\n",
    "import sklearn.ensemble as se\n",
    "rfr = se.RandomForestRegressor(random_state = 42)\n",
    "gbr = se.GradientBoostingRegressor()\n",
    "import sklearn.metrics as mt\n",
    "import math\n",
    "from sklearn.model_selection import RandomizedSearchCV\n",
    "from sklearn.ensemble import RandomForestRegressor\n",
    "from sklearn.model_selection import GridSearchCV"
   ]
  },
  {
   "cell_type": "code",
   "execution_count": 2,
   "id": "6708732d",
   "metadata": {},
   "outputs": [
    {
     "data": {
      "text/html": [
       "<div>\n",
       "<style scoped>\n",
       "    .dataframe tbody tr th:only-of-type {\n",
       "        vertical-align: middle;\n",
       "    }\n",
       "\n",
       "    .dataframe tbody tr th {\n",
       "        vertical-align: top;\n",
       "    }\n",
       "\n",
       "    .dataframe thead th {\n",
       "        text-align: right;\n",
       "    }\n",
       "</style>\n",
       "<table border=\"1\" class=\"dataframe\">\n",
       "  <thead>\n",
       "    <tr style=\"text-align: right;\">\n",
       "      <th></th>\n",
       "      <th>carat</th>\n",
       "      <th>cut</th>\n",
       "      <th>color</th>\n",
       "      <th>clarity</th>\n",
       "      <th>depth</th>\n",
       "      <th>table</th>\n",
       "      <th>price</th>\n",
       "      <th>x</th>\n",
       "      <th>y</th>\n",
       "      <th>z</th>\n",
       "    </tr>\n",
       "  </thead>\n",
       "  <tbody>\n",
       "    <tr>\n",
       "      <th>0</th>\n",
       "      <td>0.23</td>\n",
       "      <td>Ideal</td>\n",
       "      <td>E</td>\n",
       "      <td>SI2</td>\n",
       "      <td>61.5</td>\n",
       "      <td>55.0</td>\n",
       "      <td>326</td>\n",
       "      <td>3.95</td>\n",
       "      <td>3.98</td>\n",
       "      <td>2.43</td>\n",
       "    </tr>\n",
       "    <tr>\n",
       "      <th>1</th>\n",
       "      <td>0.21</td>\n",
       "      <td>Premium</td>\n",
       "      <td>E</td>\n",
       "      <td>SI1</td>\n",
       "      <td>120.8</td>\n",
       "      <td>61.0</td>\n",
       "      <td>326</td>\n",
       "      <td>3.89</td>\n",
       "      <td>3.84</td>\n",
       "      <td>2.31</td>\n",
       "    </tr>\n",
       "    <tr>\n",
       "      <th>2</th>\n",
       "      <td>0.23</td>\n",
       "      <td>Good</td>\n",
       "      <td>E</td>\n",
       "      <td>VS1</td>\n",
       "      <td>56.9</td>\n",
       "      <td>65.0</td>\n",
       "      <td>327</td>\n",
       "      <td>4.05</td>\n",
       "      <td>4.07</td>\n",
       "      <td>2.31</td>\n",
       "    </tr>\n",
       "    <tr>\n",
       "      <th>3</th>\n",
       "      <td>0.29</td>\n",
       "      <td>Premium</td>\n",
       "      <td>I</td>\n",
       "      <td>VS2</td>\n",
       "      <td>62.4</td>\n",
       "      <td>58.0</td>\n",
       "      <td>834</td>\n",
       "      <td>14.20</td>\n",
       "      <td>4.23</td>\n",
       "      <td>2.63</td>\n",
       "    </tr>\n",
       "    <tr>\n",
       "      <th>4</th>\n",
       "      <td>0.31</td>\n",
       "      <td>Good</td>\n",
       "      <td>J</td>\n",
       "      <td>SI2</td>\n",
       "      <td>63.3</td>\n",
       "      <td>58.0</td>\n",
       "      <td>335</td>\n",
       "      <td>4.34</td>\n",
       "      <td>4.35</td>\n",
       "      <td>2.75</td>\n",
       "    </tr>\n",
       "  </tbody>\n",
       "</table>\n",
       "</div>"
      ],
      "text/plain": [
       "   carat      cut color clarity  depth  table  price      x     y     z\n",
       "0   0.23    Ideal     E     SI2   61.5   55.0    326   3.95  3.98  2.43\n",
       "1   0.21  Premium     E     SI1  120.8   61.0    326   3.89  3.84  2.31\n",
       "2   0.23     Good     E     VS1   56.9   65.0    327   4.05  4.07  2.31\n",
       "3   0.29  Premium     I     VS2   62.4   58.0    834  14.20  4.23  2.63\n",
       "4   0.31     Good     J     SI2   63.3   58.0    335   4.34  4.35  2.75"
      ]
     },
     "execution_count": 2,
     "metadata": {},
     "output_type": "execute_result"
    }
   ],
   "source": [
    "dataset = pd.read_csv(\"diamonds.csv\")\n",
    "dataset.head()"
   ]
  },
  {
   "cell_type": "code",
   "execution_count": 3,
   "id": "45b3bdc8",
   "metadata": {},
   "outputs": [],
   "source": [
    "# duplicate = dataset[dataset.duplicated()]\n",
    "# for i in duplicate.index:\n",
    "#         print(\"index\", i) \n",
    "#         dataset.drop(index = [i], inplace = True)\n",
    "#         dataset.reset_index()\n",
    "# dataset.drop(columns = 'SI.NO', axis = 1, inplace = True)\n",
    "for col in dataset.select_dtypes(include=\"object\").columns:\n",
    "        dataset[col] = le.fit_transform(dataset[col])"
   ]
  },
  {
   "cell_type": "code",
   "execution_count": 4,
   "id": "57702ee0",
   "metadata": {},
   "outputs": [],
   "source": [
    "dataset.to_csv(\"Daimond_clean.csv\")"
   ]
  },
  {
   "cell_type": "code",
   "execution_count": 5,
   "id": "e8a25dc5",
   "metadata": {},
   "outputs": [],
   "source": [
    "x = dataset.drop(['price'], axis = 1)\n",
    "y = dataset['price']\n",
    "x_train, x_test, y_train, y_test = train_test_split(x, y, test_size=0.33, random_state = 0)"
   ]
  },
  {
   "cell_type": "markdown",
   "id": "d9576700",
   "metadata": {},
   "source": [
    "### Before Hyperparameter Tuning"
   ]
  },
  {
   "cell_type": "code",
   "execution_count": 6,
   "id": "fd1cb58f",
   "metadata": {},
   "outputs": [
    {
     "name": "stdout",
     "output_type": "stream",
     "text": [
      "LinearRegression()  :  0.8841638998560365\n",
      "DecisionTreeRegressor()  :  0.9654482648655688\n",
      "RandomForestRegressor(random_state=42)  :  0.9808351071602934\n",
      "GradientBoostingRegressor()  :  0.9719700614584699\n",
      "Best_Model : RandomForestRegressor(random_state=42)\n",
      "MSE :  305482.28391724883\n",
      "RMSE :  552.7045177282785\n",
      "MAE :  270.54244493211803\n"
     ]
    }
   ],
   "source": [
    "score = []\n",
    "model = [lr, dtr, rfr, gbr]\n",
    "    \n",
    "lr.fit(x_train,y_train)\n",
    "lrs = lr.score(x_test, y_test)\n",
    "score.append(lrs)\n",
    "\n",
    "dtr.fit(x_train,y_train)\n",
    "dtrs = dtr.score(x_test, y_test)\n",
    "score.append(dtrs)\n",
    "\n",
    "rfr.fit(x_train,y_train)\n",
    "rfrs = rfr.score(x_test, y_test)\n",
    "score.append(rfrs)\n",
    "\n",
    "gbr.fit(x_train,y_train)\n",
    "gbrs = gbr.score(x_test, y_test)\n",
    "score.append(gbrs)\n",
    "\n",
    "max_score = max(score)\n",
    "for i in range(len(score)):\n",
    "    if score[i] == max_score:\n",
    "        best_model = model[i]\n",
    "        \n",
    "y_predict = best_model.predict(x_test)\n",
    "MSE = mt.mean_squared_error(y_test, y_predict)\n",
    "RMSE = math.sqrt(MSE)\n",
    "MAE = mt.mean_absolute_error(y_test,y_predict)\n",
    "\n",
    "for i in range(len(model)):\n",
    "    print(model[i], \" : \", score[i])\n",
    "print(\"Best_Model :\", best_model)\n",
    "print(\"MSE : \", MSE)\n",
    "print(\"RMSE : \", RMSE)\n",
    "print(\"MAE : \", MAE)"
   ]
  },
  {
   "cell_type": "markdown",
   "id": "7c54ccff",
   "metadata": {},
   "source": [
    "### After Hyperparameter Tuning (Random Search)"
   ]
  },
  {
   "cell_type": "code",
   "execution_count": 7,
   "id": "4b6f54d9",
   "metadata": {},
   "outputs": [
    {
     "name": "stdout",
     "output_type": "stream",
     "text": [
      "Fitting 5 folds for each of 100 candidates, totalling 500 fits\n"
     ]
    },
    {
     "name": "stderr",
     "output_type": "stream",
     "text": [
      "C:\\Users\\VamsiMuramreddy\\AppData\\Local\\Programs\\Python\\Python310\\lib\\site-packages\\sklearn\\ensemble\\_forest.py:416: FutureWarning: `max_features='auto'` has been deprecated in 1.1 and will be removed in 1.3. To keep the past behaviour, explicitly set `max_features=1.0` or remove this parameter as it is also the default value for RandomForestRegressors and ExtraTreesRegressors.\n",
      "  warn(\n"
     ]
    },
    {
     "name": "stdout",
     "output_type": "stream",
     "text": [
      "Best Params:  {'n_estimators': 100, 'min_samples_split': 10, 'min_samples_leaf': 1, 'max_features': 'auto', 'max_depth': 40, 'bootstrap': True}\n"
     ]
    }
   ],
   "source": [
    "max_depth = [int(x) for x in np.linspace(10, 120, num = 12)] # maximum number of levels allowed in each decision tree\n",
    "random_grid = {'n_estimators': [5,20,50,100],\n",
    "               'max_features': ['auto', 'sqrt'],\n",
    "               'max_depth': max_depth,\n",
    "               'min_samples_split': [2, 6, 10],\n",
    "               'min_samples_leaf': [1, 3, 4],\n",
    "               'bootstrap': [True, False]}\n",
    "rf_random = RandomizedSearchCV(estimator = rfr, param_distributions = random_grid, n_iter = 100, cv = 5, verbose=2, random_state=35, n_jobs = -1)\n",
    "rf_random.fit(x_train, y_train)\n",
    "print(\"Best Params: \", rf_random.best_params_)"
   ]
  },
  {
   "cell_type": "code",
   "execution_count": 8,
   "id": "d0e9267b",
   "metadata": {},
   "outputs": [
    {
     "data": {
      "text/plain": [
       "{'n_estimators': 100,\n",
       " 'min_samples_split': 10,\n",
       " 'min_samples_leaf': 1,\n",
       " 'max_features': 'auto',\n",
       " 'max_depth': 40,\n",
       " 'bootstrap': True}"
      ]
     },
     "execution_count": 8,
     "metadata": {},
     "output_type": "execute_result"
    }
   ],
   "source": [
    "Best_Params = rf_random.best_params_\n",
    "Best_Params"
   ]
  },
  {
   "cell_type": "code",
   "execution_count": 9,
   "id": "7f460f95",
   "metadata": {},
   "outputs": [
    {
     "name": "stderr",
     "output_type": "stream",
     "text": [
      "C:\\Users\\VamsiMuramreddy\\AppData\\Local\\Programs\\Python\\Python310\\lib\\site-packages\\sklearn\\ensemble\\_forest.py:416: FutureWarning: `max_features='auto'` has been deprecated in 1.1 and will be removed in 1.3. To keep the past behaviour, explicitly set `max_features=1.0` or remove this parameter as it is also the default value for RandomForestRegressors and ExtraTreesRegressors.\n",
      "  warn(\n"
     ]
    },
    {
     "data": {
      "text/plain": [
       "0.9808966458164092"
      ]
     },
     "execution_count": 9,
     "metadata": {},
     "output_type": "execute_result"
    }
   ],
   "source": [
    "randmf = RandomForestRegressor(**Best_Params)\n",
    "randmf.fit(x_train, y_train)\n",
    "randmf.score(x_test, y_test)"
   ]
  },
  {
   "cell_type": "code",
   "execution_count": 10,
   "id": "b698a4d7",
   "metadata": {},
   "outputs": [
    {
     "data": {
      "text/html": [
       "<div>\n",
       "<style scoped>\n",
       "    .dataframe tbody tr th:only-of-type {\n",
       "        vertical-align: middle;\n",
       "    }\n",
       "\n",
       "    .dataframe tbody tr th {\n",
       "        vertical-align: top;\n",
       "    }\n",
       "\n",
       "    .dataframe thead th {\n",
       "        text-align: right;\n",
       "    }\n",
       "</style>\n",
       "<table border=\"1\" class=\"dataframe\">\n",
       "  <thead>\n",
       "    <tr style=\"text-align: right;\">\n",
       "      <th></th>\n",
       "      <th>actual</th>\n",
       "      <th>predicted_prob</th>\n",
       "    </tr>\n",
       "  </thead>\n",
       "  <tbody>\n",
       "    <tr>\n",
       "      <th>33127</th>\n",
       "      <td>816</td>\n",
       "      <td>805.193465</td>\n",
       "    </tr>\n",
       "    <tr>\n",
       "      <th>52245</th>\n",
       "      <td>2487</td>\n",
       "      <td>2386.047567</td>\n",
       "    </tr>\n",
       "    <tr>\n",
       "      <th>3536</th>\n",
       "      <td>3409</td>\n",
       "      <td>2893.494098</td>\n",
       "    </tr>\n",
       "    <tr>\n",
       "      <th>32793</th>\n",
       "      <td>804</td>\n",
       "      <td>909.796927</td>\n",
       "    </tr>\n",
       "    <tr>\n",
       "      <th>33686</th>\n",
       "      <td>838</td>\n",
       "      <td>955.291421</td>\n",
       "    </tr>\n",
       "    <tr>\n",
       "      <th>...</th>\n",
       "      <td>...</td>\n",
       "      <td>...</td>\n",
       "    </tr>\n",
       "    <tr>\n",
       "      <th>27835</th>\n",
       "      <td>651</td>\n",
       "      <td>632.390168</td>\n",
       "    </tr>\n",
       "    <tr>\n",
       "      <th>17728</th>\n",
       "      <td>614</td>\n",
       "      <td>658.913926</td>\n",
       "    </tr>\n",
       "    <tr>\n",
       "      <th>10796</th>\n",
       "      <td>4861</td>\n",
       "      <td>4458.068130</td>\n",
       "    </tr>\n",
       "    <tr>\n",
       "      <th>35318</th>\n",
       "      <td>896</td>\n",
       "      <td>824.187774</td>\n",
       "    </tr>\n",
       "    <tr>\n",
       "      <th>16778</th>\n",
       "      <td>6683</td>\n",
       "      <td>6644.838842</td>\n",
       "    </tr>\n",
       "  </tbody>\n",
       "</table>\n",
       "<p>17804 rows × 2 columns</p>\n",
       "</div>"
      ],
      "text/plain": [
       "       actual  predicted_prob\n",
       "33127     816      805.193465\n",
       "52245    2487     2386.047567\n",
       "3536     3409     2893.494098\n",
       "32793     804      909.796927\n",
       "33686     838      955.291421\n",
       "...       ...             ...\n",
       "27835     651      632.390168\n",
       "17728     614      658.913926\n",
       "10796    4861     4458.068130\n",
       "35318     896      824.187774\n",
       "16778    6683     6644.838842\n",
       "\n",
       "[17804 rows x 2 columns]"
      ]
     },
     "execution_count": 10,
     "metadata": {},
     "output_type": "execute_result"
    }
   ],
   "source": [
    "y_pred_rf1 = pd.DataFrame( { \"actual\": y_test, \n",
    "\"predicted_prob\": randmf.predict( \n",
    "( x_test ) ) } ) \n",
    "y_pred_rf1"
   ]
  },
  {
   "cell_type": "code",
   "execution_count": 11,
   "id": "974fe638",
   "metadata": {},
   "outputs": [
    {
     "name": "stdout",
     "output_type": "stream",
     "text": [
      "MSE :  304501.37735144177\n",
      "RMSE :  551.8164344702337\n",
      "MAE :  272.3802962335965\n"
     ]
    }
   ],
   "source": [
    "y_predict = randmf.predict(x_test)\n",
    "MSE = mt.mean_squared_error(y_test, y_predict)\n",
    "RMSE = math.sqrt(MSE)\n",
    "MAE = mt.mean_absolute_error(y_test,y_predict)\n",
    "print(\"MSE : \", MSE)\n",
    "print(\"RMSE : \", RMSE)\n",
    "print(\"MAE : \", MAE)"
   ]
  },
  {
   "cell_type": "markdown",
   "id": "d6971016",
   "metadata": {},
   "source": [
    "### After Hyperparameter Tuning (Grid Search)"
   ]
  },
  {
   "cell_type": "code",
   "execution_count": 12,
   "id": "9d8991c4",
   "metadata": {},
   "outputs": [
    {
     "name": "stderr",
     "output_type": "stream",
     "text": [
      "C:\\Users\\VamsiMuramreddy\\AppData\\Local\\Programs\\Python\\Python310\\lib\\site-packages\\sklearn\\ensemble\\_forest.py:416: FutureWarning: `max_features='auto'` has been deprecated in 1.1 and will be removed in 1.3. To keep the past behaviour, explicitly set `max_features=1.0` or remove this parameter as it is also the default value for RandomForestRegressors and ExtraTreesRegressors.\n",
      "  warn(\n"
     ]
    },
    {
     "name": "stdout",
     "output_type": "stream",
     "text": [
      "{'bootstrap': True, 'max_features': 'auto', 'min_samples_split': 8, 'n_estimators': 30}\n"
     ]
    }
   ],
   "source": [
    "estimator = RandomForestRegressor() \n",
    "param_grid = { \n",
    "            \"n_estimators\"      : [10,20,30],\n",
    "            \"max_features\"      : [\"auto\", \"sqrt\", \"log2\"],\n",
    "            \"min_samples_split\" : [2,4,8],\n",
    "            \"bootstrap\": [True, False],\n",
    "            }\n",
    "grid = GridSearchCV(estimator, param_grid, n_jobs=-1, cv=5)\n",
    "grid.fit(x_train, y_train)\n",
    "G_Best_Params = grid.best_params_\n",
    "print(G_Best_Params)"
   ]
  },
  {
   "cell_type": "code",
   "execution_count": 13,
   "id": "3ac693b6",
   "metadata": {},
   "outputs": [
    {
     "name": "stderr",
     "output_type": "stream",
     "text": [
      "C:\\Users\\VamsiMuramreddy\\AppData\\Local\\Programs\\Python\\Python310\\lib\\site-packages\\sklearn\\ensemble\\_forest.py:416: FutureWarning: `max_features='auto'` has been deprecated in 1.1 and will be removed in 1.3. To keep the past behaviour, explicitly set `max_features=1.0` or remove this parameter as it is also the default value for RandomForestRegressors and ExtraTreesRegressors.\n",
      "  warn(\n"
     ]
    },
    {
     "data": {
      "text/plain": [
       "0.980759746925934"
      ]
     },
     "execution_count": 13,
     "metadata": {},
     "output_type": "execute_result"
    }
   ],
   "source": [
    "randmf = RandomForestRegressor(**G_Best_Params)\n",
    "randmf.fit(x_train, y_train)\n",
    "randmf.score(x_test, y_test)"
   ]
  },
  {
   "cell_type": "code",
   "execution_count": 14,
   "id": "dddc39f2",
   "metadata": {},
   "outputs": [
    {
     "data": {
      "text/html": [
       "<div>\n",
       "<style scoped>\n",
       "    .dataframe tbody tr th:only-of-type {\n",
       "        vertical-align: middle;\n",
       "    }\n",
       "\n",
       "    .dataframe tbody tr th {\n",
       "        vertical-align: top;\n",
       "    }\n",
       "\n",
       "    .dataframe thead th {\n",
       "        text-align: right;\n",
       "    }\n",
       "</style>\n",
       "<table border=\"1\" class=\"dataframe\">\n",
       "  <thead>\n",
       "    <tr style=\"text-align: right;\">\n",
       "      <th></th>\n",
       "      <th>actual</th>\n",
       "      <th>predicted_prob</th>\n",
       "    </tr>\n",
       "  </thead>\n",
       "  <tbody>\n",
       "    <tr>\n",
       "      <th>33127</th>\n",
       "      <td>816</td>\n",
       "      <td>804.299055</td>\n",
       "    </tr>\n",
       "    <tr>\n",
       "      <th>52245</th>\n",
       "      <td>2487</td>\n",
       "      <td>2386.282520</td>\n",
       "    </tr>\n",
       "    <tr>\n",
       "      <th>3536</th>\n",
       "      <td>3409</td>\n",
       "      <td>2874.067547</td>\n",
       "    </tr>\n",
       "    <tr>\n",
       "      <th>32793</th>\n",
       "      <td>804</td>\n",
       "      <td>917.298620</td>\n",
       "    </tr>\n",
       "    <tr>\n",
       "      <th>33686</th>\n",
       "      <td>838</td>\n",
       "      <td>961.201683</td>\n",
       "    </tr>\n",
       "    <tr>\n",
       "      <th>...</th>\n",
       "      <td>...</td>\n",
       "      <td>...</td>\n",
       "    </tr>\n",
       "    <tr>\n",
       "      <th>27835</th>\n",
       "      <td>651</td>\n",
       "      <td>640.752113</td>\n",
       "    </tr>\n",
       "    <tr>\n",
       "      <th>17728</th>\n",
       "      <td>614</td>\n",
       "      <td>672.318519</td>\n",
       "    </tr>\n",
       "    <tr>\n",
       "      <th>10796</th>\n",
       "      <td>4861</td>\n",
       "      <td>4363.052659</td>\n",
       "    </tr>\n",
       "    <tr>\n",
       "      <th>35318</th>\n",
       "      <td>896</td>\n",
       "      <td>803.854817</td>\n",
       "    </tr>\n",
       "    <tr>\n",
       "      <th>16778</th>\n",
       "      <td>6683</td>\n",
       "      <td>6435.400937</td>\n",
       "    </tr>\n",
       "  </tbody>\n",
       "</table>\n",
       "<p>17804 rows × 2 columns</p>\n",
       "</div>"
      ],
      "text/plain": [
       "       actual  predicted_prob\n",
       "33127     816      804.299055\n",
       "52245    2487     2386.282520\n",
       "3536     3409     2874.067547\n",
       "32793     804      917.298620\n",
       "33686     838      961.201683\n",
       "...       ...             ...\n",
       "27835     651      640.752113\n",
       "17728     614      672.318519\n",
       "10796    4861     4363.052659\n",
       "35318     896      803.854817\n",
       "16778    6683     6435.400937\n",
       "\n",
       "[17804 rows x 2 columns]"
      ]
     },
     "execution_count": 14,
     "metadata": {},
     "output_type": "execute_result"
    }
   ],
   "source": [
    "y_pred_rf1 = pd.DataFrame( { \"actual\": y_test, \n",
    "\"predicted_prob\": randmf.predict( \n",
    "( x_test ) ) } ) \n",
    "y_pred_rf1"
   ]
  },
  {
   "cell_type": "code",
   "execution_count": null,
   "id": "c3136059",
   "metadata": {},
   "outputs": [],
   "source": []
  }
 ],
 "metadata": {
  "kernelspec": {
   "display_name": "Python 3 (ipykernel)",
   "language": "python",
   "name": "python3"
  },
  "language_info": {
   "codemirror_mode": {
    "name": "ipython",
    "version": 3
   },
   "file_extension": ".py",
   "mimetype": "text/x-python",
   "name": "python",
   "nbconvert_exporter": "python",
   "pygments_lexer": "ipython3",
   "version": "3.10.9"
  },
  "vscode": {
   "interpreter": {
    "hash": "8afbd0e56037f69f8bb1b5ace69929148ce61fdf47b9d6513cfbdb148241aa79"
   }
  }
 },
 "nbformat": 4,
 "nbformat_minor": 5
}
