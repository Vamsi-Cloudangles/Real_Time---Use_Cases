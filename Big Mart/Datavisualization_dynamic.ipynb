{
 "cells": [
  {
   "cell_type": "code",
   "execution_count": null,
   "id": "5168c371",
   "metadata": {},
   "outputs": [],
   "source": [
    "import pandas as pd\n",
    "import matplotlib.pyplot as plt\n",
    "import seaborn as sns"
   ]
  },
  {
   "cell_type": "code",
   "execution_count": null,
   "id": "2356b4ba",
   "metadata": {},
   "outputs": [],
   "source": [
    "df = pd.read_csv('bigmart_train.csv')"
   ]
  },
  {
   "cell_type": "code",
   "execution_count": null,
   "id": "5001fcd8",
   "metadata": {},
   "outputs": [],
   "source": [
    "df.head()"
   ]
  },
  {
   "cell_type": "code",
   "execution_count": null,
   "id": "5b9372da",
   "metadata": {},
   "outputs": [],
   "source": [
    "categ = []\n",
    "numer = []\n",
    "for col in df.columns:\n",
    "    if df[col].dtypes == object:\n",
    "        categ.append(col)\n",
    "    else:\n",
    "        numer.append(col)\n",
    "print(categ) \n",
    "print(numer)"
   ]
  },
  {
   "cell_type": "code",
   "execution_count": null,
   "id": "2ba31797",
   "metadata": {},
   "outputs": [],
   "source": [
    "for i in categ:\n",
    "    fig,ax = plt.subplots(1,1, figsize=(5,4))\n",
    "    sns.countplot(x=df[i][1:])"
   ]
  },
  {
   "cell_type": "code",
   "execution_count": null,
   "id": "551e60ff",
   "metadata": {},
   "outputs": [],
   "source": [
    "for i in numer:\n",
    "    fig, ax = plt.subplots(1,1, figsize=(8,4))\n",
    "    sns.distplot(x = df[i][1:])"
   ]
  },
  {
   "cell_type": "code",
   "execution_count": null,
   "id": "89d5620d",
   "metadata": {},
   "outputs": [],
   "source": [
    "for c in categ:\n",
    "    for n in numer:\n",
    "            fig, ax = plt.subplots(1,1, figsize=(8,6))\n",
    "            sns.barplot(data = df, x =c , y =n)     "
   ]
  },
  {
   "cell_type": "code",
   "execution_count": null,
   "id": "70d705ba",
   "metadata": {},
   "outputs": [],
   "source": [
    "df = df.corr()\n",
    "heatmap = sns.heatmap(df, annot = True)"
   ]
  },
  {
   "cell_type": "code",
   "execution_count": null,
   "id": "540de1b7",
   "metadata": {},
   "outputs": [],
   "source": []
  }
 ],
 "metadata": {
  "kernelspec": {
   "display_name": "Python 3 (ipykernel)",
   "language": "python",
   "name": "python3"
  },
  "language_info": {
   "codemirror_mode": {
    "name": "ipython",
    "version": 3
   },
   "file_extension": ".py",
   "mimetype": "text/x-python",
   "name": "python",
   "nbconvert_exporter": "python",
   "pygments_lexer": "ipython3",
   "version": "3.10.9"
  }
 },
 "nbformat": 4,
 "nbformat_minor": 5
}
